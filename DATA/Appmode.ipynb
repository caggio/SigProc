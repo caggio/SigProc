{
 "cells": [
  {
   "cell_type": "code",
   "execution_count": 2,
   "metadata": {},
   "outputs": [
    {
     "data": {
      "application/vnd.jupyter.widget-view+json": {
       "model_id": "7418e734405c47ef8c0d1f2a22858294",
       "version_major": 2,
       "version_minor": 0
      },
      "text/plain": [
       "VBox(children=(Text(value='', disabled=True, layout=Layout(width='190px'), placeholder='0'), HBox(children=(Bu…"
      ]
     },
     "metadata": {},
     "output_type": "display_data"
    }
   ],
   "source": [
    "from __future__ import division\n",
    "import ipywidgets as ipw\n",
    "\n",
    "output = ipw.Text(placeholder=\"0\", layout=ipw.Layout(width=\"190px\"),  disabled=True)\n",
    "\n",
    "def on_click(btn):\n",
    "    if btn.description == \"=\":\n",
    "        try:\n",
    "            output.value = str(eval(output.value))\n",
    "        except:\n",
    "            output.value = \"ERROR\"\n",
    "    elif btn.description == \"AC\":\n",
    "        output.value = \"\"\n",
    "    elif btn.description == \"del\":\n",
    "        output.value = output.value[:-1]\n",
    "    else:\n",
    "        output.value = output.value + btn.description\n",
    "\n",
    "def mk_btn(description):\n",
    "    btn = ipw.Button(description=description, layout=ipw.Layout(width=\"45px\"))\n",
    "    btn.on_click(on_click)\n",
    "    return btn\n",
    "\n",
    "row0 = ipw.HBox([mk_btn(d) for d in (\"(\", \")\", \"del\", \"AC\")])\n",
    "row1 = ipw.HBox([mk_btn(d) for d in (\"7\", \"8\", \"9\", \" / \")])\n",
    "row2 = ipw.HBox([mk_btn(d) for d in (\"4\", \"5\", \"6\", \" * \")])\n",
    "row3 = ipw.HBox([mk_btn(d) for d in (\"1\", \"2\", \"3\", \" - \")])\n",
    "row4 = ipw.HBox([mk_btn(d) for d in (\"0\", \".\", \"=\", \" + \")])\n",
    "ipw.VBox((output, row0, row1, row2, row3, row4))"
   ]
  },
  {
   "cell_type": "code",
   "execution_count": null,
   "metadata": {},
   "outputs": [],
   "source": []
  }
 ],
 "metadata": {
  "kernelspec": {
   "display_name": "Python 3",
   "language": "python",
   "name": "python3"
  },
  "language_info": {
   "codemirror_mode": {
    "name": "ipython",
    "version": 3
   },
   "file_extension": ".py",
   "mimetype": "text/x-python",
   "name": "python",
   "nbconvert_exporter": "python",
   "pygments_lexer": "ipython3",
   "version": "3.6.5"
  },
  "widgets": {
   "application/vnd.jupyter.widget-state+json": {
    "state": {
     "00c980eadc084fbfbde610a15869114e": {
      "model_module": "@jupyter-widgets/base",
      "model_module_version": "1.1.0",
      "model_name": "LayoutModel",
      "state": {}
     },
     "045ee8d9a0784fb1a9f1cb90e913d7a1": {
      "model_module": "@jupyter-widgets/controls",
      "model_module_version": "1.4.0",
      "model_name": "ButtonStyleModel",
      "state": {}
     },
     "05a1b239dc004c9b84a9a23c5e27c14f": {
      "model_module": "@jupyter-widgets/controls",
      "model_module_version": "1.4.0",
      "model_name": "ButtonStyleModel",
      "state": {}
     },
     "0695e9524cc64d8d82b4a1dc670ae17d": {
      "model_module": "@jupyter-widgets/base",
      "model_module_version": "1.1.0",
      "model_name": "LayoutModel",
      "state": {}
     },
     "06fb3e7335cc4d03a4972cf27e159555": {
      "model_module": "@jupyter-widgets/controls",
      "model_module_version": "1.4.0",
      "model_name": "ButtonModel",
      "state": {
       "description": "=",
       "layout": "IPY_MODEL_dc0ffa81675f44dbbeb42393e8cba8ed",
       "style": "IPY_MODEL_b02721e6cd6542daa42ff6c18f9be36e"
      }
     },
     "075f0eaa1da4466d80df6d5c00ab3ac9": {
      "model_module": "@jupyter-widgets/controls",
      "model_module_version": "1.4.0",
      "model_name": "ButtonStyleModel",
      "state": {}
     },
     "07807dda64a045dc914ef049d84b47d0": {
      "model_module": "@jupyter-widgets/base",
      "model_module_version": "1.1.0",
      "model_name": "LayoutModel",
      "state": {
       "width": "190px"
      }
     },
     "0c137efb90bb4e86b532a06fde1790a1": {
      "model_module": "@jupyter-widgets/controls",
      "model_module_version": "1.4.0",
      "model_name": "ButtonModel",
      "state": {
       "description": "1",
       "layout": "IPY_MODEL_b0f83fac4ebe42df9306387b488d0ed1",
       "style": "IPY_MODEL_b354669f44b24d40b82af92c7802fb0c"
      }
     },
     "0d419c905f6c4a20bc1687f565d5bf29": {
      "model_module": "@jupyter-widgets/controls",
      "model_module_version": "1.4.0",
      "model_name": "ButtonModel",
      "state": {
       "description": "7",
       "layout": "IPY_MODEL_574a7a3f2b6e49c5b0a151c366387aa3",
       "style": "IPY_MODEL_50bd7089398c46448fe634c27c419fbd"
      }
     },
     "0d5ff6c7cc7244ba8ee6deaa48eec15b": {
      "model_module": "@jupyter-widgets/controls",
      "model_module_version": "1.4.0",
      "model_name": "ButtonStyleModel",
      "state": {}
     },
     "0f2c3b3856f845268de852105e079330": {
      "model_module": "@jupyter-widgets/controls",
      "model_module_version": "1.4.0",
      "model_name": "ButtonStyleModel",
      "state": {}
     },
     "10833011765147ee86d0d788d8df4911": {
      "model_module": "@jupyter-widgets/controls",
      "model_module_version": "1.4.0",
      "model_name": "ButtonStyleModel",
      "state": {}
     },
     "10c42242565a4fee9379a2cccc825ed7": {
      "model_module": "@jupyter-widgets/controls",
      "model_module_version": "1.4.0",
      "model_name": "HBoxModel",
      "state": {
       "children": [
        "IPY_MODEL_ecaddaac7a7a4eb0acb9ad3c354a5ad2",
        "IPY_MODEL_5e5935aeab2843e59542b86da6627ae2",
        "IPY_MODEL_ae3ee4e28b6f4e11b4f8fac5ad6f80d0",
        "IPY_MODEL_e9307b0072ab41a8a4b60ac0619f27a4"
       ],
       "layout": "IPY_MODEL_3ba7dd61d024490db666dffda7bcce0f"
      }
     },
     "15fc3986ff064eed85a4f84108908a05": {
      "model_module": "@jupyter-widgets/base",
      "model_module_version": "1.1.0",
      "model_name": "LayoutModel",
      "state": {
       "width": "45px"
      }
     },
     "171f5b78dd534e4abf09acdfcac5509d": {
      "model_module": "@jupyter-widgets/controls",
      "model_module_version": "1.4.0",
      "model_name": "ButtonStyleModel",
      "state": {}
     },
     "193452d78d194b0ca5ae88f52a13c971": {
      "model_module": "@jupyter-widgets/base",
      "model_module_version": "1.1.0",
      "model_name": "LayoutModel",
      "state": {
       "width": "45px"
      }
     },
     "1a7aef283b294b4e8a20a42e036d9583": {
      "model_module": "@jupyter-widgets/base",
      "model_module_version": "1.1.0",
      "model_name": "LayoutModel",
      "state": {}
     },
     "1b96bc2bdf7440d8baeef975e0b747cd": {
      "model_module": "@jupyter-widgets/base",
      "model_module_version": "1.1.0",
      "model_name": "LayoutModel",
      "state": {
       "width": "45px"
      }
     },
     "1d042f14d34b4efd95798ae12950088d": {
      "model_module": "@jupyter-widgets/controls",
      "model_module_version": "1.4.0",
      "model_name": "ButtonModel",
      "state": {
       "description": " - ",
       "layout": "IPY_MODEL_86e7fe264d6f4567847ba1f7ba291ead",
       "style": "IPY_MODEL_9f9156b57fd148e386176b1f762057fb"
      }
     },
     "1e9faea8babe46099d833a568325e111": {
      "model_module": "@jupyter-widgets/controls",
      "model_module_version": "1.4.0",
      "model_name": "TextModel",
      "state": {
       "disabled": true,
       "layout": "IPY_MODEL_6e499b42476c4167a0cf878ab6dc6719",
       "placeholder": "0",
       "style": "IPY_MODEL_ef5a8c69f996407895b61afc999279c6"
      }
     },
     "1f1f0d98577741d4bec07862fdfb7c28": {
      "model_module": "@jupyter-widgets/base",
      "model_module_version": "1.1.0",
      "model_name": "LayoutModel",
      "state": {
       "width": "45px"
      }
     },
     "1fe73f291dc3402ba979713caed8513f": {
      "model_module": "@jupyter-widgets/controls",
      "model_module_version": "1.4.0",
      "model_name": "ButtonStyleModel",
      "state": {}
     },
     "2121f15512d04163878756d46bed6f6c": {
      "model_module": "@jupyter-widgets/base",
      "model_module_version": "1.1.0",
      "model_name": "LayoutModel",
      "state": {
       "width": "45px"
      }
     },
     "219918e3df6e4b8e8e2fa8b967a58762": {
      "model_module": "@jupyter-widgets/controls",
      "model_module_version": "1.4.0",
      "model_name": "ButtonStyleModel",
      "state": {}
     },
     "21ad0bbc26ac406a8c3d2b9547faac76": {
      "model_module": "@jupyter-widgets/base",
      "model_module_version": "1.1.0",
      "model_name": "LayoutModel",
      "state": {
       "width": "45px"
      }
     },
     "22b87c8fc66f45c9bd70bfc8e3736ec0": {
      "model_module": "@jupyter-widgets/controls",
      "model_module_version": "1.4.0",
      "model_name": "ButtonStyleModel",
      "state": {}
     },
     "2baa8c4dc6764a3a89992af525a296a6": {
      "model_module": "@jupyter-widgets/controls",
      "model_module_version": "1.4.0",
      "model_name": "ButtonModel",
      "state": {
       "description": "del",
       "layout": "IPY_MODEL_71c0b1e76a6e41779f49abb4ef770504",
       "style": "IPY_MODEL_9b3729d64e374a0ab53bc539e58c3f99"
      }
     },
     "2bba2d37008f4ec4a098034e71a2e767": {
      "model_module": "@jupyter-widgets/base",
      "model_module_version": "1.1.0",
      "model_name": "LayoutModel",
      "state": {}
     },
     "2c7e7b52247942369cbceef7e7235141": {
      "model_module": "@jupyter-widgets/base",
      "model_module_version": "1.1.0",
      "model_name": "LayoutModel",
      "state": {
       "width": "45px"
      }
     },
     "2dc63e3859ad404e8f5df4193494b499": {
      "model_module": "@jupyter-widgets/controls",
      "model_module_version": "1.4.0",
      "model_name": "VBoxModel",
      "state": {
       "children": [
        "IPY_MODEL_95c6f55620ab4d219345383b3cb5ebf9",
        "IPY_MODEL_d5451fc616ef4a149b1804ace89eedd7",
        "IPY_MODEL_e0b805b7636a443ba53d4b99f83455b2",
        "IPY_MODEL_10c42242565a4fee9379a2cccc825ed7",
        "IPY_MODEL_8ae0733579824ebfb161537db8cfacd5",
        "IPY_MODEL_ca1aa08d39ff44828de387afe75cff2e"
       ],
       "layout": "IPY_MODEL_3a964bfecdde4c2bb9f6e6610466b2c9"
      }
     },
     "2dca965aa745492fbc0de0572809d744": {
      "model_module": "@jupyter-widgets/controls",
      "model_module_version": "1.4.0",
      "model_name": "ButtonModel",
      "state": {
       "description": " / ",
       "layout": "IPY_MODEL_e11afb3211c642588c5db821034a5009",
       "style": "IPY_MODEL_ebd46daf4eee480899dc61f8ebc49a00"
      }
     },
     "2e2e2caf20704066be0b26db466dc2a6": {
      "model_module": "@jupyter-widgets/base",
      "model_module_version": "1.1.0",
      "model_name": "LayoutModel",
      "state": {
       "width": "45px"
      }
     },
     "30d012a711924641aef7cc93b4829f15": {
      "model_module": "@jupyter-widgets/controls",
      "model_module_version": "1.4.0",
      "model_name": "ButtonModel",
      "state": {
       "description": ".",
       "layout": "IPY_MODEL_959491eb3a9e45f6afa1c8900aaff22c",
       "style": "IPY_MODEL_d3b7153a6dcc44248e1f226e2bac5d02"
      }
     },
     "3418183112374cc490d50816b87fd2cf": {
      "model_module": "@jupyter-widgets/controls",
      "model_module_version": "1.4.0",
      "model_name": "HBoxModel",
      "state": {
       "children": [
        "IPY_MODEL_c6899621abff48f297bfcea2d048bb4d",
        "IPY_MODEL_4b2f8c7b33e74494955c839ca06fa3d0",
        "IPY_MODEL_06fb3e7335cc4d03a4972cf27e159555",
        "IPY_MODEL_8c1e19c0741647c6b2e83e81239ff002"
       ],
       "layout": "IPY_MODEL_1a7aef283b294b4e8a20a42e036d9583"
      }
     },
     "3a964bfecdde4c2bb9f6e6610466b2c9": {
      "model_module": "@jupyter-widgets/base",
      "model_module_version": "1.1.0",
      "model_name": "LayoutModel",
      "state": {}
     },
     "3b3c4a1be65c471bb5bd3cfffc2f2544": {
      "model_module": "@jupyter-widgets/controls",
      "model_module_version": "1.4.0",
      "model_name": "ButtonModel",
      "state": {
       "description": "3",
       "layout": "IPY_MODEL_f7b0ab71b0da448eaf7b743847cf50f5",
       "style": "IPY_MODEL_783102856aaf4f8e8cd2471242c6ec60"
      }
     },
     "3ba7dd61d024490db666dffda7bcce0f": {
      "model_module": "@jupyter-widgets/base",
      "model_module_version": "1.1.0",
      "model_name": "LayoutModel",
      "state": {}
     },
     "3ca42de329e34b449d0a56e18a09d973": {
      "model_module": "@jupyter-widgets/controls",
      "model_module_version": "1.4.0",
      "model_name": "ButtonStyleModel",
      "state": {}
     },
     "45195ac3c65947b7a03cce53438a8c0d": {
      "model_module": "@jupyter-widgets/base",
      "model_module_version": "1.1.0",
      "model_name": "LayoutModel",
      "state": {
       "width": "45px"
      }
     },
     "49ccaa5069434819a7a66721176ab1da": {
      "model_module": "@jupyter-widgets/controls",
      "model_module_version": "1.4.0",
      "model_name": "ButtonModel",
      "state": {
       "description": "3",
       "layout": "IPY_MODEL_d4edb2599fd04325afb2c8db9148054a",
       "style": "IPY_MODEL_6dd95d5e348b43bfba91fc9fca77cc91"
      }
     },
     "4b2f8c7b33e74494955c839ca06fa3d0": {
      "model_module": "@jupyter-widgets/controls",
      "model_module_version": "1.4.0",
      "model_name": "ButtonModel",
      "state": {
       "description": ".",
       "layout": "IPY_MODEL_f548d24f5f804acdacfcbadd32300bf0",
       "style": "IPY_MODEL_05a1b239dc004c9b84a9a23c5e27c14f"
      }
     },
     "4c9a57c116dc471787dcf7c2e65b9746": {
      "model_module": "@jupyter-widgets/controls",
      "model_module_version": "1.4.0",
      "model_name": "ButtonStyleModel",
      "state": {}
     },
     "4e551e81857e447cb8c726bc876ef066": {
      "model_module": "@jupyter-widgets/controls",
      "model_module_version": "1.4.0",
      "model_name": "ButtonStyleModel",
      "state": {}
     },
     "50bd7089398c46448fe634c27c419fbd": {
      "model_module": "@jupyter-widgets/controls",
      "model_module_version": "1.4.0",
      "model_name": "ButtonStyleModel",
      "state": {}
     },
     "53dfce0c1dfb4297b9cb6c24ac7d7f3b": {
      "model_module": "@jupyter-widgets/controls",
      "model_module_version": "1.4.0",
      "model_name": "ButtonStyleModel",
      "state": {}
     },
     "549a8fc2cf9648d991354c13402ba654": {
      "model_module": "@jupyter-widgets/base",
      "model_module_version": "1.1.0",
      "model_name": "LayoutModel",
      "state": {
       "width": "45px"
      }
     },
     "560f5e361fc84c07ab9e25b2bbd63b16": {
      "model_module": "@jupyter-widgets/base",
      "model_module_version": "1.1.0",
      "model_name": "LayoutModel",
      "state": {
       "width": "45px"
      }
     },
     "568d1d7ea0f64da59f486aeef9b9e9e8": {
      "model_module": "@jupyter-widgets/controls",
      "model_module_version": "1.4.0",
      "model_name": "ButtonModel",
      "state": {
       "description": "6",
       "layout": "IPY_MODEL_45195ac3c65947b7a03cce53438a8c0d",
       "style": "IPY_MODEL_cc0f9e9b500d44afa0282dbda461366c"
      }
     },
     "574a7a3f2b6e49c5b0a151c366387aa3": {
      "model_module": "@jupyter-widgets/base",
      "model_module_version": "1.1.0",
      "model_name": "LayoutModel",
      "state": {
       "width": "45px"
      }
     },
     "582086e876dd466d89579f932e9d445e": {
      "model_module": "@jupyter-widgets/base",
      "model_module_version": "1.1.0",
      "model_name": "LayoutModel",
      "state": {
       "width": "45px"
      }
     },
     "5aa67ab0ae7141679fa58349f74f6832": {
      "model_module": "@jupyter-widgets/controls",
      "model_module_version": "1.4.0",
      "model_name": "ButtonStyleModel",
      "state": {}
     },
     "5e5935aeab2843e59542b86da6627ae2": {
      "model_module": "@jupyter-widgets/controls",
      "model_module_version": "1.4.0",
      "model_name": "ButtonModel",
      "state": {
       "description": "5",
       "layout": "IPY_MODEL_2121f15512d04163878756d46bed6f6c",
       "style": "IPY_MODEL_d8145a2beb8c461b9f68d323ae30b0f7"
      }
     },
     "5ecea91304604814a861532697b69757": {
      "model_module": "@jupyter-widgets/controls",
      "model_module_version": "1.4.0",
      "model_name": "HBoxModel",
      "state": {
       "children": [
        "IPY_MODEL_a5c3962fb1424084bcc2aa28dd010f2a",
        "IPY_MODEL_cc111aaa7b0a44a5bf5f4866828ecbb2",
        "IPY_MODEL_568d1d7ea0f64da59f486aeef9b9e9e8",
        "IPY_MODEL_8155d2ba791d48f1874065d3455b9a9b"
       ],
       "layout": "IPY_MODEL_7059da54fb564bd8a130785b9e50aa09"
      }
     },
     "6093cf4e9c9f4f83ac48fbcd534479ab": {
      "model_module": "@jupyter-widgets/controls",
      "model_module_version": "1.4.0",
      "model_name": "ButtonModel",
      "state": {
       "description": " + ",
       "layout": "IPY_MODEL_8f12be4c48b3448f94137e533bd0fb7d",
       "style": "IPY_MODEL_919eaecde21a487f8ced419660501b48"
      }
     },
     "61d23699be03457dac94cc50a481a419": {
      "model_module": "@jupyter-widgets/base",
      "model_module_version": "1.1.0",
      "model_name": "LayoutModel",
      "state": {}
     },
     "6a781c6b77dd4d658ea783a93b47ef33": {
      "model_module": "@jupyter-widgets/controls",
      "model_module_version": "1.4.0",
      "model_name": "ButtonModel",
      "state": {
       "description": " / ",
       "layout": "IPY_MODEL_93e3c2655d1c41c1b0aa9a1efdf964ed",
       "style": "IPY_MODEL_10833011765147ee86d0d788d8df4911"
      }
     },
     "6ab4e86b010a4b9282d2af622efae954": {
      "model_module": "@jupyter-widgets/base",
      "model_module_version": "1.1.0",
      "model_name": "LayoutModel",
      "state": {
       "width": "45px"
      }
     },
     "6dd95d5e348b43bfba91fc9fca77cc91": {
      "model_module": "@jupyter-widgets/controls",
      "model_module_version": "1.4.0",
      "model_name": "ButtonStyleModel",
      "state": {}
     },
     "6e499b42476c4167a0cf878ab6dc6719": {
      "model_module": "@jupyter-widgets/base",
      "model_module_version": "1.1.0",
      "model_name": "LayoutModel",
      "state": {
       "width": "190px"
      }
     },
     "7059da54fb564bd8a130785b9e50aa09": {
      "model_module": "@jupyter-widgets/base",
      "model_module_version": "1.1.0",
      "model_name": "LayoutModel",
      "state": {}
     },
     "70d4b6753be74c9aba9d2f73eb8018c5": {
      "model_module": "@jupyter-widgets/base",
      "model_module_version": "1.1.0",
      "model_name": "LayoutModel",
      "state": {
       "width": "45px"
      }
     },
     "71c0b1e76a6e41779f49abb4ef770504": {
      "model_module": "@jupyter-widgets/base",
      "model_module_version": "1.1.0",
      "model_name": "LayoutModel",
      "state": {
       "width": "45px"
      }
     },
     "7418e734405c47ef8c0d1f2a22858294": {
      "model_module": "@jupyter-widgets/controls",
      "model_module_version": "1.4.0",
      "model_name": "VBoxModel",
      "state": {
       "children": [
        "IPY_MODEL_1e9faea8babe46099d833a568325e111",
        "IPY_MODEL_b83825035bea43798b1406f0aaa95f9b",
        "IPY_MODEL_ebb3d6574d0a4dfa852cbb3086329ac9",
        "IPY_MODEL_5ecea91304604814a861532697b69757",
        "IPY_MODEL_8e17defa539345fe8ee303a2f5b9e277",
        "IPY_MODEL_3418183112374cc490d50816b87fd2cf"
       ],
       "layout": "IPY_MODEL_f8b5962946044a0c865ad8b1964b8ccb"
      }
     },
     "75205a9dc3f34f64bfe2fdbddecd7e04": {
      "model_module": "@jupyter-widgets/base",
      "model_module_version": "1.1.0",
      "model_name": "LayoutModel",
      "state": {
       "width": "45px"
      }
     },
     "7567d84a50544677837c5d8743bdb1f3": {
      "model_module": "@jupyter-widgets/controls",
      "model_module_version": "1.4.0",
      "model_name": "ButtonModel",
      "state": {
       "description": " - ",
       "layout": "IPY_MODEL_21ad0bbc26ac406a8c3d2b9547faac76",
       "style": "IPY_MODEL_d7eb2b4143bb4afe87bab2816ef85507"
      }
     },
     "7655c03971214c659eb828221595326e": {
      "model_module": "@jupyter-widgets/controls",
      "model_module_version": "1.4.0",
      "model_name": "ButtonModel",
      "state": {
       "description": "AC",
       "layout": "IPY_MODEL_d370a13b8222491a8878ad9d1a748bbc",
       "style": "IPY_MODEL_075f0eaa1da4466d80df6d5c00ab3ac9"
      }
     },
     "783102856aaf4f8e8cd2471242c6ec60": {
      "model_module": "@jupyter-widgets/controls",
      "model_module_version": "1.4.0",
      "model_name": "ButtonStyleModel",
      "state": {}
     },
     "7917e6fd413141e5bc1287b02c436a87": {
      "model_module": "@jupyter-widgets/controls",
      "model_module_version": "1.4.0",
      "model_name": "ButtonModel",
      "state": {
       "description": "8",
       "layout": "IPY_MODEL_996f44da40984c41b4dc57c9118603c8",
       "style": "IPY_MODEL_82578a54a3c343c0974f152cc4488cb4"
      }
     },
     "8155d2ba791d48f1874065d3455b9a9b": {
      "model_module": "@jupyter-widgets/controls",
      "model_module_version": "1.4.0",
      "model_name": "ButtonModel",
      "state": {
       "description": " * ",
       "layout": "IPY_MODEL_2c7e7b52247942369cbceef7e7235141",
       "style": "IPY_MODEL_22b87c8fc66f45c9bd70bfc8e3736ec0"
      }
     },
     "8173c89f0e724a0c902e30284f668de0": {
      "model_module": "@jupyter-widgets/controls",
      "model_module_version": "1.4.0",
      "model_name": "ButtonStyleModel",
      "state": {}
     },
     "81a87496a5534842abc7674fcee18d49": {
      "model_module": "@jupyter-widgets/controls",
      "model_module_version": "1.4.0",
      "model_name": "ButtonModel",
      "state": {
       "description": "(",
       "layout": "IPY_MODEL_aa8fd5d8017443e4aea23c25c0a3f708",
       "style": "IPY_MODEL_d222bfba695b434485ba48b67322df49"
      }
     },
     "82578a54a3c343c0974f152cc4488cb4": {
      "model_module": "@jupyter-widgets/controls",
      "model_module_version": "1.4.0",
      "model_name": "ButtonStyleModel",
      "state": {}
     },
     "8336990180054a5f9a6e2fbd0fd5ebd7": {
      "model_module": "@jupyter-widgets/base",
      "model_module_version": "1.1.0",
      "model_name": "LayoutModel",
      "state": {}
     },
     "86e7fe264d6f4567847ba1f7ba291ead": {
      "model_module": "@jupyter-widgets/base",
      "model_module_version": "1.1.0",
      "model_name": "LayoutModel",
      "state": {
       "width": "45px"
      }
     },
     "8abcfe6a66c443418bc1af1b68168917": {
      "model_module": "@jupyter-widgets/controls",
      "model_module_version": "1.4.0",
      "model_name": "ButtonModel",
      "state": {
       "description": ")",
       "layout": "IPY_MODEL_1f1f0d98577741d4bec07862fdfb7c28",
       "style": "IPY_MODEL_c823427ea4ca4a998b03e611bce21a49"
      }
     },
     "8ae0733579824ebfb161537db8cfacd5": {
      "model_module": "@jupyter-widgets/controls",
      "model_module_version": "1.4.0",
      "model_name": "HBoxModel",
      "state": {
       "children": [
        "IPY_MODEL_0c137efb90bb4e86b532a06fde1790a1",
        "IPY_MODEL_a20b75af54064437bff5ba06b203a16c",
        "IPY_MODEL_3b3c4a1be65c471bb5bd3cfffc2f2544",
        "IPY_MODEL_1d042f14d34b4efd95798ae12950088d"
       ],
       "layout": "IPY_MODEL_61d23699be03457dac94cc50a481a419"
      }
     },
     "8c1e19c0741647c6b2e83e81239ff002": {
      "model_module": "@jupyter-widgets/controls",
      "model_module_version": "1.4.0",
      "model_name": "ButtonModel",
      "state": {
       "description": " + ",
       "layout": "IPY_MODEL_c71a5a3aee404559aa9dbe39b8189cc2",
       "style": "IPY_MODEL_f4e172ce1e4940d1815282864a392839"
      }
     },
     "8e17defa539345fe8ee303a2f5b9e277": {
      "model_module": "@jupyter-widgets/controls",
      "model_module_version": "1.4.0",
      "model_name": "HBoxModel",
      "state": {
       "children": [
        "IPY_MODEL_d8652d8b802e41beb89ce30be9a4097c",
        "IPY_MODEL_d6e52085ac824069aaa6a490a03f1f92",
        "IPY_MODEL_49ccaa5069434819a7a66721176ab1da",
        "IPY_MODEL_7567d84a50544677837c5d8743bdb1f3"
       ],
       "layout": "IPY_MODEL_c962f7c838564d17ac0528f84f33a3e1"
      }
     },
     "8e1c7a2457c54b0ab2d63112456ec1d3": {
      "model_module": "@jupyter-widgets/controls",
      "model_module_version": "1.4.0",
      "model_name": "ButtonStyleModel",
      "state": {}
     },
     "8f12be4c48b3448f94137e533bd0fb7d": {
      "model_module": "@jupyter-widgets/base",
      "model_module_version": "1.1.0",
      "model_name": "LayoutModel",
      "state": {
       "width": "45px"
      }
     },
     "911786d8b55a455d93afd4f1bc829564": {
      "model_module": "@jupyter-widgets/controls",
      "model_module_version": "1.4.0",
      "model_name": "ButtonModel",
      "state": {
       "description": "AC",
       "layout": "IPY_MODEL_549a8fc2cf9648d991354c13402ba654",
       "style": "IPY_MODEL_53dfce0c1dfb4297b9cb6c24ac7d7f3b"
      }
     },
     "919eaecde21a487f8ced419660501b48": {
      "model_module": "@jupyter-widgets/controls",
      "model_module_version": "1.4.0",
      "model_name": "ButtonStyleModel",
      "state": {}
     },
     "93e3c2655d1c41c1b0aa9a1efdf964ed": {
      "model_module": "@jupyter-widgets/base",
      "model_module_version": "1.1.0",
      "model_name": "LayoutModel",
      "state": {
       "width": "45px"
      }
     },
     "959491eb3a9e45f6afa1c8900aaff22c": {
      "model_module": "@jupyter-widgets/base",
      "model_module_version": "1.1.0",
      "model_name": "LayoutModel",
      "state": {
       "width": "45px"
      }
     },
     "95a80aef3568425c8232426d961f4cdf": {
      "model_module": "@jupyter-widgets/controls",
      "model_module_version": "1.4.0",
      "model_name": "ButtonStyleModel",
      "state": {}
     },
     "95c6f55620ab4d219345383b3cb5ebf9": {
      "model_module": "@jupyter-widgets/controls",
      "model_module_version": "1.4.0",
      "model_name": "TextModel",
      "state": {
       "disabled": true,
       "layout": "IPY_MODEL_07807dda64a045dc914ef049d84b47d0",
       "placeholder": "0",
       "style": "IPY_MODEL_bb890a2d92e54e5fabd113197047b7e2"
      }
     },
     "996f44da40984c41b4dc57c9118603c8": {
      "model_module": "@jupyter-widgets/base",
      "model_module_version": "1.1.0",
      "model_name": "LayoutModel",
      "state": {
       "width": "45px"
      }
     },
     "997dce3ec66b4eaaa5c0f9009c19d963": {
      "model_module": "@jupyter-widgets/controls",
      "model_module_version": "1.4.0",
      "model_name": "ButtonStyleModel",
      "state": {}
     },
     "9b3729d64e374a0ab53bc539e58c3f99": {
      "model_module": "@jupyter-widgets/controls",
      "model_module_version": "1.4.0",
      "model_name": "ButtonStyleModel",
      "state": {}
     },
     "9f9156b57fd148e386176b1f762057fb": {
      "model_module": "@jupyter-widgets/controls",
      "model_module_version": "1.4.0",
      "model_name": "ButtonStyleModel",
      "state": {}
     },
     "a20b75af54064437bff5ba06b203a16c": {
      "model_module": "@jupyter-widgets/controls",
      "model_module_version": "1.4.0",
      "model_name": "ButtonModel",
      "state": {
       "description": "2",
       "layout": "IPY_MODEL_70d4b6753be74c9aba9d2f73eb8018c5",
       "style": "IPY_MODEL_997dce3ec66b4eaaa5c0f9009c19d963"
      }
     },
     "a5c3962fb1424084bcc2aa28dd010f2a": {
      "model_module": "@jupyter-widgets/controls",
      "model_module_version": "1.4.0",
      "model_name": "ButtonModel",
      "state": {
       "description": "4",
       "layout": "IPY_MODEL_193452d78d194b0ca5ae88f52a13c971",
       "style": "IPY_MODEL_8e1c7a2457c54b0ab2d63112456ec1d3"
      }
     },
     "aa28418244574ace954b0d9d00c4b0a7": {
      "model_module": "@jupyter-widgets/base",
      "model_module_version": "1.1.0",
      "model_name": "LayoutModel",
      "state": {
       "width": "45px"
      }
     },
     "aa8fd5d8017443e4aea23c25c0a3f708": {
      "model_module": "@jupyter-widgets/base",
      "model_module_version": "1.1.0",
      "model_name": "LayoutModel",
      "state": {
       "width": "45px"
      }
     },
     "ae3ee4e28b6f4e11b4f8fac5ad6f80d0": {
      "model_module": "@jupyter-widgets/controls",
      "model_module_version": "1.4.0",
      "model_name": "ButtonModel",
      "state": {
       "description": "6",
       "layout": "IPY_MODEL_affccec898984b71a0aad1edc0f23572",
       "style": "IPY_MODEL_045ee8d9a0784fb1a9f1cb90e913d7a1"
      }
     },
     "affccec898984b71a0aad1edc0f23572": {
      "model_module": "@jupyter-widgets/base",
      "model_module_version": "1.1.0",
      "model_name": "LayoutModel",
      "state": {
       "width": "45px"
      }
     },
     "b02721e6cd6542daa42ff6c18f9be36e": {
      "model_module": "@jupyter-widgets/controls",
      "model_module_version": "1.4.0",
      "model_name": "ButtonStyleModel",
      "state": {}
     },
     "b0f83fac4ebe42df9306387b488d0ed1": {
      "model_module": "@jupyter-widgets/base",
      "model_module_version": "1.1.0",
      "model_name": "LayoutModel",
      "state": {
       "width": "45px"
      }
     },
     "b33384ed294640b596ab102b67ea63f1": {
      "model_module": "@jupyter-widgets/controls",
      "model_module_version": "1.4.0",
      "model_name": "ButtonModel",
      "state": {
       "description": ")",
       "layout": "IPY_MODEL_75205a9dc3f34f64bfe2fdbddecd7e04",
       "style": "IPY_MODEL_171f5b78dd534e4abf09acdfcac5509d"
      }
     },
     "b354669f44b24d40b82af92c7802fb0c": {
      "model_module": "@jupyter-widgets/controls",
      "model_module_version": "1.4.0",
      "model_name": "ButtonStyleModel",
      "state": {}
     },
     "b3e6b5ea1bb04436a23b2a0455282e9d": {
      "model_module": "@jupyter-widgets/base",
      "model_module_version": "1.1.0",
      "model_name": "LayoutModel",
      "state": {
       "width": "45px"
      }
     },
     "b5a1d24baa2a4e74949dee355400b0f9": {
      "model_module": "@jupyter-widgets/controls",
      "model_module_version": "1.4.0",
      "model_name": "ButtonModel",
      "state": {
       "description": "(",
       "layout": "IPY_MODEL_f103a85873d24aa2838412908ad174eb",
       "style": "IPY_MODEL_0d5ff6c7cc7244ba8ee6deaa48eec15b"
      }
     },
     "b83825035bea43798b1406f0aaa95f9b": {
      "model_module": "@jupyter-widgets/controls",
      "model_module_version": "1.4.0",
      "model_name": "HBoxModel",
      "state": {
       "children": [
        "IPY_MODEL_81a87496a5534842abc7674fcee18d49",
        "IPY_MODEL_b33384ed294640b596ab102b67ea63f1",
        "IPY_MODEL_2baa8c4dc6764a3a89992af525a296a6",
        "IPY_MODEL_7655c03971214c659eb828221595326e"
       ],
       "layout": "IPY_MODEL_8336990180054a5f9a6e2fbd0fd5ebd7"
      }
     },
     "b8ae7e0d609846b9a178bea9a4f4d41e": {
      "model_module": "@jupyter-widgets/base",
      "model_module_version": "1.1.0",
      "model_name": "LayoutModel",
      "state": {
       "width": "45px"
      }
     },
     "b8ed1223d0814e5899618838feb81311": {
      "model_module": "@jupyter-widgets/base",
      "model_module_version": "1.1.0",
      "model_name": "LayoutModel",
      "state": {
       "width": "45px"
      }
     },
     "bb890a2d92e54e5fabd113197047b7e2": {
      "model_module": "@jupyter-widgets/controls",
      "model_module_version": "1.4.0",
      "model_name": "DescriptionStyleModel",
      "state": {
       "description_width": ""
      }
     },
     "bd5d61b691b6480baa51305aeea0da30": {
      "model_module": "@jupyter-widgets/controls",
      "model_module_version": "1.4.0",
      "model_name": "ButtonStyleModel",
      "state": {}
     },
     "c29ed6e177014776a7affb6716a1390f": {
      "model_module": "@jupyter-widgets/controls",
      "model_module_version": "1.4.0",
      "model_name": "ButtonModel",
      "state": {
       "description": "7",
       "layout": "IPY_MODEL_eeec610cac46404597e00102e4e6f84b",
       "style": "IPY_MODEL_0f2c3b3856f845268de852105e079330"
      }
     },
     "c6899621abff48f297bfcea2d048bb4d": {
      "model_module": "@jupyter-widgets/controls",
      "model_module_version": "1.4.0",
      "model_name": "ButtonModel",
      "state": {
       "description": "0",
       "layout": "IPY_MODEL_560f5e361fc84c07ab9e25b2bbd63b16",
       "style": "IPY_MODEL_8173c89f0e724a0c902e30284f668de0"
      }
     },
     "c71a5a3aee404559aa9dbe39b8189cc2": {
      "model_module": "@jupyter-widgets/base",
      "model_module_version": "1.1.0",
      "model_name": "LayoutModel",
      "state": {
       "width": "45px"
      }
     },
     "c823427ea4ca4a998b03e611bce21a49": {
      "model_module": "@jupyter-widgets/controls",
      "model_module_version": "1.4.0",
      "model_name": "ButtonStyleModel",
      "state": {}
     },
     "c851815b079b40f7ab62c6a27d113243": {
      "model_module": "@jupyter-widgets/controls",
      "model_module_version": "1.4.0",
      "model_name": "ButtonModel",
      "state": {
       "description": "9",
       "layout": "IPY_MODEL_b8ae7e0d609846b9a178bea9a4f4d41e",
       "style": "IPY_MODEL_4e551e81857e447cb8c726bc876ef066"
      }
     },
     "c962f7c838564d17ac0528f84f33a3e1": {
      "model_module": "@jupyter-widgets/base",
      "model_module_version": "1.1.0",
      "model_name": "LayoutModel",
      "state": {}
     },
     "ca1aa08d39ff44828de387afe75cff2e": {
      "model_module": "@jupyter-widgets/controls",
      "model_module_version": "1.4.0",
      "model_name": "HBoxModel",
      "state": {
       "children": [
        "IPY_MODEL_e731aea1c21a4d2c9a964068936809fc",
        "IPY_MODEL_30d012a711924641aef7cc93b4829f15",
        "IPY_MODEL_d6be04c424c449c99a757f5d55932789",
        "IPY_MODEL_6093cf4e9c9f4f83ac48fbcd534479ab"
       ],
       "layout": "IPY_MODEL_2bba2d37008f4ec4a098034e71a2e767"
      }
     },
     "cc0f9e9b500d44afa0282dbda461366c": {
      "model_module": "@jupyter-widgets/controls",
      "model_module_version": "1.4.0",
      "model_name": "ButtonStyleModel",
      "state": {}
     },
     "cc111aaa7b0a44a5bf5f4866828ecbb2": {
      "model_module": "@jupyter-widgets/controls",
      "model_module_version": "1.4.0",
      "model_name": "ButtonModel",
      "state": {
       "description": "5",
       "layout": "IPY_MODEL_d2109cdaeeb54eb0a02e6443bbf39aaa",
       "style": "IPY_MODEL_219918e3df6e4b8e8e2fa8b967a58762"
      }
     },
     "d2109cdaeeb54eb0a02e6443bbf39aaa": {
      "model_module": "@jupyter-widgets/base",
      "model_module_version": "1.1.0",
      "model_name": "LayoutModel",
      "state": {
       "width": "45px"
      }
     },
     "d222bfba695b434485ba48b67322df49": {
      "model_module": "@jupyter-widgets/controls",
      "model_module_version": "1.4.0",
      "model_name": "ButtonStyleModel",
      "state": {}
     },
     "d370a13b8222491a8878ad9d1a748bbc": {
      "model_module": "@jupyter-widgets/base",
      "model_module_version": "1.1.0",
      "model_name": "LayoutModel",
      "state": {
       "width": "45px"
      }
     },
     "d3b7153a6dcc44248e1f226e2bac5d02": {
      "model_module": "@jupyter-widgets/controls",
      "model_module_version": "1.4.0",
      "model_name": "ButtonStyleModel",
      "state": {}
     },
     "d4edb2599fd04325afb2c8db9148054a": {
      "model_module": "@jupyter-widgets/base",
      "model_module_version": "1.1.0",
      "model_name": "LayoutModel",
      "state": {
       "width": "45px"
      }
     },
     "d5451fc616ef4a149b1804ace89eedd7": {
      "model_module": "@jupyter-widgets/controls",
      "model_module_version": "1.4.0",
      "model_name": "HBoxModel",
      "state": {
       "children": [
        "IPY_MODEL_b5a1d24baa2a4e74949dee355400b0f9",
        "IPY_MODEL_8abcfe6a66c443418bc1af1b68168917",
        "IPY_MODEL_f91577030ccd4a6e9bbe2a5e5534ff72",
        "IPY_MODEL_911786d8b55a455d93afd4f1bc829564"
       ],
       "layout": "IPY_MODEL_0695e9524cc64d8d82b4a1dc670ae17d"
      }
     },
     "d55b9be785d04cc3b78d233bbb032aa3": {
      "model_module": "@jupyter-widgets/controls",
      "model_module_version": "1.4.0",
      "model_name": "ButtonModel",
      "state": {
       "description": "9",
       "layout": "IPY_MODEL_e8014e77b2fb41a194d8690c22c5fee5",
       "style": "IPY_MODEL_4c9a57c116dc471787dcf7c2e65b9746"
      }
     },
     "d6be04c424c449c99a757f5d55932789": {
      "model_module": "@jupyter-widgets/controls",
      "model_module_version": "1.4.0",
      "model_name": "ButtonModel",
      "state": {
       "description": "=",
       "layout": "IPY_MODEL_aa28418244574ace954b0d9d00c4b0a7",
       "style": "IPY_MODEL_5aa67ab0ae7141679fa58349f74f6832"
      }
     },
     "d6e52085ac824069aaa6a490a03f1f92": {
      "model_module": "@jupyter-widgets/controls",
      "model_module_version": "1.4.0",
      "model_name": "ButtonModel",
      "state": {
       "description": "2",
       "layout": "IPY_MODEL_b8ed1223d0814e5899618838feb81311",
       "style": "IPY_MODEL_3ca42de329e34b449d0a56e18a09d973"
      }
     },
     "d7eb2b4143bb4afe87bab2816ef85507": {
      "model_module": "@jupyter-widgets/controls",
      "model_module_version": "1.4.0",
      "model_name": "ButtonStyleModel",
      "state": {}
     },
     "d8145a2beb8c461b9f68d323ae30b0f7": {
      "model_module": "@jupyter-widgets/controls",
      "model_module_version": "1.4.0",
      "model_name": "ButtonStyleModel",
      "state": {}
     },
     "d8652d8b802e41beb89ce30be9a4097c": {
      "model_module": "@jupyter-widgets/controls",
      "model_module_version": "1.4.0",
      "model_name": "ButtonModel",
      "state": {
       "description": "1",
       "layout": "IPY_MODEL_582086e876dd466d89579f932e9d445e",
       "style": "IPY_MODEL_fd8adf37c5684f60881a6872c40605bd"
      }
     },
     "dc0ffa81675f44dbbeb42393e8cba8ed": {
      "model_module": "@jupyter-widgets/base",
      "model_module_version": "1.1.0",
      "model_name": "LayoutModel",
      "state": {
       "width": "45px"
      }
     },
     "dda0659fb8204a5198a4a3fa41785d74": {
      "model_module": "@jupyter-widgets/base",
      "model_module_version": "1.1.0",
      "model_name": "LayoutModel",
      "state": {}
     },
     "dddbc555a49b444f8578d3d535b00acb": {
      "model_module": "@jupyter-widgets/controls",
      "model_module_version": "1.4.0",
      "model_name": "ButtonStyleModel",
      "state": {}
     },
     "e0b805b7636a443ba53d4b99f83455b2": {
      "model_module": "@jupyter-widgets/controls",
      "model_module_version": "1.4.0",
      "model_name": "HBoxModel",
      "state": {
       "children": [
        "IPY_MODEL_c29ed6e177014776a7affb6716a1390f",
        "IPY_MODEL_7917e6fd413141e5bc1287b02c436a87",
        "IPY_MODEL_c851815b079b40f7ab62c6a27d113243",
        "IPY_MODEL_6a781c6b77dd4d658ea783a93b47ef33"
       ],
       "layout": "IPY_MODEL_00c980eadc084fbfbde610a15869114e"
      }
     },
     "e11afb3211c642588c5db821034a5009": {
      "model_module": "@jupyter-widgets/base",
      "model_module_version": "1.1.0",
      "model_name": "LayoutModel",
      "state": {
       "width": "45px"
      }
     },
     "e731aea1c21a4d2c9a964068936809fc": {
      "model_module": "@jupyter-widgets/controls",
      "model_module_version": "1.4.0",
      "model_name": "ButtonModel",
      "state": {
       "description": "0",
       "layout": "IPY_MODEL_6ab4e86b010a4b9282d2af622efae954",
       "style": "IPY_MODEL_95a80aef3568425c8232426d961f4cdf"
      }
     },
     "e8014e77b2fb41a194d8690c22c5fee5": {
      "model_module": "@jupyter-widgets/base",
      "model_module_version": "1.1.0",
      "model_name": "LayoutModel",
      "state": {
       "width": "45px"
      }
     },
     "e9307b0072ab41a8a4b60ac0619f27a4": {
      "model_module": "@jupyter-widgets/controls",
      "model_module_version": "1.4.0",
      "model_name": "ButtonModel",
      "state": {
       "description": " * ",
       "layout": "IPY_MODEL_b3e6b5ea1bb04436a23b2a0455282e9d",
       "style": "IPY_MODEL_bd5d61b691b6480baa51305aeea0da30"
      }
     },
     "ebb3d6574d0a4dfa852cbb3086329ac9": {
      "model_module": "@jupyter-widgets/controls",
      "model_module_version": "1.4.0",
      "model_name": "HBoxModel",
      "state": {
       "children": [
        "IPY_MODEL_0d419c905f6c4a20bc1687f565d5bf29",
        "IPY_MODEL_fccbd23932084642a457352b7129d0e3",
        "IPY_MODEL_d55b9be785d04cc3b78d233bbb032aa3",
        "IPY_MODEL_2dca965aa745492fbc0de0572809d744"
       ],
       "layout": "IPY_MODEL_dda0659fb8204a5198a4a3fa41785d74"
      }
     },
     "ebd46daf4eee480899dc61f8ebc49a00": {
      "model_module": "@jupyter-widgets/controls",
      "model_module_version": "1.4.0",
      "model_name": "ButtonStyleModel",
      "state": {}
     },
     "ecaddaac7a7a4eb0acb9ad3c354a5ad2": {
      "model_module": "@jupyter-widgets/controls",
      "model_module_version": "1.4.0",
      "model_name": "ButtonModel",
      "state": {
       "description": "4",
       "layout": "IPY_MODEL_2e2e2caf20704066be0b26db466dc2a6",
       "style": "IPY_MODEL_dddbc555a49b444f8578d3d535b00acb"
      }
     },
     "eeec610cac46404597e00102e4e6f84b": {
      "model_module": "@jupyter-widgets/base",
      "model_module_version": "1.1.0",
      "model_name": "LayoutModel",
      "state": {
       "width": "45px"
      }
     },
     "ef5a8c69f996407895b61afc999279c6": {
      "model_module": "@jupyter-widgets/controls",
      "model_module_version": "1.4.0",
      "model_name": "DescriptionStyleModel",
      "state": {
       "description_width": ""
      }
     },
     "f0551fab7da34cf2a55adcdc9bbdf1a1": {
      "model_module": "@jupyter-widgets/controls",
      "model_module_version": "1.4.0",
      "model_name": "ButtonStyleModel",
      "state": {}
     },
     "f103a85873d24aa2838412908ad174eb": {
      "model_module": "@jupyter-widgets/base",
      "model_module_version": "1.1.0",
      "model_name": "LayoutModel",
      "state": {
       "width": "45px"
      }
     },
     "f4e172ce1e4940d1815282864a392839": {
      "model_module": "@jupyter-widgets/controls",
      "model_module_version": "1.4.0",
      "model_name": "ButtonStyleModel",
      "state": {}
     },
     "f548d24f5f804acdacfcbadd32300bf0": {
      "model_module": "@jupyter-widgets/base",
      "model_module_version": "1.1.0",
      "model_name": "LayoutModel",
      "state": {
       "width": "45px"
      }
     },
     "f7b0ab71b0da448eaf7b743847cf50f5": {
      "model_module": "@jupyter-widgets/base",
      "model_module_version": "1.1.0",
      "model_name": "LayoutModel",
      "state": {
       "width": "45px"
      }
     },
     "f8b5962946044a0c865ad8b1964b8ccb": {
      "model_module": "@jupyter-widgets/base",
      "model_module_version": "1.1.0",
      "model_name": "LayoutModel",
      "state": {}
     },
     "f91577030ccd4a6e9bbe2a5e5534ff72": {
      "model_module": "@jupyter-widgets/controls",
      "model_module_version": "1.4.0",
      "model_name": "ButtonModel",
      "state": {
       "description": "del",
       "layout": "IPY_MODEL_1b96bc2bdf7440d8baeef975e0b747cd",
       "style": "IPY_MODEL_1fe73f291dc3402ba979713caed8513f"
      }
     },
     "fccbd23932084642a457352b7129d0e3": {
      "model_module": "@jupyter-widgets/controls",
      "model_module_version": "1.4.0",
      "model_name": "ButtonModel",
      "state": {
       "description": "8",
       "layout": "IPY_MODEL_15fc3986ff064eed85a4f84108908a05",
       "style": "IPY_MODEL_f0551fab7da34cf2a55adcdc9bbdf1a1"
      }
     },
     "fd8adf37c5684f60881a6872c40605bd": {
      "model_module": "@jupyter-widgets/controls",
      "model_module_version": "1.4.0",
      "model_name": "ButtonStyleModel",
      "state": {}
     }
    },
    "version_major": 2,
    "version_minor": 0
   }
  }
 },
 "nbformat": 4,
 "nbformat_minor": 2
}
