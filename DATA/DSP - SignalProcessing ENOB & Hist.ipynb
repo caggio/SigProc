{
 "cells": [
  {
   "cell_type": "code",
   "execution_count": 89,
   "metadata": {},
   "outputs": [],
   "source": [
    "from __future__ import absolute_import, division, print_function\n",
    "\n",
    "import sys\n",
    "import os\n",
    "import numpy\n",
    "import math\n",
    "\n",
    "import numpy as np\n",
    "import matplotlib.pyplot as plt\n",
    "from scipy.optimize import leastsq\n",
    "from scipy.optimize import curve_fit\n",
    "import scipy\n",
    "from matplotlib.backends.backend_pdf import PdfPages\n",
    "import glob\n",
    "    \n",
    "sys.path.insert(0,os.path.abspath(os.path.join('..', r'C:\\\\jupyter\\\\GitHub\\\\adc-testing\\\\adc-testing\\\\SignalProcessing\\\\')))\n",
    "\n",
    "import SingleToneSignal\n",
    "\n",
    "def fit_sin(tt, yy):\n",
    "    '''Fit sin to the input time sequence, and return fitting parameters \"amp\", \"omega\", \"phase\", \"offset\", \"freq\", \"period\" and \"fitfunc\"'''\n",
    "    tt = numpy.array(tt)\n",
    "    yy = numpy.array(yy)\n",
    "    ff = numpy.fft.fftfreq(len(tt), (tt[1]-tt[0]))   # assume uniform spacing\n",
    "    Fyy = abs(numpy.fft.fft(yy))\n",
    "    guess_freq = abs(ff[numpy.argmax(Fyy[1:])+1])   # excluding the zero frequency \"peak\", which is related to offset\n",
    "    guess_amp = numpy.std(yy) * 2.**0.5\n",
    "    guess_offset = numpy.mean(yy)\n",
    "    guess = numpy.array([guess_amp, 2.*numpy.pi*guess_freq, 0., guess_offset])\n",
    "\n",
    "    def sinfunc(t, A, w, p, c):  return A * numpy.sin(w*t + p) + c\n",
    "    popt, pcov = scipy.optimize.curve_fit(sinfunc, tt, yy, p0=guess)\n",
    "    A, w, p, c = popt\n",
    "    f = w/(2.*numpy.pi)\n",
    "    fitfunc = lambda t: A * numpy.sin(w*t + p) + c\n",
    "    return {\"amp\": A, \"omega\": w, \"phase\": p, \"offset\": c, \"freq\": f, \"period\": 1./f, \"fitfunc\": fitfunc, \"maxcov\": numpy.max(pcov), \"rawres\": (guess,popt,pcov)}\n",
    "\n",
    "def procData(afe_out, freq=6.54E10, show=True):\n",
    "    #afe_out = np.loadtxt(foutName)\n",
    "    N, amp, omega, phase, offset, noise = len(afe_out), 1., 2., .5, 4., 3\n",
    "    tt = numpy.linspace(0, 1024*16/freq, N)\n",
    "    tt2 = numpy.linspace(0, 1024*16/freq, 10*N)\n",
    "    afe_out = afe_out\n",
    "\n",
    "    res = fit_sin(tt, afe_out)\n",
    "    if show: print( \"Frequency=%(freq)s, Amplitude=%(amp)s, Angular freq.=%(omega)s, phase=%(phase)s, offset=%(offset)s, Max. Cov.=%(maxcov)s\" % res )\n",
    "    err=res[\"fitfunc\"](tt)-afe_out\n",
    "    max_out=max(afe_out)\n",
    "    min_out=min(afe_out)\n",
    "    max_err = max(err)\n",
    "    min_err = min(err)\n",
    "    abs_err = max_err - min_err\n",
    "    if show: print( \"AbsErr=%s\"%abs_err, \"MinErr%s\"%min_err, \"MaxErr%s\"%max_err,\"Max=%s\"%max_out, \"Min=%s\"%min_out)\n",
    "\n",
    "\n",
    "    plt.plot(tt, afe_out, \"ok\", label=\"ADC Output\")\n",
    "    plt.plot(tt, err, \".b\", label=\"Err\")\n",
    "    plt.plot(tt2, res[\"fitfunc\"](tt2), \"r-\", label=\"Fit curve\", linewidth=1)\n",
    "    plt.legend(loc=\"best\")\n",
    "    if show: plt.show()\n",
    "    return max_out, min_out, err, max_err, min_err, abs_err\n",
    "\n",
    "def fftData(afe_out, freq=6.54E10, N=None, show=False):\n",
    "    #afe_out = np.loadtxt(foutName)\n",
    "    fs = freq\n",
    "    signal = afe_out\n",
    "    #signal = signal * 1.0 / 128                     # Scale the signal in [-1, 1]\n",
    "    \n",
    "    if N == None:\n",
    "        N = len(afe_out)\n",
    "\n",
    "    win = np.hamming(N)                                                       \n",
    "    x = signal[0:N] #* win                             # Take a slice and multiply by a window\n",
    "    \n",
    "    sp = np.fft.rfft(x)                               # Calculate real FFT\n",
    "    #For an input of size N the rfft function returns the part of the FFT output corresponding \n",
    "    #to frequences at or below N/2. Therefore the output of rfft is of size N/2+1 if N is even \n",
    "    #(all frequences from 0 to N/2), or (N+1)/2 if N is odd (all frequences from 0 to (N-1)/2). \n",
    "    #Observe that the function floor(n/2+1) returns the correct output size for both even and odd input sizes.\n",
    "    \n",
    "    mag = np.abs(sp) \n",
    "    ref = np.sum(win) / 2                             # Reference : window sum and factor of 2\n",
    "                                                      # because we are using half of FFT spectrum\n",
    "    \n",
    "    s_dbfs = 20 * np.log10(mag / ref)                 # Convert to dBFS\n",
    "\n",
    "    freq = np.arange((N / 2) + 1) / (float(N) / fs)   # Frequency axis\n",
    "    if show:\n",
    "        plt.plot(freq, s_dbfs)\n",
    "        plt.grid(True)\n",
    "        plt.xlabel('Frequency [Hz]')\n",
    "        plt.ylabel('Amplitude [dB]')\n",
    "        plt.show()\n",
    "    plt.clf()\n",
    "    return freq, s_dbfs\n",
    "\n",
    "def processSignal(nbits = 8, rate = 6.54E10, data = None):\n",
    "\toutput = SingleToneSignal.SingleToneSignal(nbits =nbits, rate = rate, data = data)\n",
    "\toutput.precalculateAll()\n",
    "\tfor each in output.items(): print(each[0], each[1]%each[2])\n",
    "\tfor each in output.windowed['No window'].items(): print(each[0], each[1]%each[2])\n",
    "\treturn output\n",
    "\n",
    "def removeOffsetGain(dout, calFile=None):\n",
    "\t# Remove Offset and Gain\n",
    "\tdout_corr = np.copy(dout)\n",
    "\tN=len(dout)\n",
    "\tif calFile==None:\n",
    "\t\tdc = np.zeros(64, dtype='f')\n",
    "\t\tgm = np.zeros(64, dtype='f')\n",
    "\t\tfor j in range(64):\n",
    "\t\t\tdc[j] = np.mean(dout[j::64])\n",
    "\t\t\tgm[j] = np.linalg.norm(dout_corr[j::64])/math.sqrt(N/64)\n",
    "\telse:\n",
    "\t\taaa=np.genfromtxt(calFile,delimiter=',',dtype='f')\n",
    "\t\tdc=aaa[0][1:]\n",
    "\t\tgm=aaa[1][1:]\n",
    "\tfor j in range(64):\n",
    "\t\tdout_corr[j::64] = dout[j::64]-dc[j]\n",
    "\t\tdout_corr[j::64] = dout_corr[j::64]*(gm[0]/gm[j])\n",
    "\treturn dout_corr\n",
    "\n",
    "def procAll(afe_out, fname='.\\\\',samplingRate=10.3125*5*34/33*1.0e9, show = False, cal=False, calFile=None, pdf=None, png=False):\n",
    "    if cal:\n",
    "        afe_out_corr=removeOffsetGain(afe_out,calFile)\n",
    "    else:\n",
    "        afe_out_corr=afe_out\n",
    "    nbits=8\n",
    "    samplingRate=samplingRate\n",
    "    output1 = processSignal(nbits = nbits, rate = samplingRate, data = afe_out)\n",
    "    chartData = fftData(afe_out=afe_out, freq=samplingRate, N=output1.nsamples)\n",
    "    output2 = processSignal(nbits = nbits, rate = samplingRate, data = afe_out_corr)\n",
    "    chartDataCorr = fftData(afe_out=afe_out_corr, freq=samplingRate, N=output2.nsamples)\n",
    "    for i in range(len(output1.items())):\n",
    "    \tprint(output1.items()[i][0] +','+ output1.items()[i][1]%output1.items()[i][2] +','+ output1.items()[i][1]%output2.items()[i][2])\n",
    "\n",
    "    fig = plt.figure(1)\n",
    "    fig.set_size_inches(18.5,12.5)\n",
    "    axs1 = plt.subplot2grid((3, 2), (0, 0))\n",
    "    axs2 = plt.subplot2grid((3, 2), (0, 1))\n",
    "    axs3 = plt.subplot2grid((3, 2), (1, 0))\n",
    "    axs4 = plt.subplot2grid((3, 2), (1, 1))\n",
    "    axs5 = plt.subplot2grid((3, 2), (2, 0), colspan=2)\n",
    "\n",
    "    T=1/samplingRate\n",
    "\n",
    "    xf=np.arange(0.0,samplingRate/2-1,samplingRate/2/len(output1.windowed['No window'].ldft))\n",
    "    axs1.plot(xf,output1.windowed['No window'].ldft)\n",
    "    axs1.grid(True)\n",
    "    axs1.set_xlabel('Frequency [Hz]')\n",
    "    axs1.set_ylabel('Amplitude [dB]')\n",
    "    axs1.set_ylim([-80,140])\n",
    "\n",
    "    xf=np.arange(0.0,samplingRate/2-1,samplingRate/2/len(output2.windowed['No window'].ldft))\n",
    "    axs2.plot(xf,output2.windowed['No window'].ldft)\n",
    "    axs2.grid(True)\n",
    "    axs2.set_xlabel('Frequency [Hz]')\n",
    "    axs2.set_ylabel('Amplitude [dB]')\n",
    "    axs2.set_ylim([-80,140])\n",
    "\n",
    "    N=int(output1.items()[2][2])\n",
    "    inFreq=float(output1.items()[3][2])\n",
    "    nSamples1T = int(1/inFreq * samplingRate)\n",
    "    timePlot = nSamples1T * 3\n",
    "    tt = numpy.linspace(0, 1024*16/samplingRate, N)\n",
    "    tt2 = numpy.linspace(0, 1024*16/samplingRate, 10*N)\n",
    "\n",
    "    A= output1.windowed['No window'].A\n",
    "    B= output1.windowed['No window'].B\n",
    "    C= output1.windowed['No window'].C\n",
    "    w0= output1.windowed['No window'].w0\n",
    "\n",
    "    fitfunc1 = lambda t1: C + A * np.cos(w0*t1) + B * np.sin(w0*t1)\n",
    "\n",
    "    axs3.plot(tt[:timePlot], output1.data[:timePlot],'.')\n",
    "    axs3.plot(tt2[:timePlot*10], fitfunc1(tt2)[0:timePlot*10],'r-')\n",
    "    axs3.grid(True)\n",
    "    axs3.set_ylabel('Sample Value')\n",
    "    axs3.set_xlabel('Frequency: %.4f MHz'%(inFreq/1000000))\n",
    "    axs3.set_ylim([-128,128])\n",
    "\n",
    "    A= output2.windowed['No window'].A\n",
    "    B= output2.windowed['No window'].B\n",
    "    C= output2.windowed['No window'].C\n",
    "    w0= output1.windowed['No window'].w0\n",
    "\n",
    "    fitfunc2 = lambda t2: C + A * np.cos(w0*t2) + B * np.sin(w0*t2)\n",
    "\n",
    "\n",
    "    axs4.plot(tt[:timePlot], output2.data[:timePlot],'.')\n",
    "    axs4.plot(tt2[:timePlot*10], fitfunc2(tt2)[0:timePlot*10],'r-')\n",
    "    axs4.grid(True)\n",
    "    axs4.set_ylabel('Sample Value')\n",
    "    axs4.set_xlabel('Frequency: %.4f MHz'%(inFreq/1000000))\n",
    "    axs4.set_ylim([-128,128])\n",
    "\n",
    "    axs5.axis('tight')\n",
    "    axs5.axis('off')\n",
    "\n",
    "    colLabels = ('Parameter', 'Raw', 'w. Cal&GainOff')\n",
    "    tableValues = [[elem[0],elem[1]%elem[2]] for elem in output1.items()]\n",
    "    tableValues = tableValues+[[elem[0],elem[1]%elem[2]] for elem in output1.windowed['No window'].items()]\n",
    "    tableValues2 = [[elem[1]%elem[2]] for elem in output2.items()]\n",
    "    tableValues2 = tableValues2+[[elem[1]%elem[2]] for elem in output2.windowed['No window'].items()]\n",
    "    tableHeaders = [elem[0] for elem in output2.items()]+[elem[0] for elem in output2.windowed['No window'].items()]\n",
    "    tableVal = [elem[2] for elem in output2.items()]+[elem[2] for elem in output2.windowed['No window'].items()]\n",
    "    tableValRaw = [elem[2] for elem in output1.items()]+[elem[2] for elem in output1.windowed['No window'].items()]\n",
    "    for i in range(len(tableValues)):\n",
    "        tableValues[i].append(tableValues2[i][0])\n",
    "    printTableValues=[]\n",
    "    for i in [0,1,2,3,5,6,7,8,9,11,13,14,16,17,20,21,22,23,24]:\n",
    "        printTableValues.append(tableValues[i])\n",
    "    the_table = axs5.table(cellText=printTableValues,colLabels =colLabels, loc='center')\n",
    "    the_table.set_fontsize(8)\n",
    "    the_table.scale(1, 1)\n",
    "    if pdf==None and png:\n",
    "        plt.savefig(fname+'.png')\n",
    "    elif pdf != None:\n",
    "        txt = 'fname: {}'.format(fname)\n",
    "        plt.text(0.05,0.95,txt, transform=fig.transFigure, size=16)\n",
    "        pdf.savefig(fig)\n",
    "    if show:\n",
    "        plt.show()\n",
    "    plt.clf()\n",
    "    #return tableHeaders, [[elem[2]] for elem in output2.items()]\n",
    "    return tableHeaders, tableVal,tableValRaw\n"
   ]
  },
  {
   "cell_type": "code",
   "execution_count": 91,
   "metadata": {
    "scrolled": false
   },
   "outputs": [
    {
     "name": "stdout",
     "output_type": "stream",
     "text": [
      "UCID:  3 C:\\jupyter\\EVK\\logs\\35_SC\\CRB_Fsweepcrb35_53G\\freq_sweep\\Bin991_m0p0dBm_avdd1p0_crb35_53G_25_ucid_3_boost_0_freq.txt\n",
      "991 990\n",
      "0.0011699640899298987\n",
      "0.0011685968664163291\n",
      "990.9988314031336\n",
      "Sinefit: 0\n",
      "Sinefit: 1\n",
      "Sinefit: 2\n",
      "calculating DNL INL\n",
      "calculating DNL INL 1.7679191468819107 34.91972951789485\n",
      "991 990\n",
      "0.0011699640899298987\n",
      "0.0011685968664163291\n",
      "990.9988314031336\n",
      "Sinefit: 0\n",
      "Sinefit: 1\n",
      "Sinefit: 2\n",
      "calculating DNL INL\n",
      "calculating DNL INL 1.7679191468819107 34.91972951789485\n",
      "Number of bits 8 b\n",
      "Sampling rate 53125000000.00 Hz\n",
      "Number of samples 16384 samples\n",
      "Input frequency [0] 3213309838.73018 Hz\n",
      "Peak [0] 990\n",
      "Amplitude [0] 104.691899\n",
      "Phase [0] -1.528383\n",
      "DC [0] 1.254642\n",
      "Max DNL 1.767919 \n",
      "Max INL 34.919730 \n",
      "Theoretical SNR 49.92 dB\n",
      "Process Gain 6.02 dB\n",
      "Input frequency [W] 3213309838.73018 Hz\n",
      "Peak [W] 990\n",
      "Amplitude [W] 104.691899\n",
      "Phase [W] -1.528383\n",
      "DC [W] 1.254642\n",
      "THD -5.98 dB\n",
      "Noise floor 30.0348 dB\n",
      "Signal power 45033402 \n",
      "Noise power 45007534 \n",
      "SNR 0.00 dB\n",
      "SINAD/SNDR 26.85 dB\n",
      "ENOB 4.17 b\n",
      "SFDR 16.15 dBc\n",
      "991 990\n",
      "0.0011719304581974343\n",
      "0.0011705586377205605\n",
      "990.9988294413623\n",
      "Sinefit: 0\n",
      "Sinefit: 1\n",
      "Sinefit: 2\n",
      "calculating DNL INL\n",
      "calculating DNL INL 0.9205863680862569 8.187948667392767\n",
      "991 990\n",
      "0.0011719304581974343\n",
      "0.0011705586377205605\n",
      "990.9988294413623\n",
      "Sinefit: 0\n",
      "Sinefit: 1\n",
      "Sinefit: 2\n",
      "calculating DNL INL\n",
      "calculating DNL INL 0.9205863680862569 8.187948667392767\n",
      "Number of bits 8 b\n",
      "Sampling rate 53125000000.00 Hz\n",
      "Number of samples 16384 samples\n",
      "Input frequency [0] 3213309891.35354 Hz\n",
      "Peak [0] 990\n",
      "Amplitude [0] 107.772965\n",
      "Phase [0] -1.528356\n",
      "DC [0] 0.546334\n",
      "Max DNL 0.920586 \n",
      "Max INL 8.187949 \n",
      "Theoretical SNR 49.92 dB\n",
      "Process Gain 6.02 dB\n",
      "Input frequency [W] 3213309891.35354 Hz\n",
      "Peak [W] 990\n",
      "Amplitude [W] 107.772965\n",
      "Phase [W] -1.528356\n",
      "DC [W] 0.546334\n",
      "THD -5.98 dB\n",
      "Noise floor 30.3822 dB\n",
      "Signal power 47593439 \n",
      "Noise power 47588467 \n",
      "SNR 0.00 dB\n",
      "SINAD/SNDR 35.52 dB\n",
      "ENOB 5.61 b\n",
      "SFDR 16.10 dBc\n",
      "Number of bits,8 b,8 b\n",
      "Sampling rate,53125000000.00 Hz,53125000000.00 Hz\n",
      "Number of samples,16384 samples,16384 samples\n",
      "Input frequency [0],3213309838.73018 Hz,3213309891.35354 Hz\n",
      "Peak [0],990,990\n",
      "Amplitude [0],104.691899,107.772965\n",
      "Phase [0],-1.528383,-1.528356\n",
      "DC [0],1.254642,0.546334\n",
      "Max DNL,1.767919 ,0.920586 \n",
      "Max INL,34.919730 ,8.187949 \n",
      "Theoretical SNR,49.92 dB,49.92 dB\n",
      "Process Gain,6.02 dB,6.02 dB\n"
     ]
    },
    {
     "data": {
      "text/plain": [
       "<Figure size 1332x900 with 0 Axes>"
      ]
     },
     "metadata": {},
     "output_type": "display_data"
    }
   ],
   "source": [
    "from IPython.display import display, clear_output\n",
    "\n",
    "FOLDER = ('C:\\\\jupyter\\\\DATA\\\\SC\\\\SS_AMS\\\\')\n",
    "FOLDER = ('C:\\\\jupyter\\\\DATA\\\\SC\\\\APPS\\\\')\n",
    "FOLDER = ('C:\\\\jupyter\\\\DATA\\\\SC\\\\ADC_Char\\\\B009_08_2018c\\\\')\n",
    "FOLDER = ('C:\\\\jupyter\\\\DATA\\\\SC\\\\ADC_Char\\\\B010_01_2018c\\\\PB6\\\\amp_sweep\\\\')\n",
    "FOLDER = ('C:\\\\jupyter\\\\DATA\\\\SC\\\\ADC_Char\\\\B010_01_2018c\\\\PB6\\\\freq_sweep\\\\')\n",
    "FOLDER = ('C:\\\\jupyter\\\\DATA\\\\SC\\\\ADC_Char\\\\B009_27_2018c\\\\PB6\\\\freq_sweep\\\\')\n",
    "FOLDER_ROOT='Z:\\\\BRINGUP\\\\adc_measurements\\\\B0_Bringup\\\\PE\\\\ADC_Char_c\\\\'\n",
    "FOLDER_ROOT='Z:\\\\BRINGUP\\\\adc_measurements\\\\B0_Bringup\\\\ADC_Char\\\\'\n",
    "\n",
    "PARTS = glob.glob(FOLDER_ROOT+'*')\n",
    "PARTS = [i.split('\\\\')[-1] for i in PARTS]\n",
    "\n",
    "PARTS = ['S52_53G',\n",
    " 'F51_53G',\n",
    " 'F52_53G',\n",
    " 'F53_53G',\n",
    " 'F54_53G',\n",
    " 'P6_53G',\n",
    " 'PB10_53G',\n",
    " 'PB13_53G',\n",
    " 'PB29_53G',\n",
    " 'PB30_53G',\n",
    " 'PB5_53G',\n",
    " 'PB6_53G',\n",
    " 'PF53_53G',\n",
    " 'PS51_53G',\n",
    " 'PS53_53G',\n",
    " 'S50_53G',\n",
    " 'S51_53G',\n",
    " 'S53_53G',\n",
    " 'S54_53G',\n",
    " 'T50_53G',\n",
    " 'T51_53G',\n",
    " 'T52_53G',\n",
    " 'T53_53G',\n",
    " 'T54_53G',\n",
    " 'TT50_53G',\n",
    " 'F50_53G']\n",
    "\n",
    "PARTS = ['S52_51G',\n",
    " 'F51_51G',\n",
    " 'F52_51G',\n",
    " 'F53_51G',\n",
    " 'F54_51G',\n",
    " 'S50_51G',\n",
    " 'S51_51G',\n",
    " 'S53_51G',\n",
    " 'S54_51G',\n",
    " 'T50_51G',\n",
    " 'T51_51G',\n",
    " 'T52_51G',\n",
    " 'T53_51G',\n",
    " 'T54_51G',\n",
    " 'TT50_51G',\n",
    " 'F50_51G']\n",
    "\n",
    "PARTS = ['F53_816_85_53G']\n",
    "\n",
    "FOLDER_ROOT='C:\\\\jupyter\\\\EVK\\\\logs\\\\233\\\\'\n",
    "PARTS = ['skew1_coherent_0.2.5_m5dB']\n",
    "SWEEPS = ['freq_sweep']\n",
    "\n",
    "FOLDER_ROOT='C:\\\\jupyter\\\\EVK\\\\logs\\\\35_SC\\\\'\n",
    "PARTS=['CRB_Fsweepcrb35_53G']\n",
    "SWEEPS = ['freq_sweep']\n",
    "\n",
    "\n",
    "#FOLDER = ('C:\\\\jupyter\\\\DATA\\\\SC\\\\ADC_Char\\\\B009_29_2018c\\\\PB6\\\\freq_sweep\\\\')\n",
    "\n",
    "csvName=FOLDER_ROOT+'ENOB_ANALYSIS_CHAR_freq_sweep_CRB_Fsweepcrb35_53G.csv'\n",
    "\n",
    "SWEEPS = ['freq_sweep']\n",
    "#SWEEPS = ['amp_sweep']\n",
    "\n",
    "headerWritten=False\n",
    "header=[]\n",
    "\n",
    "for PART in PARTS[::1]:\n",
    "    PROCESS=PART[0:2]\n",
    "    for SWEEP in SWEEPS:\n",
    "        pdfName=FOLDER_ROOT+'{}_{}_ENOB_ANALYSIS_CHAR_freq_sweep_53G.pdf'.format(PART,SWEEP)\n",
    "        with PdfPages(pdfName) as pdf:\n",
    "            FOLDER = FOLDER_ROOT  + PART +  '\\\\' + SWEEP +'\\\\' \n",
    "            print(PART, FOLDER)\n",
    "            fnames = glob.glob(FOLDER+'*.txt')\n",
    "\n",
    "            if not headerWritten:\n",
    "                try:\n",
    "                    capture=np.loadtxt(fnames[0])\n",
    "                    tableHeaders, tableVal, tableValRaw = procAll(capture,fname=fnames[0], samplingRate=10.3125*5*34/33*1.0e9,pdf=None,cal=True)\n",
    "                    header=['fname','PROCESSING','PART_NO','PROCESS','SWEEP','UCID','BIN','ATTEN','AVDD','VDD08','TEMP','BOOST','CAL']+tableHeaders\n",
    "                except:\n",
    "                    pass\n",
    "                fio=open(csvName,'w')\n",
    "                for each in header:\n",
    "                    fio.write(str(each)+',')\n",
    "                fio.write('\\n');fio.close()\n",
    "                headerWritten=True\n",
    "\n",
    "            for fname in fnames:\n",
    "                clear_output(wait=True)\n",
    "                capture=np.loadtxt(fname)\n",
    "                if fname.find('Bin')>=0:\n",
    "                    try:\n",
    "                        UCID = int(fname.split('ucid_')[1].split('_')[0])\n",
    "                        print('UCID: ',UCID, fname)\n",
    "                        #PART_NO = 'PB'+fname.split('_PB')[1].split('_')[0]\n",
    "                        PART_NO = PART\n",
    "                        BIN = fname.split('Bin')[1].split('_')[0]\n",
    "                        ATTEN = fname.split('dBm')[0].split('_')[-1]\n",
    "                        ATTEN = ATTEN.replace('m-','-')\n",
    "                        ATTEN = ATTEN.replace('m0','0')\n",
    "                        AVDD = fname.split('avdd')[1].split('_')[0]\n",
    "                        TEMP = fname.split('_ucid')[0].split('_')[-1]\n",
    "                        TEMP = TEMP.replace('m','-')\n",
    "                        BOOST = fname.split('boost_')[1].split('_')[0]\n",
    "                        VDD08 = 'NOM'\n",
    "                    except:\n",
    "                        try:\n",
    "                            UCID = 3\n",
    "                            print('UCID: ',UCID, fname)\n",
    "                            PART_NO = PART\n",
    "                            BIN = fname.split('Bin')[1].split('_')[0]\n",
    "                            ATTEN = 0\n",
    "                            AVDD = fname.split('AVDD10_')[1].split('_')[0]\n",
    "                            VDD08 = fname.split('VDD08_')[1].split('_')[0]\n",
    "                            TEMP = 'ROOM'\n",
    "                            BOOST = 0\n",
    "                        except:\n",
    "                            UCID = 3\n",
    "                            print('UCID: ',UCID, fname)\n",
    "                            PART_NO = PART\n",
    "                            BIN = fname.split('Bin')[1].split('_')[0]\n",
    "                            ATTEN = 0\n",
    "                            AVDD = 'NOM'\n",
    "                            VDD08 = 'NOM'\n",
    "                            TEMP = 'ROOM'\n",
    "                            BOOST = 0\n",
    "                        \n",
    "                    try:\n",
    "                        if UCID == 3:\n",
    "                            tableHeaders, tableVal, tableValRaw = procAll(capture,fname=fname, samplingRate=10.3125*5*34/33*1.0e9,pdf=pdf,cal=True)\n",
    "                        if UCID == 1:\n",
    "                            tableHeaders, tableVal, tableValRaw = procAll(capture,fname=fname, samplingRate=10.3125*5*1.0e9,pdf=pdf,cal=True)\n",
    "                        data=[]\n",
    "                        data.append([fname,'OK',PART_NO,PROCESS,SWEEP,UCID,BIN,ATTEN,AVDD,VDD08,TEMP,BOOST,0]+tableValRaw)\n",
    "                        data.append([fname,'OK',PART_NO,PROCESS,SWEEP,UCID,BIN,ATTEN,AVDD,VDD08,TEMP,BOOST,1]+tableVal)\n",
    "                        for DATA in data:\n",
    "                            fio=open(csvName,'a+')\n",
    "                            for each in DATA:\n",
    "                                fio.write(str(each)+',')\n",
    "                            fio.write('\\n');fio.close()\n",
    "                    except:\n",
    "                        data=[]\n",
    "                        data.append([fname,'ERROR',PART_NO,PROCESS,SWEEP,UCID,BIN,ATTEN,AVDD,VDD08,TEMP,BOOST,0])\n",
    "                        data.append([fname,'ERROR',PART_NO,PROCESS,SWEEP,UCID,BIN,ATTEN,AVDD,VDD08,TEMP,BOOST,1])\n",
    "                        for DATA in data:\n",
    "                            fio=open(csvName,'a+')\n",
    "                            for each in DATA:\n",
    "                                fio.write(str(each)+',')\n",
    "                            fio.write('\\n');fio.close()\n"
   ]
  },
  {
   "cell_type": "code",
   "execution_count": 68,
   "metadata": {},
   "outputs": [],
   "source": [
    "def plotHistogram(fig, ax, DATA, binSize=1, ylim=500, title='', log=False, alpha=1, color='b'):\n",
    "    DATA_hist=np.histogram(DATA, bins=range(-128, 128+1, binSize))\n",
    "    x=np.arange(-128,128,binSize)\n",
    "    ylim=ylim*binSize\n",
    "\n",
    "    ax.bar(x,DATA_hist[0], color=color, alpha=alpha)\n",
    "    ax.set_title(title)\n",
    "    ax.set_xlabel('Bin')\n",
    "    ax.set_ylabel('Number of Samples')\n",
    "    ax.set_xticks(x[::8])\n",
    "    props = {\"rotation\" : 90}\n",
    "    plt.setp(ax.get_xticklabels(), **props)\n",
    "    #plt.xticks(rotation=90)\n",
    "    ax.set_ylim(0,ylim)\n",
    "    if log:\n",
    "        ax.set_ylim(1,ylim)\n",
    "        ax.set_yscale('log')\n"
   ]
  },
  {
   "cell_type": "code",
   "execution_count": 22,
   "metadata": {},
   "outputs": [
    {
     "data": {
      "text/plain": [
       "2.0"
      ]
     },
     "execution_count": 22,
     "metadata": {},
     "output_type": "execute_result"
    }
   ],
   "source": [
    "np.mean([1,2,3])"
   ]
  },
  {
   "cell_type": "code",
   "execution_count": 92,
   "metadata": {},
   "outputs": [
    {
     "name": "stdout",
     "output_type": "stream",
     "text": [
      "[[1, 11], [11, 13], [13, 17], [17, 19], [19, 23], [23, 29], [29, 31], [31, 37], [37, 41], [41, 53], [53, 59], [59, 67], [67, 79], [79, 83], [83, 97], [97, 101], [101, 103], [103, 107], [107, 109], [109, 113], [113, 127], [127, 167], [167, 227], [227, 251], [251, 269], [269, 313], [313, 347], [347, 383], [383, 419], [419, 457], [457, 491], [491, 521], [521, 563], [563, 607], [607, 647], [647, 691], [691, 739], [739, 773], [773, 839], [839, 881], [881, 941], [941, 991], [991, 1051], [1051, 1097], [1097, 1151], [1151, 1193], [1193, 1237], [1237, 1279], [1279, 1321], [1321, 1373], [1373, 1439], [1439, 1487], [1487, 1523], [1523, 1567], [1567, 1601], [1601, 1637], [1637, 1693], [1693, 1741], [1741, 1783], [1783, 1823], [1823, 1877], [1877, 1933], [1933, 1973], [1973, 2017], [2017, 2063], [2063, 2113], [2113, 2153], [2153, 2203], [2203, 2251], [2251, 2311], [2311, 2371], [2371, 2411], [2411, 2447], [2447, 2503], [2503, 2557], [2557, 2593], [2593, 2621], [2621, 2659], [2659, 2689], [2689, 2729], [2729, 2777], [2777, 2819], [2819, 2851], [2851, 2897], [2897, 2953], [2953, 2999], [2999, 3041], [3041, 3083], [3083, 3119], [3119, 3163], [3163, 3203], [3203, 3259], [3259, 3307], [3307, 3347], [3347, 3391], [3391, 3433], [3433, 3491], [3491, 3539], [3539, 3583], [3583, 3617], [3617, 3659], [3659, 3697], [3697, 3739], [3739, 3793], [3793, 3847], [3847, 3889], [3889, 3911], [3911, 3967], [3967, 4013], [4013, 4049], [4049, 4091], [4091, 4139], [4139, 4177], [4177, 4217], [4217, 4259], [4259, 4297], [4297, 4349], [4349, 4391], [4391, 4441], [4441, 4481], [4481, 4523], [4523, 4567], [4567, 4621], [4621, 4673], [4673, 4723], [4723, 4759], [4759, 4799], [4799, 4831], [4831, 4877], [4877, 4919], [4919, 4967], [4967, 4999], [4999, 5039], [5039, 5087], [5087, 5119], [5119, 5171], [5171, 5227], [5227, 5273], [5273, 5323], [5323, 5381], [5381, 5431], [5431, 5477], [5477, 5519], [5519, 5569], [5569, 5591], [5591, 5647], [5647, 5689], [5689, 5737], [5737, 5779], [5779, 5839], [5839, 5861], [5861, 5897], [5897, 5939], [5939, 5981], [5981, 6007], [6007, 6089], [6089, 6131], [6131, 6197], [6197, 6247], [6247, 6287], [6287, 6337], [6337, 6361], [6361, 6397], [6397, 6451], [6451, 6491], [6491, 6547], [6547, 6581], [6581, 6619], [6619, 6661], [6661, 6719], [6719, 6761], [6761, 6823], [6823, 6857], [6857, 6899], [6899, 6947], [6947, 6977], [6977, 6997], [6997, 7043], [7043, 7057], [7057, 7121], [7121, 7187], [7187, 7219], [7219, 7243], [7243, 7283], [7283, 7333], [7333, 7349], [7349, 7411], [7411, 7451], [7451, 7489], [7489, 7523], [7523, 7561], [7561, 7591], [7591, 7649], [7649, 7691], [7691, 7741], [7741, 7793], [7793, 7841], [7841, 7883], [7883, 7901], [7901, 7993]]\n",
      "[1, 11]\n",
      "1\n",
      "C:\\jupyter\\EVK\\logs\\35_SC\\CRB_Fsweepcrb35_53G\\freq_sweep\\Bin1_m0p0dBm_avdd1p0_crb35_53G_25_ucid_3_boost_0_freq.txt\n",
      "C:\\jupyter\\EVK\\logs\\35_SC\\CRB_Fsweepcrb35_53G\\freq_sweep\\Bin1_m0p0dBm_avdd1p0_crb35_53G_25_ucid_3_boost_0_freq.txt C:\\jupyter\\EVK\\logs\\35_SC\\CRB_Fsweepcrb35_53G\\freq_sweep\\Bin11_m0p0dBm_avdd1p0_crb35_53G_25_ucid_3_boost_0_freq.txt\n"
     ]
    },
    {
     "name": "stderr",
     "output_type": "stream",
     "text": [
      "c:\\python36\\lib\\site-packages\\ipykernel_launcher.py:14: UserWarning: Attempted to set non-positive bottom ylim on a log-scaled axis.\n",
      "Invalid limit will be ignored.\n",
      "  \n"
     ]
    },
    {
     "name": "stdout",
     "output_type": "stream",
     "text": [
      "[11, 13]\n",
      "11\n",
      "C:\\jupyter\\EVK\\logs\\35_SC\\CRB_Fsweepcrb35_53G\\freq_sweep\\Bin11_m0p0dBm_avdd1p0_crb35_53G_25_ucid_3_boost_0_freq.txt\n",
      "C:\\jupyter\\EVK\\logs\\35_SC\\CRB_Fsweepcrb35_53G\\freq_sweep\\Bin11_m0p0dBm_avdd1p0_crb35_53G_25_ucid_3_boost_0_freq.txt C:\\jupyter\\EVK\\logs\\35_SC\\CRB_Fsweepcrb35_53G\\freq_sweep\\Bin13_m0p0dBm_avdd1p0_crb35_53G_25_ucid_3_boost_0_freq.txt\n",
      "[13, 17]\n",
      "13\n",
      "C:\\jupyter\\EVK\\logs\\35_SC\\CRB_Fsweepcrb35_53G\\freq_sweep\\Bin13_m0p0dBm_avdd1p0_crb35_53G_25_ucid_3_boost_0_freq.txt\n",
      "C:\\jupyter\\EVK\\logs\\35_SC\\CRB_Fsweepcrb35_53G\\freq_sweep\\Bin13_m0p0dBm_avdd1p0_crb35_53G_25_ucid_3_boost_0_freq.txt C:\\jupyter\\EVK\\logs\\35_SC\\CRB_Fsweepcrb35_53G\\freq_sweep\\Bin17_m0p0dBm_avdd1p0_crb35_53G_25_ucid_3_boost_0_freq.txt\n",
      "[17, 19]\n",
      "17\n",
      "C:\\jupyter\\EVK\\logs\\35_SC\\CRB_Fsweepcrb35_53G\\freq_sweep\\Bin17_m0p0dBm_avdd1p0_crb35_53G_25_ucid_3_boost_0_freq.txt\n",
      "C:\\jupyter\\EVK\\logs\\35_SC\\CRB_Fsweepcrb35_53G\\freq_sweep\\Bin17_m0p0dBm_avdd1p0_crb35_53G_25_ucid_3_boost_0_freq.txt C:\\jupyter\\EVK\\logs\\35_SC\\CRB_Fsweepcrb35_53G\\freq_sweep\\Bin19_m0p0dBm_avdd1p0_crb35_53G_25_ucid_3_boost_0_freq.txt\n",
      "[19, 23]\n",
      "19\n",
      "C:\\jupyter\\EVK\\logs\\35_SC\\CRB_Fsweepcrb35_53G\\freq_sweep\\Bin19_m0p0dBm_avdd1p0_crb35_53G_25_ucid_3_boost_0_freq.txt\n",
      "C:\\jupyter\\EVK\\logs\\35_SC\\CRB_Fsweepcrb35_53G\\freq_sweep\\Bin19_m0p0dBm_avdd1p0_crb35_53G_25_ucid_3_boost_0_freq.txt C:\\jupyter\\EVK\\logs\\35_SC\\CRB_Fsweepcrb35_53G\\freq_sweep\\Bin23_m0p0dBm_avdd1p0_crb35_53G_25_ucid_3_boost_0_freq.txt\n",
      "[23, 29]\n",
      "23\n",
      "C:\\jupyter\\EVK\\logs\\35_SC\\CRB_Fsweepcrb35_53G\\freq_sweep\\Bin23_m0p0dBm_avdd1p0_crb35_53G_25_ucid_3_boost_0_freq.txt\n",
      "C:\\jupyter\\EVK\\logs\\35_SC\\CRB_Fsweepcrb35_53G\\freq_sweep\\Bin23_m0p0dBm_avdd1p0_crb35_53G_25_ucid_3_boost_0_freq.txt C:\\jupyter\\EVK\\logs\\35_SC\\CRB_Fsweepcrb35_53G\\freq_sweep\\Bin29_m0p0dBm_avdd1p0_crb35_53G_25_ucid_3_boost_0_freq.txt\n",
      "[29, 31]\n",
      "29\n",
      "C:\\jupyter\\EVK\\logs\\35_SC\\CRB_Fsweepcrb35_53G\\freq_sweep\\Bin29_m0p0dBm_avdd1p0_crb35_53G_25_ucid_3_boost_0_freq.txt\n",
      "C:\\jupyter\\EVK\\logs\\35_SC\\CRB_Fsweepcrb35_53G\\freq_sweep\\Bin29_m0p0dBm_avdd1p0_crb35_53G_25_ucid_3_boost_0_freq.txt C:\\jupyter\\EVK\\logs\\35_SC\\CRB_Fsweepcrb35_53G\\freq_sweep\\Bin31_m0p0dBm_avdd1p0_crb35_53G_25_ucid_3_boost_0_freq.txt\n",
      "[31, 37]\n",
      "31\n",
      "C:\\jupyter\\EVK\\logs\\35_SC\\CRB_Fsweepcrb35_53G\\freq_sweep\\Bin31_m0p0dBm_avdd1p0_crb35_53G_25_ucid_3_boost_0_freq.txt\n",
      "C:\\jupyter\\EVK\\logs\\35_SC\\CRB_Fsweepcrb35_53G\\freq_sweep\\Bin31_m0p0dBm_avdd1p0_crb35_53G_25_ucid_3_boost_0_freq.txt C:\\jupyter\\EVK\\logs\\35_SC\\CRB_Fsweepcrb35_53G\\freq_sweep\\Bin37_m0p0dBm_avdd1p0_crb35_53G_25_ucid_3_boost_0_freq.txt\n",
      "[37, 41]\n",
      "37\n",
      "C:\\jupyter\\EVK\\logs\\35_SC\\CRB_Fsweepcrb35_53G\\freq_sweep\\Bin37_m0p0dBm_avdd1p0_crb35_53G_25_ucid_3_boost_0_freq.txt\n",
      "C:\\jupyter\\EVK\\logs\\35_SC\\CRB_Fsweepcrb35_53G\\freq_sweep\\Bin37_m0p0dBm_avdd1p0_crb35_53G_25_ucid_3_boost_0_freq.txt C:\\jupyter\\EVK\\logs\\35_SC\\CRB_Fsweepcrb35_53G\\freq_sweep\\Bin41_m0p0dBm_avdd1p0_crb35_53G_25_ucid_3_boost_0_freq.txt\n",
      "[41, 53]\n",
      "41\n",
      "C:\\jupyter\\EVK\\logs\\35_SC\\CRB_Fsweepcrb35_53G\\freq_sweep\\Bin41_m0p0dBm_avdd1p0_crb35_53G_25_ucid_3_boost_0_freq.txt\n",
      "C:\\jupyter\\EVK\\logs\\35_SC\\CRB_Fsweepcrb35_53G\\freq_sweep\\Bin41_m0p0dBm_avdd1p0_crb35_53G_25_ucid_3_boost_0_freq.txt C:\\jupyter\\EVK\\logs\\35_SC\\CRB_Fsweepcrb35_53G\\freq_sweep\\Bin53_m0p0dBm_avdd1p0_crb35_53G_25_ucid_3_boost_0_freq.txt\n",
      "[53, 59]\n",
      "53\n",
      "C:\\jupyter\\EVK\\logs\\35_SC\\CRB_Fsweepcrb35_53G\\freq_sweep\\Bin53_m0p0dBm_avdd1p0_crb35_53G_25_ucid_3_boost_0_freq.txt\n",
      "C:\\jupyter\\EVK\\logs\\35_SC\\CRB_Fsweepcrb35_53G\\freq_sweep\\Bin53_m0p0dBm_avdd1p0_crb35_53G_25_ucid_3_boost_0_freq.txt C:\\jupyter\\EVK\\logs\\35_SC\\CRB_Fsweepcrb35_53G\\freq_sweep\\Bin59_m0p0dBm_avdd1p0_crb35_53G_25_ucid_3_boost_0_freq.txt\n",
      "[59, 67]\n",
      "59\n",
      "C:\\jupyter\\EVK\\logs\\35_SC\\CRB_Fsweepcrb35_53G\\freq_sweep\\Bin59_m0p0dBm_avdd1p0_crb35_53G_25_ucid_3_boost_0_freq.txt\n",
      "C:\\jupyter\\EVK\\logs\\35_SC\\CRB_Fsweepcrb35_53G\\freq_sweep\\Bin59_m0p0dBm_avdd1p0_crb35_53G_25_ucid_3_boost_0_freq.txt C:\\jupyter\\EVK\\logs\\35_SC\\CRB_Fsweepcrb35_53G\\freq_sweep\\Bin67_m0p0dBm_avdd1p0_crb35_53G_25_ucid_3_boost_0_freq.txt\n",
      "[67, 79]\n",
      "67\n",
      "C:\\jupyter\\EVK\\logs\\35_SC\\CRB_Fsweepcrb35_53G\\freq_sweep\\Bin67_m0p0dBm_avdd1p0_crb35_53G_25_ucid_3_boost_0_freq.txt\n",
      "C:\\jupyter\\EVK\\logs\\35_SC\\CRB_Fsweepcrb35_53G\\freq_sweep\\Bin67_m0p0dBm_avdd1p0_crb35_53G_25_ucid_3_boost_0_freq.txt C:\\jupyter\\EVK\\logs\\35_SC\\CRB_Fsweepcrb35_53G\\freq_sweep\\Bin79_m0p0dBm_avdd1p0_crb35_53G_25_ucid_3_boost_0_freq.txt\n",
      "[79, 83]\n",
      "79\n",
      "C:\\jupyter\\EVK\\logs\\35_SC\\CRB_Fsweepcrb35_53G\\freq_sweep\\Bin79_m0p0dBm_avdd1p0_crb35_53G_25_ucid_3_boost_0_freq.txt\n",
      "C:\\jupyter\\EVK\\logs\\35_SC\\CRB_Fsweepcrb35_53G\\freq_sweep\\Bin79_m0p0dBm_avdd1p0_crb35_53G_25_ucid_3_boost_0_freq.txt C:\\jupyter\\EVK\\logs\\35_SC\\CRB_Fsweepcrb35_53G\\freq_sweep\\Bin83_m0p0dBm_avdd1p0_crb35_53G_25_ucid_3_boost_0_freq.txt\n",
      "[83, 97]\n",
      "83\n",
      "C:\\jupyter\\EVK\\logs\\35_SC\\CRB_Fsweepcrb35_53G\\freq_sweep\\Bin83_m0p0dBm_avdd1p0_crb35_53G_25_ucid_3_boost_0_freq.txt\n",
      "C:\\jupyter\\EVK\\logs\\35_SC\\CRB_Fsweepcrb35_53G\\freq_sweep\\Bin83_m0p0dBm_avdd1p0_crb35_53G_25_ucid_3_boost_0_freq.txt C:\\jupyter\\EVK\\logs\\35_SC\\CRB_Fsweepcrb35_53G\\freq_sweep\\Bin97_m0p0dBm_avdd1p0_crb35_53G_25_ucid_3_boost_0_freq.txt\n",
      "[97, 101]\n",
      "97\n",
      "C:\\jupyter\\EVK\\logs\\35_SC\\CRB_Fsweepcrb35_53G\\freq_sweep\\Bin97_m0p0dBm_avdd1p0_crb35_53G_25_ucid_3_boost_0_freq.txt\n",
      "C:\\jupyter\\EVK\\logs\\35_SC\\CRB_Fsweepcrb35_53G\\freq_sweep\\Bin97_m0p0dBm_avdd1p0_crb35_53G_25_ucid_3_boost_0_freq.txt C:\\jupyter\\EVK\\logs\\35_SC\\CRB_Fsweepcrb35_53G\\freq_sweep\\Bin101_m0p0dBm_avdd1p0_crb35_53G_25_ucid_3_boost_0_freq.txt\n",
      "[101, 103]\n",
      "101\n",
      "C:\\jupyter\\EVK\\logs\\35_SC\\CRB_Fsweepcrb35_53G\\freq_sweep\\Bin101_m0p0dBm_avdd1p0_crb35_53G_25_ucid_3_boost_0_freq.txt\n",
      "C:\\jupyter\\EVK\\logs\\35_SC\\CRB_Fsweepcrb35_53G\\freq_sweep\\Bin101_m0p0dBm_avdd1p0_crb35_53G_25_ucid_3_boost_0_freq.txt C:\\jupyter\\EVK\\logs\\35_SC\\CRB_Fsweepcrb35_53G\\freq_sweep\\Bin103_m0p0dBm_avdd1p0_crb35_53G_25_ucid_3_boost_0_freq.txt\n",
      "[103, 107]\n",
      "103\n",
      "C:\\jupyter\\EVK\\logs\\35_SC\\CRB_Fsweepcrb35_53G\\freq_sweep\\Bin103_m0p0dBm_avdd1p0_crb35_53G_25_ucid_3_boost_0_freq.txt\n",
      "C:\\jupyter\\EVK\\logs\\35_SC\\CRB_Fsweepcrb35_53G\\freq_sweep\\Bin103_m0p0dBm_avdd1p0_crb35_53G_25_ucid_3_boost_0_freq.txt C:\\jupyter\\EVK\\logs\\35_SC\\CRB_Fsweepcrb35_53G\\freq_sweep\\Bin107_m0p0dBm_avdd1p0_crb35_53G_25_ucid_3_boost_0_freq.txt\n",
      "[107, 109]\n",
      "107\n",
      "C:\\jupyter\\EVK\\logs\\35_SC\\CRB_Fsweepcrb35_53G\\freq_sweep\\Bin107_m0p0dBm_avdd1p0_crb35_53G_25_ucid_3_boost_0_freq.txt\n",
      "C:\\jupyter\\EVK\\logs\\35_SC\\CRB_Fsweepcrb35_53G\\freq_sweep\\Bin107_m0p0dBm_avdd1p0_crb35_53G_25_ucid_3_boost_0_freq.txt C:\\jupyter\\EVK\\logs\\35_SC\\CRB_Fsweepcrb35_53G\\freq_sweep\\Bin109_m0p0dBm_avdd1p0_crb35_53G_25_ucid_3_boost_0_freq.txt\n",
      "[109, 113]\n",
      "109\n",
      "C:\\jupyter\\EVK\\logs\\35_SC\\CRB_Fsweepcrb35_53G\\freq_sweep\\Bin109_m0p0dBm_avdd1p0_crb35_53G_25_ucid_3_boost_0_freq.txt\n",
      "C:\\jupyter\\EVK\\logs\\35_SC\\CRB_Fsweepcrb35_53G\\freq_sweep\\Bin109_m0p0dBm_avdd1p0_crb35_53G_25_ucid_3_boost_0_freq.txt C:\\jupyter\\EVK\\logs\\35_SC\\CRB_Fsweepcrb35_53G\\freq_sweep\\Bin113_m0p0dBm_avdd1p0_crb35_53G_25_ucid_3_boost_0_freq.txt\n",
      "[113, 127]\n",
      "113\n",
      "C:\\jupyter\\EVK\\logs\\35_SC\\CRB_Fsweepcrb35_53G\\freq_sweep\\Bin113_m0p0dBm_avdd1p0_crb35_53G_25_ucid_3_boost_0_freq.txt\n",
      "C:\\jupyter\\EVK\\logs\\35_SC\\CRB_Fsweepcrb35_53G\\freq_sweep\\Bin113_m0p0dBm_avdd1p0_crb35_53G_25_ucid_3_boost_0_freq.txt C:\\jupyter\\EVK\\logs\\35_SC\\CRB_Fsweepcrb35_53G\\freq_sweep\\Bin127_m0p0dBm_avdd1p0_crb35_53G_25_ucid_3_boost_0_freq.txt\n",
      "[127, 167]\n",
      "127\n",
      "C:\\jupyter\\EVK\\logs\\35_SC\\CRB_Fsweepcrb35_53G\\freq_sweep\\Bin127_m0p0dBm_avdd1p0_crb35_53G_25_ucid_3_boost_0_freq.txt\n",
      "C:\\jupyter\\EVK\\logs\\35_SC\\CRB_Fsweepcrb35_53G\\freq_sweep\\Bin127_m0p0dBm_avdd1p0_crb35_53G_25_ucid_3_boost_0_freq.txt C:\\jupyter\\EVK\\logs\\35_SC\\CRB_Fsweepcrb35_53G\\freq_sweep\\Bin167_m0p0dBm_avdd1p0_crb35_53G_25_ucid_3_boost_0_freq.txt\n",
      "[167, 227]\n",
      "167\n",
      "C:\\jupyter\\EVK\\logs\\35_SC\\CRB_Fsweepcrb35_53G\\freq_sweep\\Bin167_m0p0dBm_avdd1p0_crb35_53G_25_ucid_3_boost_0_freq.txt\n",
      "C:\\jupyter\\EVK\\logs\\35_SC\\CRB_Fsweepcrb35_53G\\freq_sweep\\Bin167_m0p0dBm_avdd1p0_crb35_53G_25_ucid_3_boost_0_freq.txt C:\\jupyter\\EVK\\logs\\35_SC\\CRB_Fsweepcrb35_53G\\freq_sweep\\Bin227_m0p0dBm_avdd1p0_crb35_53G_25_ucid_3_boost_0_freq.txt\n",
      "[227, 251]\n",
      "227\n",
      "C:\\jupyter\\EVK\\logs\\35_SC\\CRB_Fsweepcrb35_53G\\freq_sweep\\Bin227_m0p0dBm_avdd1p0_crb35_53G_25_ucid_3_boost_0_freq.txt\n",
      "C:\\jupyter\\EVK\\logs\\35_SC\\CRB_Fsweepcrb35_53G\\freq_sweep\\Bin227_m0p0dBm_avdd1p0_crb35_53G_25_ucid_3_boost_0_freq.txt C:\\jupyter\\EVK\\logs\\35_SC\\CRB_Fsweepcrb35_53G\\freq_sweep\\Bin251_m0p0dBm_avdd1p0_crb35_53G_25_ucid_3_boost_0_freq.txt\n"
     ]
    },
    {
     "name": "stdout",
     "output_type": "stream",
     "text": [
      "[251, 269]\n",
      "251\n",
      "C:\\jupyter\\EVK\\logs\\35_SC\\CRB_Fsweepcrb35_53G\\freq_sweep\\Bin251_m0p0dBm_avdd1p0_crb35_53G_25_ucid_3_boost_0_freq.txt\n",
      "C:\\jupyter\\EVK\\logs\\35_SC\\CRB_Fsweepcrb35_53G\\freq_sweep\\Bin251_m0p0dBm_avdd1p0_crb35_53G_25_ucid_3_boost_0_freq.txt C:\\jupyter\\EVK\\logs\\35_SC\\CRB_Fsweepcrb35_53G\\freq_sweep\\Bin269_m0p0dBm_avdd1p0_crb35_53G_25_ucid_3_boost_0_freq.txt\n",
      "[269, 313]\n",
      "269\n",
      "C:\\jupyter\\EVK\\logs\\35_SC\\CRB_Fsweepcrb35_53G\\freq_sweep\\Bin269_m0p0dBm_avdd1p0_crb35_53G_25_ucid_3_boost_0_freq.txt\n",
      "C:\\jupyter\\EVK\\logs\\35_SC\\CRB_Fsweepcrb35_53G\\freq_sweep\\Bin269_m0p0dBm_avdd1p0_crb35_53G_25_ucid_3_boost_0_freq.txt C:\\jupyter\\EVK\\logs\\35_SC\\CRB_Fsweepcrb35_53G\\freq_sweep\\Bin313_m0p0dBm_avdd1p0_crb35_53G_25_ucid_3_boost_0_freq.txt\n",
      "[313, 347]\n",
      "313\n",
      "C:\\jupyter\\EVK\\logs\\35_SC\\CRB_Fsweepcrb35_53G\\freq_sweep\\Bin313_m0p0dBm_avdd1p0_crb35_53G_25_ucid_3_boost_0_freq.txt\n",
      "C:\\jupyter\\EVK\\logs\\35_SC\\CRB_Fsweepcrb35_53G\\freq_sweep\\Bin313_m0p0dBm_avdd1p0_crb35_53G_25_ucid_3_boost_0_freq.txt C:\\jupyter\\EVK\\logs\\35_SC\\CRB_Fsweepcrb35_53G\\freq_sweep\\Bin347_m0p0dBm_avdd1p0_crb35_53G_25_ucid_3_boost_0_freq.txt\n",
      "[347, 383]\n",
      "347\n",
      "C:\\jupyter\\EVK\\logs\\35_SC\\CRB_Fsweepcrb35_53G\\freq_sweep\\Bin347_m0p0dBm_avdd1p0_crb35_53G_25_ucid_3_boost_0_freq.txt\n",
      "C:\\jupyter\\EVK\\logs\\35_SC\\CRB_Fsweepcrb35_53G\\freq_sweep\\Bin347_m0p0dBm_avdd1p0_crb35_53G_25_ucid_3_boost_0_freq.txt C:\\jupyter\\EVK\\logs\\35_SC\\CRB_Fsweepcrb35_53G\\freq_sweep\\Bin383_m0p0dBm_avdd1p0_crb35_53G_25_ucid_3_boost_0_freq.txt\n",
      "[383, 419]\n",
      "383\n",
      "C:\\jupyter\\EVK\\logs\\35_SC\\CRB_Fsweepcrb35_53G\\freq_sweep\\Bin383_m0p0dBm_avdd1p0_crb35_53G_25_ucid_3_boost_0_freq.txt\n",
      "C:\\jupyter\\EVK\\logs\\35_SC\\CRB_Fsweepcrb35_53G\\freq_sweep\\Bin383_m0p0dBm_avdd1p0_crb35_53G_25_ucid_3_boost_0_freq.txt C:\\jupyter\\EVK\\logs\\35_SC\\CRB_Fsweepcrb35_53G\\freq_sweep\\Bin419_m0p0dBm_avdd1p0_crb35_53G_25_ucid_3_boost_0_freq.txt\n",
      "[419, 457]\n",
      "419\n",
      "C:\\jupyter\\EVK\\logs\\35_SC\\CRB_Fsweepcrb35_53G\\freq_sweep\\Bin419_m0p0dBm_avdd1p0_crb35_53G_25_ucid_3_boost_0_freq.txt\n",
      "C:\\jupyter\\EVK\\logs\\35_SC\\CRB_Fsweepcrb35_53G\\freq_sweep\\Bin419_m0p0dBm_avdd1p0_crb35_53G_25_ucid_3_boost_0_freq.txt C:\\jupyter\\EVK\\logs\\35_SC\\CRB_Fsweepcrb35_53G\\freq_sweep\\Bin457_m0p0dBm_avdd1p0_crb35_53G_25_ucid_3_boost_0_freq.txt\n",
      "[457, 491]\n",
      "457\n",
      "C:\\jupyter\\EVK\\logs\\35_SC\\CRB_Fsweepcrb35_53G\\freq_sweep\\Bin457_m0p0dBm_avdd1p0_crb35_53G_25_ucid_3_boost_0_freq.txt\n",
      "C:\\jupyter\\EVK\\logs\\35_SC\\CRB_Fsweepcrb35_53G\\freq_sweep\\Bin457_m0p0dBm_avdd1p0_crb35_53G_25_ucid_3_boost_0_freq.txt C:\\jupyter\\EVK\\logs\\35_SC\\CRB_Fsweepcrb35_53G\\freq_sweep\\Bin491_m0p0dBm_avdd1p0_crb35_53G_25_ucid_3_boost_0_freq.txt\n",
      "[491, 521]\n",
      "491\n",
      "C:\\jupyter\\EVK\\logs\\35_SC\\CRB_Fsweepcrb35_53G\\freq_sweep\\Bin491_m0p0dBm_avdd1p0_crb35_53G_25_ucid_3_boost_0_freq.txt\n",
      "C:\\jupyter\\EVK\\logs\\35_SC\\CRB_Fsweepcrb35_53G\\freq_sweep\\Bin491_m0p0dBm_avdd1p0_crb35_53G_25_ucid_3_boost_0_freq.txt C:\\jupyter\\EVK\\logs\\35_SC\\CRB_Fsweepcrb35_53G\\freq_sweep\\Bin521_m0p0dBm_avdd1p0_crb35_53G_25_ucid_3_boost_0_freq.txt\n",
      "[521, 563]\n",
      "521\n",
      "C:\\jupyter\\EVK\\logs\\35_SC\\CRB_Fsweepcrb35_53G\\freq_sweep\\Bin521_m0p0dBm_avdd1p0_crb35_53G_25_ucid_3_boost_0_freq.txt\n",
      "C:\\jupyter\\EVK\\logs\\35_SC\\CRB_Fsweepcrb35_53G\\freq_sweep\\Bin521_m0p0dBm_avdd1p0_crb35_53G_25_ucid_3_boost_0_freq.txt C:\\jupyter\\EVK\\logs\\35_SC\\CRB_Fsweepcrb35_53G\\freq_sweep\\Bin563_m0p0dBm_avdd1p0_crb35_53G_25_ucid_3_boost_0_freq.txt\n",
      "[563, 607]\n",
      "563\n",
      "C:\\jupyter\\EVK\\logs\\35_SC\\CRB_Fsweepcrb35_53G\\freq_sweep\\Bin563_m0p0dBm_avdd1p0_crb35_53G_25_ucid_3_boost_0_freq.txt\n",
      "C:\\jupyter\\EVK\\logs\\35_SC\\CRB_Fsweepcrb35_53G\\freq_sweep\\Bin563_m0p0dBm_avdd1p0_crb35_53G_25_ucid_3_boost_0_freq.txt C:\\jupyter\\EVK\\logs\\35_SC\\CRB_Fsweepcrb35_53G\\freq_sweep\\Bin607_m0p0dBm_avdd1p0_crb35_53G_25_ucid_3_boost_0_freq.txt\n",
      "[607, 647]\n",
      "607\n",
      "C:\\jupyter\\EVK\\logs\\35_SC\\CRB_Fsweepcrb35_53G\\freq_sweep\\Bin607_m0p0dBm_avdd1p0_crb35_53G_25_ucid_3_boost_0_freq.txt\n",
      "C:\\jupyter\\EVK\\logs\\35_SC\\CRB_Fsweepcrb35_53G\\freq_sweep\\Bin607_m0p0dBm_avdd1p0_crb35_53G_25_ucid_3_boost_0_freq.txt C:\\jupyter\\EVK\\logs\\35_SC\\CRB_Fsweepcrb35_53G\\freq_sweep\\Bin647_m0p0dBm_avdd1p0_crb35_53G_25_ucid_3_boost_0_freq.txt\n",
      "[647, 691]\n",
      "647\n",
      "C:\\jupyter\\EVK\\logs\\35_SC\\CRB_Fsweepcrb35_53G\\freq_sweep\\Bin647_m0p0dBm_avdd1p0_crb35_53G_25_ucid_3_boost_0_freq.txt\n",
      "C:\\jupyter\\EVK\\logs\\35_SC\\CRB_Fsweepcrb35_53G\\freq_sweep\\Bin647_m0p0dBm_avdd1p0_crb35_53G_25_ucid_3_boost_0_freq.txt C:\\jupyter\\EVK\\logs\\35_SC\\CRB_Fsweepcrb35_53G\\freq_sweep\\Bin691_m0p0dBm_avdd1p0_crb35_53G_25_ucid_3_boost_0_freq.txt\n",
      "[691, 739]\n",
      "691\n",
      "C:\\jupyter\\EVK\\logs\\35_SC\\CRB_Fsweepcrb35_53G\\freq_sweep\\Bin691_m0p0dBm_avdd1p0_crb35_53G_25_ucid_3_boost_0_freq.txt\n",
      "C:\\jupyter\\EVK\\logs\\35_SC\\CRB_Fsweepcrb35_53G\\freq_sweep\\Bin691_m0p0dBm_avdd1p0_crb35_53G_25_ucid_3_boost_0_freq.txt C:\\jupyter\\EVK\\logs\\35_SC\\CRB_Fsweepcrb35_53G\\freq_sweep\\Bin739_m0p0dBm_avdd1p0_crb35_53G_25_ucid_3_boost_0_freq.txt\n",
      "[739, 773]\n",
      "739\n",
      "C:\\jupyter\\EVK\\logs\\35_SC\\CRB_Fsweepcrb35_53G\\freq_sweep\\Bin739_m0p0dBm_avdd1p0_crb35_53G_25_ucid_3_boost_0_freq.txt\n",
      "C:\\jupyter\\EVK\\logs\\35_SC\\CRB_Fsweepcrb35_53G\\freq_sweep\\Bin739_m0p0dBm_avdd1p0_crb35_53G_25_ucid_3_boost_0_freq.txt C:\\jupyter\\EVK\\logs\\35_SC\\CRB_Fsweepcrb35_53G\\freq_sweep\\Bin773_m0p0dBm_avdd1p0_crb35_53G_25_ucid_3_boost_0_freq.txt\n",
      "[773, 839]\n",
      "773\n",
      "C:\\jupyter\\EVK\\logs\\35_SC\\CRB_Fsweepcrb35_53G\\freq_sweep\\Bin773_m0p0dBm_avdd1p0_crb35_53G_25_ucid_3_boost_0_freq.txt\n",
      "C:\\jupyter\\EVK\\logs\\35_SC\\CRB_Fsweepcrb35_53G\\freq_sweep\\Bin773_m0p0dBm_avdd1p0_crb35_53G_25_ucid_3_boost_0_freq.txt C:\\jupyter\\EVK\\logs\\35_SC\\CRB_Fsweepcrb35_53G\\freq_sweep\\Bin839_m0p0dBm_avdd1p0_crb35_53G_25_ucid_3_boost_0_freq.txt\n",
      "[839, 881]\n",
      "839\n",
      "C:\\jupyter\\EVK\\logs\\35_SC\\CRB_Fsweepcrb35_53G\\freq_sweep\\Bin839_m0p0dBm_avdd1p0_crb35_53G_25_ucid_3_boost_0_freq.txt\n",
      "C:\\jupyter\\EVK\\logs\\35_SC\\CRB_Fsweepcrb35_53G\\freq_sweep\\Bin839_m0p0dBm_avdd1p0_crb35_53G_25_ucid_3_boost_0_freq.txt C:\\jupyter\\EVK\\logs\\35_SC\\CRB_Fsweepcrb35_53G\\freq_sweep\\Bin881_m0p0dBm_avdd1p0_crb35_53G_25_ucid_3_boost_0_freq.txt\n",
      "[881, 941]\n",
      "881\n",
      "C:\\jupyter\\EVK\\logs\\35_SC\\CRB_Fsweepcrb35_53G\\freq_sweep\\Bin881_m0p0dBm_avdd1p0_crb35_53G_25_ucid_3_boost_0_freq.txt\n",
      "C:\\jupyter\\EVK\\logs\\35_SC\\CRB_Fsweepcrb35_53G\\freq_sweep\\Bin881_m0p0dBm_avdd1p0_crb35_53G_25_ucid_3_boost_0_freq.txt C:\\jupyter\\EVK\\logs\\35_SC\\CRB_Fsweepcrb35_53G\\freq_sweep\\Bin941_m0p0dBm_avdd1p0_crb35_53G_25_ucid_3_boost_0_freq.txt\n",
      "[941, 991]\n",
      "941\n",
      "C:\\jupyter\\EVK\\logs\\35_SC\\CRB_Fsweepcrb35_53G\\freq_sweep\\Bin941_m0p0dBm_avdd1p0_crb35_53G_25_ucid_3_boost_0_freq.txt\n",
      "C:\\jupyter\\EVK\\logs\\35_SC\\CRB_Fsweepcrb35_53G\\freq_sweep\\Bin941_m0p0dBm_avdd1p0_crb35_53G_25_ucid_3_boost_0_freq.txt C:\\jupyter\\EVK\\logs\\35_SC\\CRB_Fsweepcrb35_53G\\freq_sweep\\Bin991_m0p0dBm_avdd1p0_crb35_53G_25_ucid_3_boost_0_freq.txt\n",
      "[991, 1051]\n",
      "991\n",
      "C:\\jupyter\\EVK\\logs\\35_SC\\CRB_Fsweepcrb35_53G\\freq_sweep\\Bin991_m0p0dBm_avdd1p0_crb35_53G_25_ucid_3_boost_0_freq.txt\n",
      "C:\\jupyter\\EVK\\logs\\35_SC\\CRB_Fsweepcrb35_53G\\freq_sweep\\Bin991_m0p0dBm_avdd1p0_crb35_53G_25_ucid_3_boost_0_freq.txt C:\\jupyter\\EVK\\logs\\35_SC\\CRB_Fsweepcrb35_53G\\freq_sweep\\Bin1051_m0p0dBm_avdd1p0_crb35_53G_25_ucid_3_boost_0_freq.txt\n",
      "[1051, 1097]\n",
      "1051\n",
      "C:\\jupyter\\EVK\\logs\\35_SC\\CRB_Fsweepcrb35_53G\\freq_sweep\\Bin1051_m0p0dBm_avdd1p0_crb35_53G_25_ucid_3_boost_0_freq.txt\n",
      "C:\\jupyter\\EVK\\logs\\35_SC\\CRB_Fsweepcrb35_53G\\freq_sweep\\Bin1051_m0p0dBm_avdd1p0_crb35_53G_25_ucid_3_boost_0_freq.txt C:\\jupyter\\EVK\\logs\\35_SC\\CRB_Fsweepcrb35_53G\\freq_sweep\\Bin1097_m0p0dBm_avdd1p0_crb35_53G_25_ucid_3_boost_0_freq.txt\n",
      "[1097, 1151]\n",
      "1097\n",
      "C:\\jupyter\\EVK\\logs\\35_SC\\CRB_Fsweepcrb35_53G\\freq_sweep\\Bin1097_m0p0dBm_avdd1p0_crb35_53G_25_ucid_3_boost_0_freq.txt\n",
      "C:\\jupyter\\EVK\\logs\\35_SC\\CRB_Fsweepcrb35_53G\\freq_sweep\\Bin1097_m0p0dBm_avdd1p0_crb35_53G_25_ucid_3_boost_0_freq.txt C:\\jupyter\\EVK\\logs\\35_SC\\CRB_Fsweepcrb35_53G\\freq_sweep\\Bin1151_m0p0dBm_avdd1p0_crb35_53G_25_ucid_3_boost_0_freq.txt\n",
      "[1151, 1193]\n",
      "1151\n",
      "C:\\jupyter\\EVK\\logs\\35_SC\\CRB_Fsweepcrb35_53G\\freq_sweep\\Bin1151_m0p0dBm_avdd1p0_crb35_53G_25_ucid_3_boost_0_freq.txt\n",
      "C:\\jupyter\\EVK\\logs\\35_SC\\CRB_Fsweepcrb35_53G\\freq_sweep\\Bin1151_m0p0dBm_avdd1p0_crb35_53G_25_ucid_3_boost_0_freq.txt C:\\jupyter\\EVK\\logs\\35_SC\\CRB_Fsweepcrb35_53G\\freq_sweep\\Bin1193_m0p0dBm_avdd1p0_crb35_53G_25_ucid_3_boost_0_freq.txt\n",
      "[1193, 1237]\n",
      "1193\n",
      "C:\\jupyter\\EVK\\logs\\35_SC\\CRB_Fsweepcrb35_53G\\freq_sweep\\Bin1193_m0p0dBm_avdd1p0_crb35_53G_25_ucid_3_boost_0_freq.txt\n",
      "C:\\jupyter\\EVK\\logs\\35_SC\\CRB_Fsweepcrb35_53G\\freq_sweep\\Bin1193_m0p0dBm_avdd1p0_crb35_53G_25_ucid_3_boost_0_freq.txt C:\\jupyter\\EVK\\logs\\35_SC\\CRB_Fsweepcrb35_53G\\freq_sweep\\Bin1237_m0p0dBm_avdd1p0_crb35_53G_25_ucid_3_boost_0_freq.txt\n"
     ]
    },
    {
     "name": "stdout",
     "output_type": "stream",
     "text": [
      "[1237, 1279]\n",
      "1237\n",
      "C:\\jupyter\\EVK\\logs\\35_SC\\CRB_Fsweepcrb35_53G\\freq_sweep\\Bin1237_m0p0dBm_avdd1p0_crb35_53G_25_ucid_3_boost_0_freq.txt\n",
      "C:\\jupyter\\EVK\\logs\\35_SC\\CRB_Fsweepcrb35_53G\\freq_sweep\\Bin1237_m0p0dBm_avdd1p0_crb35_53G_25_ucid_3_boost_0_freq.txt C:\\jupyter\\EVK\\logs\\35_SC\\CRB_Fsweepcrb35_53G\\freq_sweep\\Bin1279_m0p0dBm_avdd1p0_crb35_53G_25_ucid_3_boost_0_freq.txt\n",
      "[1279, 1321]\n",
      "1279\n",
      "C:\\jupyter\\EVK\\logs\\35_SC\\CRB_Fsweepcrb35_53G\\freq_sweep\\Bin1279_m0p0dBm_avdd1p0_crb35_53G_25_ucid_3_boost_0_freq.txt\n",
      "C:\\jupyter\\EVK\\logs\\35_SC\\CRB_Fsweepcrb35_53G\\freq_sweep\\Bin1279_m0p0dBm_avdd1p0_crb35_53G_25_ucid_3_boost_0_freq.txt C:\\jupyter\\EVK\\logs\\35_SC\\CRB_Fsweepcrb35_53G\\freq_sweep\\Bin1321_m0p0dBm_avdd1p0_crb35_53G_25_ucid_3_boost_0_freq.txt\n",
      "[1321, 1373]\n",
      "1321\n",
      "C:\\jupyter\\EVK\\logs\\35_SC\\CRB_Fsweepcrb35_53G\\freq_sweep\\Bin1321_m0p0dBm_avdd1p0_crb35_53G_25_ucid_3_boost_0_freq.txt\n",
      "C:\\jupyter\\EVK\\logs\\35_SC\\CRB_Fsweepcrb35_53G\\freq_sweep\\Bin1321_m0p0dBm_avdd1p0_crb35_53G_25_ucid_3_boost_0_freq.txt C:\\jupyter\\EVK\\logs\\35_SC\\CRB_Fsweepcrb35_53G\\freq_sweep\\Bin1373_m0p0dBm_avdd1p0_crb35_53G_25_ucid_3_boost_0_freq.txt\n",
      "[1373, 1439]\n",
      "1373\n",
      "C:\\jupyter\\EVK\\logs\\35_SC\\CRB_Fsweepcrb35_53G\\freq_sweep\\Bin1373_m0p0dBm_avdd1p0_crb35_53G_25_ucid_3_boost_0_freq.txt\n",
      "C:\\jupyter\\EVK\\logs\\35_SC\\CRB_Fsweepcrb35_53G\\freq_sweep\\Bin1373_m0p0dBm_avdd1p0_crb35_53G_25_ucid_3_boost_0_freq.txt C:\\jupyter\\EVK\\logs\\35_SC\\CRB_Fsweepcrb35_53G\\freq_sweep\\Bin1439_m0p0dBm_avdd1p0_crb35_53G_25_ucid_3_boost_0_freq.txt\n",
      "[1439, 1487]\n",
      "1439\n",
      "C:\\jupyter\\EVK\\logs\\35_SC\\CRB_Fsweepcrb35_53G\\freq_sweep\\Bin1439_m0p0dBm_avdd1p0_crb35_53G_25_ucid_3_boost_0_freq.txt\n",
      "C:\\jupyter\\EVK\\logs\\35_SC\\CRB_Fsweepcrb35_53G\\freq_sweep\\Bin1439_m0p0dBm_avdd1p0_crb35_53G_25_ucid_3_boost_0_freq.txt C:\\jupyter\\EVK\\logs\\35_SC\\CRB_Fsweepcrb35_53G\\freq_sweep\\Bin1487_m0p0dBm_avdd1p0_crb35_53G_25_ucid_3_boost_0_freq.txt\n",
      "[1487, 1523]\n",
      "1487\n",
      "C:\\jupyter\\EVK\\logs\\35_SC\\CRB_Fsweepcrb35_53G\\freq_sweep\\Bin1487_m0p0dBm_avdd1p0_crb35_53G_25_ucid_3_boost_0_freq.txt\n",
      "C:\\jupyter\\EVK\\logs\\35_SC\\CRB_Fsweepcrb35_53G\\freq_sweep\\Bin1487_m0p0dBm_avdd1p0_crb35_53G_25_ucid_3_boost_0_freq.txt C:\\jupyter\\EVK\\logs\\35_SC\\CRB_Fsweepcrb35_53G\\freq_sweep\\Bin1523_m0p0dBm_avdd1p0_crb35_53G_25_ucid_3_boost_0_freq.txt\n",
      "[1523, 1567]\n",
      "1523\n",
      "C:\\jupyter\\EVK\\logs\\35_SC\\CRB_Fsweepcrb35_53G\\freq_sweep\\Bin1523_m0p0dBm_avdd1p0_crb35_53G_25_ucid_3_boost_0_freq.txt\n",
      "C:\\jupyter\\EVK\\logs\\35_SC\\CRB_Fsweepcrb35_53G\\freq_sweep\\Bin1523_m0p0dBm_avdd1p0_crb35_53G_25_ucid_3_boost_0_freq.txt C:\\jupyter\\EVK\\logs\\35_SC\\CRB_Fsweepcrb35_53G\\freq_sweep\\Bin1567_m0p0dBm_avdd1p0_crb35_53G_25_ucid_3_boost_0_freq.txt\n",
      "[1567, 1601]\n",
      "1567\n",
      "C:\\jupyter\\EVK\\logs\\35_SC\\CRB_Fsweepcrb35_53G\\freq_sweep\\Bin1567_m0p0dBm_avdd1p0_crb35_53G_25_ucid_3_boost_0_freq.txt\n",
      "C:\\jupyter\\EVK\\logs\\35_SC\\CRB_Fsweepcrb35_53G\\freq_sweep\\Bin1567_m0p0dBm_avdd1p0_crb35_53G_25_ucid_3_boost_0_freq.txt C:\\jupyter\\EVK\\logs\\35_SC\\CRB_Fsweepcrb35_53G\\freq_sweep\\Bin1601_m0p0dBm_avdd1p0_crb35_53G_25_ucid_3_boost_0_freq.txt\n",
      "[1601, 1637]\n",
      "1601\n",
      "C:\\jupyter\\EVK\\logs\\35_SC\\CRB_Fsweepcrb35_53G\\freq_sweep\\Bin1601_m0p0dBm_avdd1p0_crb35_53G_25_ucid_3_boost_0_freq.txt\n",
      "C:\\jupyter\\EVK\\logs\\35_SC\\CRB_Fsweepcrb35_53G\\freq_sweep\\Bin1601_m0p0dBm_avdd1p0_crb35_53G_25_ucid_3_boost_0_freq.txt C:\\jupyter\\EVK\\logs\\35_SC\\CRB_Fsweepcrb35_53G\\freq_sweep\\Bin1637_m0p0dBm_avdd1p0_crb35_53G_25_ucid_3_boost_0_freq.txt\n",
      "[1637, 1693]\n",
      "1637\n",
      "C:\\jupyter\\EVK\\logs\\35_SC\\CRB_Fsweepcrb35_53G\\freq_sweep\\Bin1637_m0p0dBm_avdd1p0_crb35_53G_25_ucid_3_boost_0_freq.txt\n",
      "C:\\jupyter\\EVK\\logs\\35_SC\\CRB_Fsweepcrb35_53G\\freq_sweep\\Bin1637_m0p0dBm_avdd1p0_crb35_53G_25_ucid_3_boost_0_freq.txt C:\\jupyter\\EVK\\logs\\35_SC\\CRB_Fsweepcrb35_53G\\freq_sweep\\Bin1693_m0p0dBm_avdd1p0_crb35_53G_25_ucid_3_boost_0_freq.txt\n",
      "[1693, 1741]\n",
      "1693\n",
      "C:\\jupyter\\EVK\\logs\\35_SC\\CRB_Fsweepcrb35_53G\\freq_sweep\\Bin1693_m0p0dBm_avdd1p0_crb35_53G_25_ucid_3_boost_0_freq.txt\n",
      "C:\\jupyter\\EVK\\logs\\35_SC\\CRB_Fsweepcrb35_53G\\freq_sweep\\Bin1693_m0p0dBm_avdd1p0_crb35_53G_25_ucid_3_boost_0_freq.txt C:\\jupyter\\EVK\\logs\\35_SC\\CRB_Fsweepcrb35_53G\\freq_sweep\\Bin1741_m0p0dBm_avdd1p0_crb35_53G_25_ucid_3_boost_0_freq.txt\n",
      "[1741, 1783]\n",
      "1741\n",
      "C:\\jupyter\\EVK\\logs\\35_SC\\CRB_Fsweepcrb35_53G\\freq_sweep\\Bin1741_m0p0dBm_avdd1p0_crb35_53G_25_ucid_3_boost_0_freq.txt\n",
      "C:\\jupyter\\EVK\\logs\\35_SC\\CRB_Fsweepcrb35_53G\\freq_sweep\\Bin1741_m0p0dBm_avdd1p0_crb35_53G_25_ucid_3_boost_0_freq.txt C:\\jupyter\\EVK\\logs\\35_SC\\CRB_Fsweepcrb35_53G\\freq_sweep\\Bin1783_m0p0dBm_avdd1p0_crb35_53G_25_ucid_3_boost_0_freq.txt\n",
      "[1783, 1823]\n",
      "1783\n",
      "C:\\jupyter\\EVK\\logs\\35_SC\\CRB_Fsweepcrb35_53G\\freq_sweep\\Bin1783_m0p0dBm_avdd1p0_crb35_53G_25_ucid_3_boost_0_freq.txt\n",
      "C:\\jupyter\\EVK\\logs\\35_SC\\CRB_Fsweepcrb35_53G\\freq_sweep\\Bin1783_m0p0dBm_avdd1p0_crb35_53G_25_ucid_3_boost_0_freq.txt C:\\jupyter\\EVK\\logs\\35_SC\\CRB_Fsweepcrb35_53G\\freq_sweep\\Bin1823_m0p0dBm_avdd1p0_crb35_53G_25_ucid_3_boost_0_freq.txt\n",
      "[1823, 1877]\n",
      "1823\n",
      "C:\\jupyter\\EVK\\logs\\35_SC\\CRB_Fsweepcrb35_53G\\freq_sweep\\Bin1823_m0p0dBm_avdd1p0_crb35_53G_25_ucid_3_boost_0_freq.txt\n",
      "C:\\jupyter\\EVK\\logs\\35_SC\\CRB_Fsweepcrb35_53G\\freq_sweep\\Bin1823_m0p0dBm_avdd1p0_crb35_53G_25_ucid_3_boost_0_freq.txt C:\\jupyter\\EVK\\logs\\35_SC\\CRB_Fsweepcrb35_53G\\freq_sweep\\Bin1877_m0p0dBm_avdd1p0_crb35_53G_25_ucid_3_boost_0_freq.txt\n",
      "[1877, 1933]\n",
      "1877\n",
      "C:\\jupyter\\EVK\\logs\\35_SC\\CRB_Fsweepcrb35_53G\\freq_sweep\\Bin1877_m0p0dBm_avdd1p0_crb35_53G_25_ucid_3_boost_0_freq.txt\n",
      "C:\\jupyter\\EVK\\logs\\35_SC\\CRB_Fsweepcrb35_53G\\freq_sweep\\Bin1877_m0p0dBm_avdd1p0_crb35_53G_25_ucid_3_boost_0_freq.txt C:\\jupyter\\EVK\\logs\\35_SC\\CRB_Fsweepcrb35_53G\\freq_sweep\\Bin1933_m0p0dBm_avdd1p0_crb35_53G_25_ucid_3_boost_0_freq.txt\n",
      "[1933, 1973]\n",
      "1933\n",
      "C:\\jupyter\\EVK\\logs\\35_SC\\CRB_Fsweepcrb35_53G\\freq_sweep\\Bin1933_m0p0dBm_avdd1p0_crb35_53G_25_ucid_3_boost_0_freq.txt\n",
      "C:\\jupyter\\EVK\\logs\\35_SC\\CRB_Fsweepcrb35_53G\\freq_sweep\\Bin1933_m0p0dBm_avdd1p0_crb35_53G_25_ucid_3_boost_0_freq.txt C:\\jupyter\\EVK\\logs\\35_SC\\CRB_Fsweepcrb35_53G\\freq_sweep\\Bin1973_m0p0dBm_avdd1p0_crb35_53G_25_ucid_3_boost_0_freq.txt\n",
      "[1973, 2017]\n",
      "1973\n",
      "C:\\jupyter\\EVK\\logs\\35_SC\\CRB_Fsweepcrb35_53G\\freq_sweep\\Bin1973_m0p0dBm_avdd1p0_crb35_53G_25_ucid_3_boost_0_freq.txt\n",
      "C:\\jupyter\\EVK\\logs\\35_SC\\CRB_Fsweepcrb35_53G\\freq_sweep\\Bin1973_m0p0dBm_avdd1p0_crb35_53G_25_ucid_3_boost_0_freq.txt C:\\jupyter\\EVK\\logs\\35_SC\\CRB_Fsweepcrb35_53G\\freq_sweep\\Bin2017_m0p0dBm_avdd1p0_crb35_53G_25_ucid_3_boost_0_freq.txt\n",
      "[2017, 2063]\n",
      "2017\n",
      "C:\\jupyter\\EVK\\logs\\35_SC\\CRB_Fsweepcrb35_53G\\freq_sweep\\Bin2017_m0p0dBm_avdd1p0_crb35_53G_25_ucid_3_boost_0_freq.txt\n",
      "C:\\jupyter\\EVK\\logs\\35_SC\\CRB_Fsweepcrb35_53G\\freq_sweep\\Bin2017_m0p0dBm_avdd1p0_crb35_53G_25_ucid_3_boost_0_freq.txt C:\\jupyter\\EVK\\logs\\35_SC\\CRB_Fsweepcrb35_53G\\freq_sweep\\Bin2063_m0p0dBm_avdd1p0_crb35_53G_25_ucid_3_boost_0_freq.txt\n",
      "[2063, 2113]\n",
      "2063\n",
      "C:\\jupyter\\EVK\\logs\\35_SC\\CRB_Fsweepcrb35_53G\\freq_sweep\\Bin2063_m0p0dBm_avdd1p0_crb35_53G_25_ucid_3_boost_0_freq.txt\n",
      "C:\\jupyter\\EVK\\logs\\35_SC\\CRB_Fsweepcrb35_53G\\freq_sweep\\Bin2063_m0p0dBm_avdd1p0_crb35_53G_25_ucid_3_boost_0_freq.txt C:\\jupyter\\EVK\\logs\\35_SC\\CRB_Fsweepcrb35_53G\\freq_sweep\\Bin2113_m0p0dBm_avdd1p0_crb35_53G_25_ucid_3_boost_0_freq.txt\n",
      "[2113, 2153]\n",
      "2113\n",
      "C:\\jupyter\\EVK\\logs\\35_SC\\CRB_Fsweepcrb35_53G\\freq_sweep\\Bin2113_m0p0dBm_avdd1p0_crb35_53G_25_ucid_3_boost_0_freq.txt\n",
      "C:\\jupyter\\EVK\\logs\\35_SC\\CRB_Fsweepcrb35_53G\\freq_sweep\\Bin2113_m0p0dBm_avdd1p0_crb35_53G_25_ucid_3_boost_0_freq.txt C:\\jupyter\\EVK\\logs\\35_SC\\CRB_Fsweepcrb35_53G\\freq_sweep\\Bin2153_m0p0dBm_avdd1p0_crb35_53G_25_ucid_3_boost_0_freq.txt\n",
      "[2153, 2203]\n",
      "2153\n",
      "C:\\jupyter\\EVK\\logs\\35_SC\\CRB_Fsweepcrb35_53G\\freq_sweep\\Bin2153_m0p0dBm_avdd1p0_crb35_53G_25_ucid_3_boost_0_freq.txt\n",
      "C:\\jupyter\\EVK\\logs\\35_SC\\CRB_Fsweepcrb35_53G\\freq_sweep\\Bin2153_m0p0dBm_avdd1p0_crb35_53G_25_ucid_3_boost_0_freq.txt C:\\jupyter\\EVK\\logs\\35_SC\\CRB_Fsweepcrb35_53G\\freq_sweep\\Bin2203_m0p0dBm_avdd1p0_crb35_53G_25_ucid_3_boost_0_freq.txt\n",
      "[2203, 2251]\n",
      "2203\n",
      "C:\\jupyter\\EVK\\logs\\35_SC\\CRB_Fsweepcrb35_53G\\freq_sweep\\Bin2203_m0p0dBm_avdd1p0_crb35_53G_25_ucid_3_boost_0_freq.txt\n",
      "C:\\jupyter\\EVK\\logs\\35_SC\\CRB_Fsweepcrb35_53G\\freq_sweep\\Bin2203_m0p0dBm_avdd1p0_crb35_53G_25_ucid_3_boost_0_freq.txt C:\\jupyter\\EVK\\logs\\35_SC\\CRB_Fsweepcrb35_53G\\freq_sweep\\Bin2251_m0p0dBm_avdd1p0_crb35_53G_25_ucid_3_boost_0_freq.txt\n",
      "[2251, 2311]\n",
      "2251\n",
      "C:\\jupyter\\EVK\\logs\\35_SC\\CRB_Fsweepcrb35_53G\\freq_sweep\\Bin2251_m0p0dBm_avdd1p0_crb35_53G_25_ucid_3_boost_0_freq.txt\n",
      "C:\\jupyter\\EVK\\logs\\35_SC\\CRB_Fsweepcrb35_53G\\freq_sweep\\Bin2251_m0p0dBm_avdd1p0_crb35_53G_25_ucid_3_boost_0_freq.txt C:\\jupyter\\EVK\\logs\\35_SC\\CRB_Fsweepcrb35_53G\\freq_sweep\\Bin2311_m0p0dBm_avdd1p0_crb35_53G_25_ucid_3_boost_0_freq.txt\n"
     ]
    },
    {
     "name": "stdout",
     "output_type": "stream",
     "text": [
      "[2311, 2371]\n",
      "2311\n",
      "C:\\jupyter\\EVK\\logs\\35_SC\\CRB_Fsweepcrb35_53G\\freq_sweep\\Bin2311_m0p0dBm_avdd1p0_crb35_53G_25_ucid_3_boost_0_freq.txt\n",
      "C:\\jupyter\\EVK\\logs\\35_SC\\CRB_Fsweepcrb35_53G\\freq_sweep\\Bin2311_m0p0dBm_avdd1p0_crb35_53G_25_ucid_3_boost_0_freq.txt C:\\jupyter\\EVK\\logs\\35_SC\\CRB_Fsweepcrb35_53G\\freq_sweep\\Bin2371_m0p0dBm_avdd1p0_crb35_53G_25_ucid_3_boost_0_freq.txt\n",
      "[2371, 2411]\n",
      "2371\n",
      "C:\\jupyter\\EVK\\logs\\35_SC\\CRB_Fsweepcrb35_53G\\freq_sweep\\Bin2371_m0p0dBm_avdd1p0_crb35_53G_25_ucid_3_boost_0_freq.txt\n",
      "C:\\jupyter\\EVK\\logs\\35_SC\\CRB_Fsweepcrb35_53G\\freq_sweep\\Bin2371_m0p0dBm_avdd1p0_crb35_53G_25_ucid_3_boost_0_freq.txt C:\\jupyter\\EVK\\logs\\35_SC\\CRB_Fsweepcrb35_53G\\freq_sweep\\Bin2411_m0p0dBm_avdd1p0_crb35_53G_25_ucid_3_boost_0_freq.txt\n",
      "[2411, 2447]\n",
      "2411\n",
      "C:\\jupyter\\EVK\\logs\\35_SC\\CRB_Fsweepcrb35_53G\\freq_sweep\\Bin2411_m0p0dBm_avdd1p0_crb35_53G_25_ucid_3_boost_0_freq.txt\n",
      "C:\\jupyter\\EVK\\logs\\35_SC\\CRB_Fsweepcrb35_53G\\freq_sweep\\Bin2411_m0p0dBm_avdd1p0_crb35_53G_25_ucid_3_boost_0_freq.txt C:\\jupyter\\EVK\\logs\\35_SC\\CRB_Fsweepcrb35_53G\\freq_sweep\\Bin2447_m0p0dBm_avdd1p0_crb35_53G_25_ucid_3_boost_0_freq.txt\n",
      "[2447, 2503]\n",
      "2447\n",
      "C:\\jupyter\\EVK\\logs\\35_SC\\CRB_Fsweepcrb35_53G\\freq_sweep\\Bin2447_m0p0dBm_avdd1p0_crb35_53G_25_ucid_3_boost_0_freq.txt\n",
      "C:\\jupyter\\EVK\\logs\\35_SC\\CRB_Fsweepcrb35_53G\\freq_sweep\\Bin2447_m0p0dBm_avdd1p0_crb35_53G_25_ucid_3_boost_0_freq.txt C:\\jupyter\\EVK\\logs\\35_SC\\CRB_Fsweepcrb35_53G\\freq_sweep\\Bin2503_m0p0dBm_avdd1p0_crb35_53G_25_ucid_3_boost_0_freq.txt\n",
      "[2503, 2557]\n",
      "2503\n",
      "C:\\jupyter\\EVK\\logs\\35_SC\\CRB_Fsweepcrb35_53G\\freq_sweep\\Bin2503_m0p0dBm_avdd1p0_crb35_53G_25_ucid_3_boost_0_freq.txt\n",
      "C:\\jupyter\\EVK\\logs\\35_SC\\CRB_Fsweepcrb35_53G\\freq_sweep\\Bin2503_m0p0dBm_avdd1p0_crb35_53G_25_ucid_3_boost_0_freq.txt C:\\jupyter\\EVK\\logs\\35_SC\\CRB_Fsweepcrb35_53G\\freq_sweep\\Bin2557_m0p0dBm_avdd1p0_crb35_53G_25_ucid_3_boost_0_freq.txt\n",
      "[2557, 2593]\n",
      "2557\n",
      "C:\\jupyter\\EVK\\logs\\35_SC\\CRB_Fsweepcrb35_53G\\freq_sweep\\Bin2557_m0p0dBm_avdd1p0_crb35_53G_25_ucid_3_boost_0_freq.txt\n",
      "C:\\jupyter\\EVK\\logs\\35_SC\\CRB_Fsweepcrb35_53G\\freq_sweep\\Bin2557_m0p0dBm_avdd1p0_crb35_53G_25_ucid_3_boost_0_freq.txt C:\\jupyter\\EVK\\logs\\35_SC\\CRB_Fsweepcrb35_53G\\freq_sweep\\Bin2593_m0p0dBm_avdd1p0_crb35_53G_25_ucid_3_boost_0_freq.txt\n",
      "[2593, 2621]\n",
      "2593\n",
      "C:\\jupyter\\EVK\\logs\\35_SC\\CRB_Fsweepcrb35_53G\\freq_sweep\\Bin2593_m0p0dBm_avdd1p0_crb35_53G_25_ucid_3_boost_0_freq.txt\n",
      "C:\\jupyter\\EVK\\logs\\35_SC\\CRB_Fsweepcrb35_53G\\freq_sweep\\Bin2593_m0p0dBm_avdd1p0_crb35_53G_25_ucid_3_boost_0_freq.txt C:\\jupyter\\EVK\\logs\\35_SC\\CRB_Fsweepcrb35_53G\\freq_sweep\\Bin2621_m0p0dBm_avdd1p0_crb35_53G_25_ucid_3_boost_0_freq.txt\n",
      "[2621, 2659]\n",
      "2621\n",
      "C:\\jupyter\\EVK\\logs\\35_SC\\CRB_Fsweepcrb35_53G\\freq_sweep\\Bin2621_m0p0dBm_avdd1p0_crb35_53G_25_ucid_3_boost_0_freq.txt\n",
      "C:\\jupyter\\EVK\\logs\\35_SC\\CRB_Fsweepcrb35_53G\\freq_sweep\\Bin2621_m0p0dBm_avdd1p0_crb35_53G_25_ucid_3_boost_0_freq.txt C:\\jupyter\\EVK\\logs\\35_SC\\CRB_Fsweepcrb35_53G\\freq_sweep\\Bin2659_m0p0dBm_avdd1p0_crb35_53G_25_ucid_3_boost_0_freq.txt\n",
      "[2659, 2689]\n",
      "2659\n",
      "C:\\jupyter\\EVK\\logs\\35_SC\\CRB_Fsweepcrb35_53G\\freq_sweep\\Bin2659_m0p0dBm_avdd1p0_crb35_53G_25_ucid_3_boost_0_freq.txt\n",
      "C:\\jupyter\\EVK\\logs\\35_SC\\CRB_Fsweepcrb35_53G\\freq_sweep\\Bin2659_m0p0dBm_avdd1p0_crb35_53G_25_ucid_3_boost_0_freq.txt C:\\jupyter\\EVK\\logs\\35_SC\\CRB_Fsweepcrb35_53G\\freq_sweep\\Bin2689_m0p0dBm_avdd1p0_crb35_53G_25_ucid_3_boost_0_freq.txt\n",
      "[2689, 2729]\n",
      "2689\n",
      "C:\\jupyter\\EVK\\logs\\35_SC\\CRB_Fsweepcrb35_53G\\freq_sweep\\Bin2689_m0p0dBm_avdd1p0_crb35_53G_25_ucid_3_boost_0_freq.txt\n",
      "C:\\jupyter\\EVK\\logs\\35_SC\\CRB_Fsweepcrb35_53G\\freq_sweep\\Bin2689_m0p0dBm_avdd1p0_crb35_53G_25_ucid_3_boost_0_freq.txt C:\\jupyter\\EVK\\logs\\35_SC\\CRB_Fsweepcrb35_53G\\freq_sweep\\Bin2729_m0p0dBm_avdd1p0_crb35_53G_25_ucid_3_boost_0_freq.txt\n",
      "[2729, 2777]\n",
      "2729\n",
      "C:\\jupyter\\EVK\\logs\\35_SC\\CRB_Fsweepcrb35_53G\\freq_sweep\\Bin2729_m0p0dBm_avdd1p0_crb35_53G_25_ucid_3_boost_0_freq.txt\n",
      "C:\\jupyter\\EVK\\logs\\35_SC\\CRB_Fsweepcrb35_53G\\freq_sweep\\Bin2729_m0p0dBm_avdd1p0_crb35_53G_25_ucid_3_boost_0_freq.txt C:\\jupyter\\EVK\\logs\\35_SC\\CRB_Fsweepcrb35_53G\\freq_sweep\\Bin2777_m0p0dBm_avdd1p0_crb35_53G_25_ucid_3_boost_0_freq.txt\n",
      "[2777, 2819]\n",
      "2777\n",
      "C:\\jupyter\\EVK\\logs\\35_SC\\CRB_Fsweepcrb35_53G\\freq_sweep\\Bin2777_m0p0dBm_avdd1p0_crb35_53G_25_ucid_3_boost_0_freq.txt\n",
      "C:\\jupyter\\EVK\\logs\\35_SC\\CRB_Fsweepcrb35_53G\\freq_sweep\\Bin2777_m0p0dBm_avdd1p0_crb35_53G_25_ucid_3_boost_0_freq.txt C:\\jupyter\\EVK\\logs\\35_SC\\CRB_Fsweepcrb35_53G\\freq_sweep\\Bin2819_m0p0dBm_avdd1p0_crb35_53G_25_ucid_3_boost_0_freq.txt\n",
      "[2819, 2851]\n",
      "2819\n",
      "C:\\jupyter\\EVK\\logs\\35_SC\\CRB_Fsweepcrb35_53G\\freq_sweep\\Bin2819_m0p0dBm_avdd1p0_crb35_53G_25_ucid_3_boost_0_freq.txt\n",
      "C:\\jupyter\\EVK\\logs\\35_SC\\CRB_Fsweepcrb35_53G\\freq_sweep\\Bin2819_m0p0dBm_avdd1p0_crb35_53G_25_ucid_3_boost_0_freq.txt C:\\jupyter\\EVK\\logs\\35_SC\\CRB_Fsweepcrb35_53G\\freq_sweep\\Bin2851_m0p0dBm_avdd1p0_crb35_53G_25_ucid_3_boost_0_freq.txt\n",
      "[2851, 2897]\n",
      "2851\n",
      "C:\\jupyter\\EVK\\logs\\35_SC\\CRB_Fsweepcrb35_53G\\freq_sweep\\Bin2851_m0p0dBm_avdd1p0_crb35_53G_25_ucid_3_boost_0_freq.txt\n",
      "C:\\jupyter\\EVK\\logs\\35_SC\\CRB_Fsweepcrb35_53G\\freq_sweep\\Bin2851_m0p0dBm_avdd1p0_crb35_53G_25_ucid_3_boost_0_freq.txt C:\\jupyter\\EVK\\logs\\35_SC\\CRB_Fsweepcrb35_53G\\freq_sweep\\Bin2897_m0p0dBm_avdd1p0_crb35_53G_25_ucid_3_boost_0_freq.txt\n",
      "[2897, 2953]\n",
      "2897\n",
      "C:\\jupyter\\EVK\\logs\\35_SC\\CRB_Fsweepcrb35_53G\\freq_sweep\\Bin2897_m0p0dBm_avdd1p0_crb35_53G_25_ucid_3_boost_0_freq.txt\n",
      "C:\\jupyter\\EVK\\logs\\35_SC\\CRB_Fsweepcrb35_53G\\freq_sweep\\Bin2897_m0p0dBm_avdd1p0_crb35_53G_25_ucid_3_boost_0_freq.txt C:\\jupyter\\EVK\\logs\\35_SC\\CRB_Fsweepcrb35_53G\\freq_sweep\\Bin2953_m0p0dBm_avdd1p0_crb35_53G_25_ucid_3_boost_0_freq.txt\n",
      "[2953, 2999]\n",
      "2953\n",
      "C:\\jupyter\\EVK\\logs\\35_SC\\CRB_Fsweepcrb35_53G\\freq_sweep\\Bin2953_m0p0dBm_avdd1p0_crb35_53G_25_ucid_3_boost_0_freq.txt\n",
      "C:\\jupyter\\EVK\\logs\\35_SC\\CRB_Fsweepcrb35_53G\\freq_sweep\\Bin2953_m0p0dBm_avdd1p0_crb35_53G_25_ucid_3_boost_0_freq.txt C:\\jupyter\\EVK\\logs\\35_SC\\CRB_Fsweepcrb35_53G\\freq_sweep\\Bin2999_m0p0dBm_avdd1p0_crb35_53G_25_ucid_3_boost_0_freq.txt\n",
      "[2999, 3041]\n",
      "2999\n",
      "C:\\jupyter\\EVK\\logs\\35_SC\\CRB_Fsweepcrb35_53G\\freq_sweep\\Bin2999_m0p0dBm_avdd1p0_crb35_53G_25_ucid_3_boost_0_freq.txt\n",
      "C:\\jupyter\\EVK\\logs\\35_SC\\CRB_Fsweepcrb35_53G\\freq_sweep\\Bin2999_m0p0dBm_avdd1p0_crb35_53G_25_ucid_3_boost_0_freq.txt C:\\jupyter\\EVK\\logs\\35_SC\\CRB_Fsweepcrb35_53G\\freq_sweep\\Bin3041_m0p0dBm_avdd1p0_crb35_53G_25_ucid_3_boost_0_freq.txt\n",
      "[3041, 3083]\n",
      "3041\n",
      "C:\\jupyter\\EVK\\logs\\35_SC\\CRB_Fsweepcrb35_53G\\freq_sweep\\Bin3041_m0p0dBm_avdd1p0_crb35_53G_25_ucid_3_boost_0_freq.txt\n",
      "C:\\jupyter\\EVK\\logs\\35_SC\\CRB_Fsweepcrb35_53G\\freq_sweep\\Bin3041_m0p0dBm_avdd1p0_crb35_53G_25_ucid_3_boost_0_freq.txt C:\\jupyter\\EVK\\logs\\35_SC\\CRB_Fsweepcrb35_53G\\freq_sweep\\Bin3083_m0p0dBm_avdd1p0_crb35_53G_25_ucid_3_boost_0_freq.txt\n",
      "[3083, 3119]\n",
      "3083\n",
      "C:\\jupyter\\EVK\\logs\\35_SC\\CRB_Fsweepcrb35_53G\\freq_sweep\\Bin3083_m0p0dBm_avdd1p0_crb35_53G_25_ucid_3_boost_0_freq.txt\n",
      "C:\\jupyter\\EVK\\logs\\35_SC\\CRB_Fsweepcrb35_53G\\freq_sweep\\Bin3083_m0p0dBm_avdd1p0_crb35_53G_25_ucid_3_boost_0_freq.txt C:\\jupyter\\EVK\\logs\\35_SC\\CRB_Fsweepcrb35_53G\\freq_sweep\\Bin3119_m0p0dBm_avdd1p0_crb35_53G_25_ucid_3_boost_0_freq.txt\n",
      "[3119, 3163]\n",
      "3119\n",
      "C:\\jupyter\\EVK\\logs\\35_SC\\CRB_Fsweepcrb35_53G\\freq_sweep\\Bin3119_m0p0dBm_avdd1p0_crb35_53G_25_ucid_3_boost_0_freq.txt\n",
      "C:\\jupyter\\EVK\\logs\\35_SC\\CRB_Fsweepcrb35_53G\\freq_sweep\\Bin3119_m0p0dBm_avdd1p0_crb35_53G_25_ucid_3_boost_0_freq.txt C:\\jupyter\\EVK\\logs\\35_SC\\CRB_Fsweepcrb35_53G\\freq_sweep\\Bin3163_m0p0dBm_avdd1p0_crb35_53G_25_ucid_3_boost_0_freq.txt\n",
      "[3163, 3203]\n",
      "3163\n",
      "C:\\jupyter\\EVK\\logs\\35_SC\\CRB_Fsweepcrb35_53G\\freq_sweep\\Bin3163_m0p0dBm_avdd1p0_crb35_53G_25_ucid_3_boost_0_freq.txt\n",
      "C:\\jupyter\\EVK\\logs\\35_SC\\CRB_Fsweepcrb35_53G\\freq_sweep\\Bin3163_m0p0dBm_avdd1p0_crb35_53G_25_ucid_3_boost_0_freq.txt C:\\jupyter\\EVK\\logs\\35_SC\\CRB_Fsweepcrb35_53G\\freq_sweep\\Bin3203_m0p0dBm_avdd1p0_crb35_53G_25_ucid_3_boost_0_freq.txt\n",
      "[3203, 3259]\n",
      "3203\n",
      "C:\\jupyter\\EVK\\logs\\35_SC\\CRB_Fsweepcrb35_53G\\freq_sweep\\Bin3203_m0p0dBm_avdd1p0_crb35_53G_25_ucid_3_boost_0_freq.txt\n",
      "C:\\jupyter\\EVK\\logs\\35_SC\\CRB_Fsweepcrb35_53G\\freq_sweep\\Bin3203_m0p0dBm_avdd1p0_crb35_53G_25_ucid_3_boost_0_freq.txt C:\\jupyter\\EVK\\logs\\35_SC\\CRB_Fsweepcrb35_53G\\freq_sweep\\Bin3259_m0p0dBm_avdd1p0_crb35_53G_25_ucid_3_boost_0_freq.txt\n",
      "[3259, 3307]\n",
      "3259\n",
      "C:\\jupyter\\EVK\\logs\\35_SC\\CRB_Fsweepcrb35_53G\\freq_sweep\\Bin3259_m0p0dBm_avdd1p0_crb35_53G_25_ucid_3_boost_0_freq.txt\n",
      "C:\\jupyter\\EVK\\logs\\35_SC\\CRB_Fsweepcrb35_53G\\freq_sweep\\Bin3259_m0p0dBm_avdd1p0_crb35_53G_25_ucid_3_boost_0_freq.txt C:\\jupyter\\EVK\\logs\\35_SC\\CRB_Fsweepcrb35_53G\\freq_sweep\\Bin3307_m0p0dBm_avdd1p0_crb35_53G_25_ucid_3_boost_0_freq.txt\n"
     ]
    },
    {
     "name": "stdout",
     "output_type": "stream",
     "text": [
      "[3307, 3347]\n",
      "3307\n",
      "C:\\jupyter\\EVK\\logs\\35_SC\\CRB_Fsweepcrb35_53G\\freq_sweep\\Bin3307_m0p0dBm_avdd1p0_crb35_53G_25_ucid_3_boost_0_freq.txt\n",
      "C:\\jupyter\\EVK\\logs\\35_SC\\CRB_Fsweepcrb35_53G\\freq_sweep\\Bin3307_m0p0dBm_avdd1p0_crb35_53G_25_ucid_3_boost_0_freq.txt C:\\jupyter\\EVK\\logs\\35_SC\\CRB_Fsweepcrb35_53G\\freq_sweep\\Bin3347_m0p0dBm_avdd1p0_crb35_53G_25_ucid_3_boost_0_freq.txt\n",
      "[3347, 3391]\n",
      "3347\n",
      "C:\\jupyter\\EVK\\logs\\35_SC\\CRB_Fsweepcrb35_53G\\freq_sweep\\Bin3347_m0p0dBm_avdd1p0_crb35_53G_25_ucid_3_boost_0_freq.txt\n",
      "C:\\jupyter\\EVK\\logs\\35_SC\\CRB_Fsweepcrb35_53G\\freq_sweep\\Bin3347_m0p0dBm_avdd1p0_crb35_53G_25_ucid_3_boost_0_freq.txt C:\\jupyter\\EVK\\logs\\35_SC\\CRB_Fsweepcrb35_53G\\freq_sweep\\Bin3391_m0p0dBm_avdd1p0_crb35_53G_25_ucid_3_boost_0_freq.txt\n",
      "[3391, 3433]\n",
      "3391\n",
      "C:\\jupyter\\EVK\\logs\\35_SC\\CRB_Fsweepcrb35_53G\\freq_sweep\\Bin3391_m0p0dBm_avdd1p0_crb35_53G_25_ucid_3_boost_0_freq.txt\n",
      "C:\\jupyter\\EVK\\logs\\35_SC\\CRB_Fsweepcrb35_53G\\freq_sweep\\Bin3391_m0p0dBm_avdd1p0_crb35_53G_25_ucid_3_boost_0_freq.txt C:\\jupyter\\EVK\\logs\\35_SC\\CRB_Fsweepcrb35_53G\\freq_sweep\\Bin3433_m0p0dBm_avdd1p0_crb35_53G_25_ucid_3_boost_0_freq.txt\n",
      "[3433, 3491]\n",
      "3433\n",
      "C:\\jupyter\\EVK\\logs\\35_SC\\CRB_Fsweepcrb35_53G\\freq_sweep\\Bin3433_m0p0dBm_avdd1p0_crb35_53G_25_ucid_3_boost_0_freq.txt\n",
      "C:\\jupyter\\EVK\\logs\\35_SC\\CRB_Fsweepcrb35_53G\\freq_sweep\\Bin3433_m0p0dBm_avdd1p0_crb35_53G_25_ucid_3_boost_0_freq.txt C:\\jupyter\\EVK\\logs\\35_SC\\CRB_Fsweepcrb35_53G\\freq_sweep\\Bin3491_m0p0dBm_avdd1p0_crb35_53G_25_ucid_3_boost_0_freq.txt\n",
      "[3491, 3539]\n",
      "3491\n",
      "C:\\jupyter\\EVK\\logs\\35_SC\\CRB_Fsweepcrb35_53G\\freq_sweep\\Bin3491_m0p0dBm_avdd1p0_crb35_53G_25_ucid_3_boost_0_freq.txt\n",
      "C:\\jupyter\\EVK\\logs\\35_SC\\CRB_Fsweepcrb35_53G\\freq_sweep\\Bin3491_m0p0dBm_avdd1p0_crb35_53G_25_ucid_3_boost_0_freq.txt C:\\jupyter\\EVK\\logs\\35_SC\\CRB_Fsweepcrb35_53G\\freq_sweep\\Bin3539_m0p0dBm_avdd1p0_crb35_53G_25_ucid_3_boost_0_freq.txt\n",
      "[3539, 3583]\n",
      "3539\n",
      "C:\\jupyter\\EVK\\logs\\35_SC\\CRB_Fsweepcrb35_53G\\freq_sweep\\Bin3539_m0p0dBm_avdd1p0_crb35_53G_25_ucid_3_boost_0_freq.txt\n",
      "C:\\jupyter\\EVK\\logs\\35_SC\\CRB_Fsweepcrb35_53G\\freq_sweep\\Bin3539_m0p0dBm_avdd1p0_crb35_53G_25_ucid_3_boost_0_freq.txt C:\\jupyter\\EVK\\logs\\35_SC\\CRB_Fsweepcrb35_53G\\freq_sweep\\Bin3583_m0p0dBm_avdd1p0_crb35_53G_25_ucid_3_boost_0_freq.txt\n",
      "[3583, 3617]\n",
      "3583\n",
      "C:\\jupyter\\EVK\\logs\\35_SC\\CRB_Fsweepcrb35_53G\\freq_sweep\\Bin3583_m0p0dBm_avdd1p0_crb35_53G_25_ucid_3_boost_0_freq.txt\n",
      "C:\\jupyter\\EVK\\logs\\35_SC\\CRB_Fsweepcrb35_53G\\freq_sweep\\Bin3583_m0p0dBm_avdd1p0_crb35_53G_25_ucid_3_boost_0_freq.txt C:\\jupyter\\EVK\\logs\\35_SC\\CRB_Fsweepcrb35_53G\\freq_sweep\\Bin3617_m0p0dBm_avdd1p0_crb35_53G_25_ucid_3_boost_0_freq.txt\n",
      "[3617, 3659]\n",
      "3617\n",
      "C:\\jupyter\\EVK\\logs\\35_SC\\CRB_Fsweepcrb35_53G\\freq_sweep\\Bin3617_m0p0dBm_avdd1p0_crb35_53G_25_ucid_3_boost_0_freq.txt\n",
      "C:\\jupyter\\EVK\\logs\\35_SC\\CRB_Fsweepcrb35_53G\\freq_sweep\\Bin3617_m0p0dBm_avdd1p0_crb35_53G_25_ucid_3_boost_0_freq.txt C:\\jupyter\\EVK\\logs\\35_SC\\CRB_Fsweepcrb35_53G\\freq_sweep\\Bin3659_m0p0dBm_avdd1p0_crb35_53G_25_ucid_3_boost_0_freq.txt\n",
      "[3659, 3697]\n",
      "3659\n",
      "C:\\jupyter\\EVK\\logs\\35_SC\\CRB_Fsweepcrb35_53G\\freq_sweep\\Bin3659_m0p0dBm_avdd1p0_crb35_53G_25_ucid_3_boost_0_freq.txt\n",
      "C:\\jupyter\\EVK\\logs\\35_SC\\CRB_Fsweepcrb35_53G\\freq_sweep\\Bin3659_m0p0dBm_avdd1p0_crb35_53G_25_ucid_3_boost_0_freq.txt C:\\jupyter\\EVK\\logs\\35_SC\\CRB_Fsweepcrb35_53G\\freq_sweep\\Bin3697_m0p0dBm_avdd1p0_crb35_53G_25_ucid_3_boost_0_freq.txt\n",
      "[3697, 3739]\n",
      "3697\n",
      "C:\\jupyter\\EVK\\logs\\35_SC\\CRB_Fsweepcrb35_53G\\freq_sweep\\Bin3697_m0p0dBm_avdd1p0_crb35_53G_25_ucid_3_boost_0_freq.txt\n",
      "C:\\jupyter\\EVK\\logs\\35_SC\\CRB_Fsweepcrb35_53G\\freq_sweep\\Bin3697_m0p0dBm_avdd1p0_crb35_53G_25_ucid_3_boost_0_freq.txt C:\\jupyter\\EVK\\logs\\35_SC\\CRB_Fsweepcrb35_53G\\freq_sweep\\Bin3739_m0p0dBm_avdd1p0_crb35_53G_25_ucid_3_boost_0_freq.txt\n",
      "[3739, 3793]\n",
      "3739\n",
      "C:\\jupyter\\EVK\\logs\\35_SC\\CRB_Fsweepcrb35_53G\\freq_sweep\\Bin3739_m0p0dBm_avdd1p0_crb35_53G_25_ucid_3_boost_0_freq.txt\n",
      "C:\\jupyter\\EVK\\logs\\35_SC\\CRB_Fsweepcrb35_53G\\freq_sweep\\Bin3739_m0p0dBm_avdd1p0_crb35_53G_25_ucid_3_boost_0_freq.txt C:\\jupyter\\EVK\\logs\\35_SC\\CRB_Fsweepcrb35_53G\\freq_sweep\\Bin3793_m0p0dBm_avdd1p0_crb35_53G_25_ucid_3_boost_0_freq.txt\n",
      "[3793, 3847]\n",
      "3793\n",
      "C:\\jupyter\\EVK\\logs\\35_SC\\CRB_Fsweepcrb35_53G\\freq_sweep\\Bin3793_m0p0dBm_avdd1p0_crb35_53G_25_ucid_3_boost_0_freq.txt\n",
      "C:\\jupyter\\EVK\\logs\\35_SC\\CRB_Fsweepcrb35_53G\\freq_sweep\\Bin3793_m0p0dBm_avdd1p0_crb35_53G_25_ucid_3_boost_0_freq.txt C:\\jupyter\\EVK\\logs\\35_SC\\CRB_Fsweepcrb35_53G\\freq_sweep\\Bin3847_m0p0dBm_avdd1p0_crb35_53G_25_ucid_3_boost_0_freq.txt\n",
      "[3847, 3889]\n",
      "3847\n",
      "C:\\jupyter\\EVK\\logs\\35_SC\\CRB_Fsweepcrb35_53G\\freq_sweep\\Bin3847_m0p0dBm_avdd1p0_crb35_53G_25_ucid_3_boost_0_freq.txt\n",
      "C:\\jupyter\\EVK\\logs\\35_SC\\CRB_Fsweepcrb35_53G\\freq_sweep\\Bin3847_m0p0dBm_avdd1p0_crb35_53G_25_ucid_3_boost_0_freq.txt C:\\jupyter\\EVK\\logs\\35_SC\\CRB_Fsweepcrb35_53G\\freq_sweep\\Bin3889_m0p0dBm_avdd1p0_crb35_53G_25_ucid_3_boost_0_freq.txt\n",
      "[3889, 3911]\n",
      "3889\n",
      "C:\\jupyter\\EVK\\logs\\35_SC\\CRB_Fsweepcrb35_53G\\freq_sweep\\Bin3889_m0p0dBm_avdd1p0_crb35_53G_25_ucid_3_boost_0_freq.txt\n",
      "C:\\jupyter\\EVK\\logs\\35_SC\\CRB_Fsweepcrb35_53G\\freq_sweep\\Bin3889_m0p0dBm_avdd1p0_crb35_53G_25_ucid_3_boost_0_freq.txt C:\\jupyter\\EVK\\logs\\35_SC\\CRB_Fsweepcrb35_53G\\freq_sweep\\Bin3911_m0p0dBm_avdd1p0_crb35_53G_25_ucid_3_boost_0_freq.txt\n",
      "[3911, 3967]\n",
      "3911\n",
      "C:\\jupyter\\EVK\\logs\\35_SC\\CRB_Fsweepcrb35_53G\\freq_sweep\\Bin3911_m0p0dBm_avdd1p0_crb35_53G_25_ucid_3_boost_0_freq.txt\n",
      "C:\\jupyter\\EVK\\logs\\35_SC\\CRB_Fsweepcrb35_53G\\freq_sweep\\Bin3911_m0p0dBm_avdd1p0_crb35_53G_25_ucid_3_boost_0_freq.txt C:\\jupyter\\EVK\\logs\\35_SC\\CRB_Fsweepcrb35_53G\\freq_sweep\\Bin3967_m0p0dBm_avdd1p0_crb35_53G_25_ucid_3_boost_0_freq.txt\n",
      "[3967, 4013]\n",
      "3967\n",
      "C:\\jupyter\\EVK\\logs\\35_SC\\CRB_Fsweepcrb35_53G\\freq_sweep\\Bin3967_m0p0dBm_avdd1p0_crb35_53G_25_ucid_3_boost_0_freq.txt\n",
      "C:\\jupyter\\EVK\\logs\\35_SC\\CRB_Fsweepcrb35_53G\\freq_sweep\\Bin3967_m0p0dBm_avdd1p0_crb35_53G_25_ucid_3_boost_0_freq.txt C:\\jupyter\\EVK\\logs\\35_SC\\CRB_Fsweepcrb35_53G\\freq_sweep\\Bin4013_m0p0dBm_avdd1p0_crb35_53G_25_ucid_3_boost_0_freq.txt\n",
      "[4013, 4049]\n",
      "4013\n",
      "C:\\jupyter\\EVK\\logs\\35_SC\\CRB_Fsweepcrb35_53G\\freq_sweep\\Bin4013_m0p0dBm_avdd1p0_crb35_53G_25_ucid_3_boost_0_freq.txt\n",
      "C:\\jupyter\\EVK\\logs\\35_SC\\CRB_Fsweepcrb35_53G\\freq_sweep\\Bin4013_m0p0dBm_avdd1p0_crb35_53G_25_ucid_3_boost_0_freq.txt C:\\jupyter\\EVK\\logs\\35_SC\\CRB_Fsweepcrb35_53G\\freq_sweep\\Bin4049_m0p0dBm_avdd1p0_crb35_53G_25_ucid_3_boost_0_freq.txt\n",
      "[4049, 4091]\n",
      "4049\n",
      "C:\\jupyter\\EVK\\logs\\35_SC\\CRB_Fsweepcrb35_53G\\freq_sweep\\Bin4049_m0p0dBm_avdd1p0_crb35_53G_25_ucid_3_boost_0_freq.txt\n",
      "C:\\jupyter\\EVK\\logs\\35_SC\\CRB_Fsweepcrb35_53G\\freq_sweep\\Bin4049_m0p0dBm_avdd1p0_crb35_53G_25_ucid_3_boost_0_freq.txt C:\\jupyter\\EVK\\logs\\35_SC\\CRB_Fsweepcrb35_53G\\freq_sweep\\Bin4091_m0p0dBm_avdd1p0_crb35_53G_25_ucid_3_boost_0_freq.txt\n",
      "[4091, 4139]\n",
      "4091\n",
      "C:\\jupyter\\EVK\\logs\\35_SC\\CRB_Fsweepcrb35_53G\\freq_sweep\\Bin4091_m0p0dBm_avdd1p0_crb35_53G_25_ucid_3_boost_0_freq.txt\n",
      "C:\\jupyter\\EVK\\logs\\35_SC\\CRB_Fsweepcrb35_53G\\freq_sweep\\Bin4091_m0p0dBm_avdd1p0_crb35_53G_25_ucid_3_boost_0_freq.txt C:\\jupyter\\EVK\\logs\\35_SC\\CRB_Fsweepcrb35_53G\\freq_sweep\\Bin4139_m0p0dBm_avdd1p0_crb35_53G_25_ucid_3_boost_0_freq.txt\n",
      "[4139, 4177]\n",
      "4139\n",
      "C:\\jupyter\\EVK\\logs\\35_SC\\CRB_Fsweepcrb35_53G\\freq_sweep\\Bin4139_m0p0dBm_avdd1p0_crb35_53G_25_ucid_3_boost_0_freq.txt\n",
      "C:\\jupyter\\EVK\\logs\\35_SC\\CRB_Fsweepcrb35_53G\\freq_sweep\\Bin4139_m0p0dBm_avdd1p0_crb35_53G_25_ucid_3_boost_0_freq.txt C:\\jupyter\\EVK\\logs\\35_SC\\CRB_Fsweepcrb35_53G\\freq_sweep\\Bin4177_m0p0dBm_avdd1p0_crb35_53G_25_ucid_3_boost_0_freq.txt\n",
      "[4177, 4217]\n",
      "4177\n",
      "C:\\jupyter\\EVK\\logs\\35_SC\\CRB_Fsweepcrb35_53G\\freq_sweep\\Bin4177_m0p0dBm_avdd1p0_crb35_53G_25_ucid_3_boost_0_freq.txt\n",
      "C:\\jupyter\\EVK\\logs\\35_SC\\CRB_Fsweepcrb35_53G\\freq_sweep\\Bin4177_m0p0dBm_avdd1p0_crb35_53G_25_ucid_3_boost_0_freq.txt C:\\jupyter\\EVK\\logs\\35_SC\\CRB_Fsweepcrb35_53G\\freq_sweep\\Bin4217_m0p0dBm_avdd1p0_crb35_53G_25_ucid_3_boost_0_freq.txt\n",
      "[4217, 4259]\n",
      "4217\n",
      "C:\\jupyter\\EVK\\logs\\35_SC\\CRB_Fsweepcrb35_53G\\freq_sweep\\Bin4217_m0p0dBm_avdd1p0_crb35_53G_25_ucid_3_boost_0_freq.txt\n",
      "C:\\jupyter\\EVK\\logs\\35_SC\\CRB_Fsweepcrb35_53G\\freq_sweep\\Bin4217_m0p0dBm_avdd1p0_crb35_53G_25_ucid_3_boost_0_freq.txt C:\\jupyter\\EVK\\logs\\35_SC\\CRB_Fsweepcrb35_53G\\freq_sweep\\Bin4259_m0p0dBm_avdd1p0_crb35_53G_25_ucid_3_boost_0_freq.txt\n",
      "[4259, 4297]\n",
      "4259\n",
      "C:\\jupyter\\EVK\\logs\\35_SC\\CRB_Fsweepcrb35_53G\\freq_sweep\\Bin4259_m0p0dBm_avdd1p0_crb35_53G_25_ucid_3_boost_0_freq.txt\n",
      "C:\\jupyter\\EVK\\logs\\35_SC\\CRB_Fsweepcrb35_53G\\freq_sweep\\Bin4259_m0p0dBm_avdd1p0_crb35_53G_25_ucid_3_boost_0_freq.txt C:\\jupyter\\EVK\\logs\\35_SC\\CRB_Fsweepcrb35_53G\\freq_sweep\\Bin4297_m0p0dBm_avdd1p0_crb35_53G_25_ucid_3_boost_0_freq.txt\n"
     ]
    },
    {
     "name": "stdout",
     "output_type": "stream",
     "text": [
      "[4297, 4349]\n",
      "4297\n",
      "C:\\jupyter\\EVK\\logs\\35_SC\\CRB_Fsweepcrb35_53G\\freq_sweep\\Bin4297_m0p0dBm_avdd1p0_crb35_53G_25_ucid_3_boost_0_freq.txt\n",
      "C:\\jupyter\\EVK\\logs\\35_SC\\CRB_Fsweepcrb35_53G\\freq_sweep\\Bin4297_m0p0dBm_avdd1p0_crb35_53G_25_ucid_3_boost_0_freq.txt C:\\jupyter\\EVK\\logs\\35_SC\\CRB_Fsweepcrb35_53G\\freq_sweep\\Bin4349_m0p0dBm_avdd1p0_crb35_53G_25_ucid_3_boost_0_freq.txt\n",
      "[4349, 4391]\n",
      "4349\n",
      "C:\\jupyter\\EVK\\logs\\35_SC\\CRB_Fsweepcrb35_53G\\freq_sweep\\Bin4349_m0p0dBm_avdd1p0_crb35_53G_25_ucid_3_boost_0_freq.txt\n",
      "C:\\jupyter\\EVK\\logs\\35_SC\\CRB_Fsweepcrb35_53G\\freq_sweep\\Bin4349_m0p0dBm_avdd1p0_crb35_53G_25_ucid_3_boost_0_freq.txt C:\\jupyter\\EVK\\logs\\35_SC\\CRB_Fsweepcrb35_53G\\freq_sweep\\Bin4391_m0p0dBm_avdd1p0_crb35_53G_25_ucid_3_boost_0_freq.txt\n",
      "[4391, 4441]\n",
      "4391\n",
      "C:\\jupyter\\EVK\\logs\\35_SC\\CRB_Fsweepcrb35_53G\\freq_sweep\\Bin4391_m0p0dBm_avdd1p0_crb35_53G_25_ucid_3_boost_0_freq.txt\n",
      "C:\\jupyter\\EVK\\logs\\35_SC\\CRB_Fsweepcrb35_53G\\freq_sweep\\Bin4391_m0p0dBm_avdd1p0_crb35_53G_25_ucid_3_boost_0_freq.txt C:\\jupyter\\EVK\\logs\\35_SC\\CRB_Fsweepcrb35_53G\\freq_sweep\\Bin4441_m0p0dBm_avdd1p0_crb35_53G_25_ucid_3_boost_0_freq.txt\n",
      "[4441, 4481]\n",
      "4441\n",
      "C:\\jupyter\\EVK\\logs\\35_SC\\CRB_Fsweepcrb35_53G\\freq_sweep\\Bin4441_m0p0dBm_avdd1p0_crb35_53G_25_ucid_3_boost_0_freq.txt\n",
      "C:\\jupyter\\EVK\\logs\\35_SC\\CRB_Fsweepcrb35_53G\\freq_sweep\\Bin4441_m0p0dBm_avdd1p0_crb35_53G_25_ucid_3_boost_0_freq.txt C:\\jupyter\\EVK\\logs\\35_SC\\CRB_Fsweepcrb35_53G\\freq_sweep\\Bin4481_m0p0dBm_avdd1p0_crb35_53G_25_ucid_3_boost_0_freq.txt\n",
      "[4481, 4523]\n",
      "4481\n",
      "C:\\jupyter\\EVK\\logs\\35_SC\\CRB_Fsweepcrb35_53G\\freq_sweep\\Bin4481_m0p0dBm_avdd1p0_crb35_53G_25_ucid_3_boost_0_freq.txt\n",
      "C:\\jupyter\\EVK\\logs\\35_SC\\CRB_Fsweepcrb35_53G\\freq_sweep\\Bin4481_m0p0dBm_avdd1p0_crb35_53G_25_ucid_3_boost_0_freq.txt C:\\jupyter\\EVK\\logs\\35_SC\\CRB_Fsweepcrb35_53G\\freq_sweep\\Bin4523_m0p0dBm_avdd1p0_crb35_53G_25_ucid_3_boost_0_freq.txt\n",
      "[4523, 4567]\n",
      "4523\n",
      "C:\\jupyter\\EVK\\logs\\35_SC\\CRB_Fsweepcrb35_53G\\freq_sweep\\Bin4523_m0p0dBm_avdd1p0_crb35_53G_25_ucid_3_boost_0_freq.txt\n",
      "C:\\jupyter\\EVK\\logs\\35_SC\\CRB_Fsweepcrb35_53G\\freq_sweep\\Bin4523_m0p0dBm_avdd1p0_crb35_53G_25_ucid_3_boost_0_freq.txt C:\\jupyter\\EVK\\logs\\35_SC\\CRB_Fsweepcrb35_53G\\freq_sweep\\Bin4567_m0p0dBm_avdd1p0_crb35_53G_25_ucid_3_boost_0_freq.txt\n",
      "[4567, 4621]\n",
      "4567\n",
      "C:\\jupyter\\EVK\\logs\\35_SC\\CRB_Fsweepcrb35_53G\\freq_sweep\\Bin4567_m0p0dBm_avdd1p0_crb35_53G_25_ucid_3_boost_0_freq.txt\n",
      "C:\\jupyter\\EVK\\logs\\35_SC\\CRB_Fsweepcrb35_53G\\freq_sweep\\Bin4567_m0p0dBm_avdd1p0_crb35_53G_25_ucid_3_boost_0_freq.txt C:\\jupyter\\EVK\\logs\\35_SC\\CRB_Fsweepcrb35_53G\\freq_sweep\\Bin4621_m0p0dBm_avdd1p0_crb35_53G_25_ucid_3_boost_0_freq.txt\n",
      "[4621, 4673]\n",
      "4621\n",
      "C:\\jupyter\\EVK\\logs\\35_SC\\CRB_Fsweepcrb35_53G\\freq_sweep\\Bin4621_m0p0dBm_avdd1p0_crb35_53G_25_ucid_3_boost_0_freq.txt\n",
      "C:\\jupyter\\EVK\\logs\\35_SC\\CRB_Fsweepcrb35_53G\\freq_sweep\\Bin4621_m0p0dBm_avdd1p0_crb35_53G_25_ucid_3_boost_0_freq.txt C:\\jupyter\\EVK\\logs\\35_SC\\CRB_Fsweepcrb35_53G\\freq_sweep\\Bin4673_m0p0dBm_avdd1p0_crb35_53G_25_ucid_3_boost_0_freq.txt\n",
      "[4673, 4723]\n",
      "4673\n",
      "C:\\jupyter\\EVK\\logs\\35_SC\\CRB_Fsweepcrb35_53G\\freq_sweep\\Bin4673_m0p0dBm_avdd1p0_crb35_53G_25_ucid_3_boost_0_freq.txt\n",
      "C:\\jupyter\\EVK\\logs\\35_SC\\CRB_Fsweepcrb35_53G\\freq_sweep\\Bin4673_m0p0dBm_avdd1p0_crb35_53G_25_ucid_3_boost_0_freq.txt C:\\jupyter\\EVK\\logs\\35_SC\\CRB_Fsweepcrb35_53G\\freq_sweep\\Bin4723_m0p0dBm_avdd1p0_crb35_53G_25_ucid_3_boost_0_freq.txt\n",
      "[4723, 4759]\n",
      "4723\n",
      "C:\\jupyter\\EVK\\logs\\35_SC\\CRB_Fsweepcrb35_53G\\freq_sweep\\Bin4723_m0p0dBm_avdd1p0_crb35_53G_25_ucid_3_boost_0_freq.txt\n",
      "C:\\jupyter\\EVK\\logs\\35_SC\\CRB_Fsweepcrb35_53G\\freq_sweep\\Bin4723_m0p0dBm_avdd1p0_crb35_53G_25_ucid_3_boost_0_freq.txt C:\\jupyter\\EVK\\logs\\35_SC\\CRB_Fsweepcrb35_53G\\freq_sweep\\Bin4759_m0p0dBm_avdd1p0_crb35_53G_25_ucid_3_boost_0_freq.txt\n",
      "[4759, 4799]\n",
      "4759\n",
      "C:\\jupyter\\EVK\\logs\\35_SC\\CRB_Fsweepcrb35_53G\\freq_sweep\\Bin4759_m0p0dBm_avdd1p0_crb35_53G_25_ucid_3_boost_0_freq.txt\n",
      "C:\\jupyter\\EVK\\logs\\35_SC\\CRB_Fsweepcrb35_53G\\freq_sweep\\Bin4759_m0p0dBm_avdd1p0_crb35_53G_25_ucid_3_boost_0_freq.txt C:\\jupyter\\EVK\\logs\\35_SC\\CRB_Fsweepcrb35_53G\\freq_sweep\\Bin4799_m0p0dBm_avdd1p0_crb35_53G_25_ucid_3_boost_0_freq.txt\n",
      "[4799, 4831]\n",
      "4799\n",
      "C:\\jupyter\\EVK\\logs\\35_SC\\CRB_Fsweepcrb35_53G\\freq_sweep\\Bin4799_m0p0dBm_avdd1p0_crb35_53G_25_ucid_3_boost_0_freq.txt\n",
      "C:\\jupyter\\EVK\\logs\\35_SC\\CRB_Fsweepcrb35_53G\\freq_sweep\\Bin4799_m0p0dBm_avdd1p0_crb35_53G_25_ucid_3_boost_0_freq.txt C:\\jupyter\\EVK\\logs\\35_SC\\CRB_Fsweepcrb35_53G\\freq_sweep\\Bin4831_m0p0dBm_avdd1p0_crb35_53G_25_ucid_3_boost_0_freq.txt\n",
      "[4831, 4877]\n",
      "4831\n",
      "C:\\jupyter\\EVK\\logs\\35_SC\\CRB_Fsweepcrb35_53G\\freq_sweep\\Bin4831_m0p0dBm_avdd1p0_crb35_53G_25_ucid_3_boost_0_freq.txt\n",
      "C:\\jupyter\\EVK\\logs\\35_SC\\CRB_Fsweepcrb35_53G\\freq_sweep\\Bin4831_m0p0dBm_avdd1p0_crb35_53G_25_ucid_3_boost_0_freq.txt C:\\jupyter\\EVK\\logs\\35_SC\\CRB_Fsweepcrb35_53G\\freq_sweep\\Bin4877_m0p0dBm_avdd1p0_crb35_53G_25_ucid_3_boost_0_freq.txt\n",
      "[4877, 4919]\n",
      "4877\n",
      "C:\\jupyter\\EVK\\logs\\35_SC\\CRB_Fsweepcrb35_53G\\freq_sweep\\Bin4877_m0p0dBm_avdd1p0_crb35_53G_25_ucid_3_boost_0_freq.txt\n",
      "C:\\jupyter\\EVK\\logs\\35_SC\\CRB_Fsweepcrb35_53G\\freq_sweep\\Bin4877_m0p0dBm_avdd1p0_crb35_53G_25_ucid_3_boost_0_freq.txt C:\\jupyter\\EVK\\logs\\35_SC\\CRB_Fsweepcrb35_53G\\freq_sweep\\Bin4919_m0p0dBm_avdd1p0_crb35_53G_25_ucid_3_boost_0_freq.txt\n",
      "[4919, 4967]\n",
      "4919\n",
      "C:\\jupyter\\EVK\\logs\\35_SC\\CRB_Fsweepcrb35_53G\\freq_sweep\\Bin4919_m0p0dBm_avdd1p0_crb35_53G_25_ucid_3_boost_0_freq.txt\n",
      "C:\\jupyter\\EVK\\logs\\35_SC\\CRB_Fsweepcrb35_53G\\freq_sweep\\Bin4919_m0p0dBm_avdd1p0_crb35_53G_25_ucid_3_boost_0_freq.txt C:\\jupyter\\EVK\\logs\\35_SC\\CRB_Fsweepcrb35_53G\\freq_sweep\\Bin4967_m0p0dBm_avdd1p0_crb35_53G_25_ucid_3_boost_0_freq.txt\n",
      "[4967, 4999]\n",
      "4967\n",
      "C:\\jupyter\\EVK\\logs\\35_SC\\CRB_Fsweepcrb35_53G\\freq_sweep\\Bin4967_m0p0dBm_avdd1p0_crb35_53G_25_ucid_3_boost_0_freq.txt\n",
      "C:\\jupyter\\EVK\\logs\\35_SC\\CRB_Fsweepcrb35_53G\\freq_sweep\\Bin4967_m0p0dBm_avdd1p0_crb35_53G_25_ucid_3_boost_0_freq.txt C:\\jupyter\\EVK\\logs\\35_SC\\CRB_Fsweepcrb35_53G\\freq_sweep\\Bin4999_m0p0dBm_avdd1p0_crb35_53G_25_ucid_3_boost_0_freq.txt\n",
      "[4999, 5039]\n",
      "4999\n",
      "C:\\jupyter\\EVK\\logs\\35_SC\\CRB_Fsweepcrb35_53G\\freq_sweep\\Bin4999_m0p0dBm_avdd1p0_crb35_53G_25_ucid_3_boost_0_freq.txt\n",
      "C:\\jupyter\\EVK\\logs\\35_SC\\CRB_Fsweepcrb35_53G\\freq_sweep\\Bin4999_m0p0dBm_avdd1p0_crb35_53G_25_ucid_3_boost_0_freq.txt C:\\jupyter\\EVK\\logs\\35_SC\\CRB_Fsweepcrb35_53G\\freq_sweep\\Bin5039_m0p0dBm_avdd1p0_crb35_53G_25_ucid_3_boost_0_freq.txt\n",
      "[5039, 5087]\n",
      "5039\n",
      "C:\\jupyter\\EVK\\logs\\35_SC\\CRB_Fsweepcrb35_53G\\freq_sweep\\Bin5039_m0p0dBm_avdd1p0_crb35_53G_25_ucid_3_boost_0_freq.txt\n",
      "C:\\jupyter\\EVK\\logs\\35_SC\\CRB_Fsweepcrb35_53G\\freq_sweep\\Bin5039_m0p0dBm_avdd1p0_crb35_53G_25_ucid_3_boost_0_freq.txt C:\\jupyter\\EVK\\logs\\35_SC\\CRB_Fsweepcrb35_53G\\freq_sweep\\Bin5087_m0p0dBm_avdd1p0_crb35_53G_25_ucid_3_boost_0_freq.txt\n",
      "[5087, 5119]\n",
      "5087\n",
      "C:\\jupyter\\EVK\\logs\\35_SC\\CRB_Fsweepcrb35_53G\\freq_sweep\\Bin5087_m0p0dBm_avdd1p0_crb35_53G_25_ucid_3_boost_0_freq.txt\n",
      "C:\\jupyter\\EVK\\logs\\35_SC\\CRB_Fsweepcrb35_53G\\freq_sweep\\Bin5087_m0p0dBm_avdd1p0_crb35_53G_25_ucid_3_boost_0_freq.txt C:\\jupyter\\EVK\\logs\\35_SC\\CRB_Fsweepcrb35_53G\\freq_sweep\\Bin5119_m0p0dBm_avdd1p0_crb35_53G_25_ucid_3_boost_0_freq.txt\n",
      "[5119, 5171]\n",
      "5119\n",
      "C:\\jupyter\\EVK\\logs\\35_SC\\CRB_Fsweepcrb35_53G\\freq_sweep\\Bin5119_m0p0dBm_avdd1p0_crb35_53G_25_ucid_3_boost_0_freq.txt\n",
      "C:\\jupyter\\EVK\\logs\\35_SC\\CRB_Fsweepcrb35_53G\\freq_sweep\\Bin5119_m0p0dBm_avdd1p0_crb35_53G_25_ucid_3_boost_0_freq.txt C:\\jupyter\\EVK\\logs\\35_SC\\CRB_Fsweepcrb35_53G\\freq_sweep\\Bin5171_m0p0dBm_avdd1p0_crb35_53G_25_ucid_3_boost_0_freq.txt\n",
      "[5171, 5227]\n",
      "5171\n",
      "C:\\jupyter\\EVK\\logs\\35_SC\\CRB_Fsweepcrb35_53G\\freq_sweep\\Bin5171_m0p0dBm_avdd1p0_crb35_53G_25_ucid_3_boost_0_freq.txt\n",
      "C:\\jupyter\\EVK\\logs\\35_SC\\CRB_Fsweepcrb35_53G\\freq_sweep\\Bin5171_m0p0dBm_avdd1p0_crb35_53G_25_ucid_3_boost_0_freq.txt C:\\jupyter\\EVK\\logs\\35_SC\\CRB_Fsweepcrb35_53G\\freq_sweep\\Bin5227_m0p0dBm_avdd1p0_crb35_53G_25_ucid_3_boost_0_freq.txt\n",
      "[5227, 5273]\n",
      "5227\n",
      "C:\\jupyter\\EVK\\logs\\35_SC\\CRB_Fsweepcrb35_53G\\freq_sweep\\Bin5227_m0p0dBm_avdd1p0_crb35_53G_25_ucid_3_boost_0_freq.txt\n",
      "C:\\jupyter\\EVK\\logs\\35_SC\\CRB_Fsweepcrb35_53G\\freq_sweep\\Bin5227_m0p0dBm_avdd1p0_crb35_53G_25_ucid_3_boost_0_freq.txt C:\\jupyter\\EVK\\logs\\35_SC\\CRB_Fsweepcrb35_53G\\freq_sweep\\Bin5273_m0p0dBm_avdd1p0_crb35_53G_25_ucid_3_boost_0_freq.txt\n",
      "[5273, 5323]\n",
      "5273\n",
      "C:\\jupyter\\EVK\\logs\\35_SC\\CRB_Fsweepcrb35_53G\\freq_sweep\\Bin5273_m0p0dBm_avdd1p0_crb35_53G_25_ucid_3_boost_0_freq.txt\n",
      "C:\\jupyter\\EVK\\logs\\35_SC\\CRB_Fsweepcrb35_53G\\freq_sweep\\Bin5273_m0p0dBm_avdd1p0_crb35_53G_25_ucid_3_boost_0_freq.txt C:\\jupyter\\EVK\\logs\\35_SC\\CRB_Fsweepcrb35_53G\\freq_sweep\\Bin5323_m0p0dBm_avdd1p0_crb35_53G_25_ucid_3_boost_0_freq.txt\n"
     ]
    },
    {
     "name": "stdout",
     "output_type": "stream",
     "text": [
      "[5323, 5381]\n",
      "5323\n",
      "C:\\jupyter\\EVK\\logs\\35_SC\\CRB_Fsweepcrb35_53G\\freq_sweep\\Bin5323_m0p0dBm_avdd1p0_crb35_53G_25_ucid_3_boost_0_freq.txt\n",
      "C:\\jupyter\\EVK\\logs\\35_SC\\CRB_Fsweepcrb35_53G\\freq_sweep\\Bin5323_m0p0dBm_avdd1p0_crb35_53G_25_ucid_3_boost_0_freq.txt C:\\jupyter\\EVK\\logs\\35_SC\\CRB_Fsweepcrb35_53G\\freq_sweep\\Bin5381_m0p0dBm_avdd1p0_crb35_53G_25_ucid_3_boost_0_freq.txt\n",
      "[5381, 5431]\n",
      "5381\n",
      "C:\\jupyter\\EVK\\logs\\35_SC\\CRB_Fsweepcrb35_53G\\freq_sweep\\Bin5381_m0p0dBm_avdd1p0_crb35_53G_25_ucid_3_boost_0_freq.txt\n",
      "C:\\jupyter\\EVK\\logs\\35_SC\\CRB_Fsweepcrb35_53G\\freq_sweep\\Bin5381_m0p0dBm_avdd1p0_crb35_53G_25_ucid_3_boost_0_freq.txt C:\\jupyter\\EVK\\logs\\35_SC\\CRB_Fsweepcrb35_53G\\freq_sweep\\Bin5431_m0p0dBm_avdd1p0_crb35_53G_25_ucid_3_boost_0_freq.txt\n",
      "[5431, 5477]\n",
      "5431\n",
      "C:\\jupyter\\EVK\\logs\\35_SC\\CRB_Fsweepcrb35_53G\\freq_sweep\\Bin5431_m0p0dBm_avdd1p0_crb35_53G_25_ucid_3_boost_0_freq.txt\n",
      "C:\\jupyter\\EVK\\logs\\35_SC\\CRB_Fsweepcrb35_53G\\freq_sweep\\Bin5431_m0p0dBm_avdd1p0_crb35_53G_25_ucid_3_boost_0_freq.txt C:\\jupyter\\EVK\\logs\\35_SC\\CRB_Fsweepcrb35_53G\\freq_sweep\\Bin5477_m0p0dBm_avdd1p0_crb35_53G_25_ucid_3_boost_0_freq.txt\n",
      "[5477, 5519]\n",
      "5477\n",
      "C:\\jupyter\\EVK\\logs\\35_SC\\CRB_Fsweepcrb35_53G\\freq_sweep\\Bin5477_m0p0dBm_avdd1p0_crb35_53G_25_ucid_3_boost_0_freq.txt\n",
      "C:\\jupyter\\EVK\\logs\\35_SC\\CRB_Fsweepcrb35_53G\\freq_sweep\\Bin5477_m0p0dBm_avdd1p0_crb35_53G_25_ucid_3_boost_0_freq.txt C:\\jupyter\\EVK\\logs\\35_SC\\CRB_Fsweepcrb35_53G\\freq_sweep\\Bin5519_m0p0dBm_avdd1p0_crb35_53G_25_ucid_3_boost_0_freq.txt\n",
      "[5519, 5569]\n",
      "5519\n",
      "C:\\jupyter\\EVK\\logs\\35_SC\\CRB_Fsweepcrb35_53G\\freq_sweep\\Bin5519_m0p0dBm_avdd1p0_crb35_53G_25_ucid_3_boost_0_freq.txt\n",
      "C:\\jupyter\\EVK\\logs\\35_SC\\CRB_Fsweepcrb35_53G\\freq_sweep\\Bin5519_m0p0dBm_avdd1p0_crb35_53G_25_ucid_3_boost_0_freq.txt C:\\jupyter\\EVK\\logs\\35_SC\\CRB_Fsweepcrb35_53G\\freq_sweep\\Bin5569_m0p0dBm_avdd1p0_crb35_53G_25_ucid_3_boost_0_freq.txt\n",
      "[5569, 5591]\n",
      "5569\n",
      "C:\\jupyter\\EVK\\logs\\35_SC\\CRB_Fsweepcrb35_53G\\freq_sweep\\Bin5569_m0p0dBm_avdd1p0_crb35_53G_25_ucid_3_boost_0_freq.txt\n",
      "C:\\jupyter\\EVK\\logs\\35_SC\\CRB_Fsweepcrb35_53G\\freq_sweep\\Bin5569_m0p0dBm_avdd1p0_crb35_53G_25_ucid_3_boost_0_freq.txt C:\\jupyter\\EVK\\logs\\35_SC\\CRB_Fsweepcrb35_53G\\freq_sweep\\Bin5591_m0p0dBm_avdd1p0_crb35_53G_25_ucid_3_boost_0_freq.txt\n",
      "[5591, 5647]\n",
      "5591\n",
      "C:\\jupyter\\EVK\\logs\\35_SC\\CRB_Fsweepcrb35_53G\\freq_sweep\\Bin5591_m0p0dBm_avdd1p0_crb35_53G_25_ucid_3_boost_0_freq.txt\n",
      "C:\\jupyter\\EVK\\logs\\35_SC\\CRB_Fsweepcrb35_53G\\freq_sweep\\Bin5591_m0p0dBm_avdd1p0_crb35_53G_25_ucid_3_boost_0_freq.txt C:\\jupyter\\EVK\\logs\\35_SC\\CRB_Fsweepcrb35_53G\\freq_sweep\\Bin5647_m0p0dBm_avdd1p0_crb35_53G_25_ucid_3_boost_0_freq.txt\n",
      "[5647, 5689]\n",
      "5647\n",
      "C:\\jupyter\\EVK\\logs\\35_SC\\CRB_Fsweepcrb35_53G\\freq_sweep\\Bin5647_m0p0dBm_avdd1p0_crb35_53G_25_ucid_3_boost_0_freq.txt\n",
      "C:\\jupyter\\EVK\\logs\\35_SC\\CRB_Fsweepcrb35_53G\\freq_sweep\\Bin5647_m0p0dBm_avdd1p0_crb35_53G_25_ucid_3_boost_0_freq.txt C:\\jupyter\\EVK\\logs\\35_SC\\CRB_Fsweepcrb35_53G\\freq_sweep\\Bin5689_m0p0dBm_avdd1p0_crb35_53G_25_ucid_3_boost_0_freq.txt\n",
      "[5689, 5737]\n",
      "5689\n",
      "C:\\jupyter\\EVK\\logs\\35_SC\\CRB_Fsweepcrb35_53G\\freq_sweep\\Bin5689_m0p0dBm_avdd1p0_crb35_53G_25_ucid_3_boost_0_freq.txt\n",
      "C:\\jupyter\\EVK\\logs\\35_SC\\CRB_Fsweepcrb35_53G\\freq_sweep\\Bin5689_m0p0dBm_avdd1p0_crb35_53G_25_ucid_3_boost_0_freq.txt C:\\jupyter\\EVK\\logs\\35_SC\\CRB_Fsweepcrb35_53G\\freq_sweep\\Bin5737_m0p0dBm_avdd1p0_crb35_53G_25_ucid_3_boost_0_freq.txt\n",
      "[5737, 5779]\n",
      "5737\n",
      "C:\\jupyter\\EVK\\logs\\35_SC\\CRB_Fsweepcrb35_53G\\freq_sweep\\Bin5737_m0p0dBm_avdd1p0_crb35_53G_25_ucid_3_boost_0_freq.txt\n",
      "C:\\jupyter\\EVK\\logs\\35_SC\\CRB_Fsweepcrb35_53G\\freq_sweep\\Bin5737_m0p0dBm_avdd1p0_crb35_53G_25_ucid_3_boost_0_freq.txt C:\\jupyter\\EVK\\logs\\35_SC\\CRB_Fsweepcrb35_53G\\freq_sweep\\Bin5779_m0p0dBm_avdd1p0_crb35_53G_25_ucid_3_boost_0_freq.txt\n",
      "[5779, 5839]\n",
      "5779\n",
      "C:\\jupyter\\EVK\\logs\\35_SC\\CRB_Fsweepcrb35_53G\\freq_sweep\\Bin5779_m0p0dBm_avdd1p0_crb35_53G_25_ucid_3_boost_0_freq.txt\n",
      "C:\\jupyter\\EVK\\logs\\35_SC\\CRB_Fsweepcrb35_53G\\freq_sweep\\Bin5779_m0p0dBm_avdd1p0_crb35_53G_25_ucid_3_boost_0_freq.txt C:\\jupyter\\EVK\\logs\\35_SC\\CRB_Fsweepcrb35_53G\\freq_sweep\\Bin5839_m0p0dBm_avdd1p0_crb35_53G_25_ucid_3_boost_0_freq.txt\n",
      "[5839, 5861]\n",
      "5839\n",
      "C:\\jupyter\\EVK\\logs\\35_SC\\CRB_Fsweepcrb35_53G\\freq_sweep\\Bin5839_m0p0dBm_avdd1p0_crb35_53G_25_ucid_3_boost_0_freq.txt\n",
      "C:\\jupyter\\EVK\\logs\\35_SC\\CRB_Fsweepcrb35_53G\\freq_sweep\\Bin5839_m0p0dBm_avdd1p0_crb35_53G_25_ucid_3_boost_0_freq.txt C:\\jupyter\\EVK\\logs\\35_SC\\CRB_Fsweepcrb35_53G\\freq_sweep\\Bin5861_m0p0dBm_avdd1p0_crb35_53G_25_ucid_3_boost_0_freq.txt\n",
      "[5861, 5897]\n",
      "5861\n",
      "C:\\jupyter\\EVK\\logs\\35_SC\\CRB_Fsweepcrb35_53G\\freq_sweep\\Bin5861_m0p0dBm_avdd1p0_crb35_53G_25_ucid_3_boost_0_freq.txt\n",
      "C:\\jupyter\\EVK\\logs\\35_SC\\CRB_Fsweepcrb35_53G\\freq_sweep\\Bin5861_m0p0dBm_avdd1p0_crb35_53G_25_ucid_3_boost_0_freq.txt C:\\jupyter\\EVK\\logs\\35_SC\\CRB_Fsweepcrb35_53G\\freq_sweep\\Bin5897_m0p0dBm_avdd1p0_crb35_53G_25_ucid_3_boost_0_freq.txt\n",
      "[5897, 5939]\n",
      "5897\n",
      "C:\\jupyter\\EVK\\logs\\35_SC\\CRB_Fsweepcrb35_53G\\freq_sweep\\Bin5897_m0p0dBm_avdd1p0_crb35_53G_25_ucid_3_boost_0_freq.txt\n",
      "C:\\jupyter\\EVK\\logs\\35_SC\\CRB_Fsweepcrb35_53G\\freq_sweep\\Bin5897_m0p0dBm_avdd1p0_crb35_53G_25_ucid_3_boost_0_freq.txt C:\\jupyter\\EVK\\logs\\35_SC\\CRB_Fsweepcrb35_53G\\freq_sweep\\Bin5939_m0p0dBm_avdd1p0_crb35_53G_25_ucid_3_boost_0_freq.txt\n",
      "[5939, 5981]\n",
      "5939\n",
      "C:\\jupyter\\EVK\\logs\\35_SC\\CRB_Fsweepcrb35_53G\\freq_sweep\\Bin5939_m0p0dBm_avdd1p0_crb35_53G_25_ucid_3_boost_0_freq.txt\n",
      "C:\\jupyter\\EVK\\logs\\35_SC\\CRB_Fsweepcrb35_53G\\freq_sweep\\Bin5939_m0p0dBm_avdd1p0_crb35_53G_25_ucid_3_boost_0_freq.txt C:\\jupyter\\EVK\\logs\\35_SC\\CRB_Fsweepcrb35_53G\\freq_sweep\\Bin5981_m0p0dBm_avdd1p0_crb35_53G_25_ucid_3_boost_0_freq.txt\n",
      "[5981, 6007]\n",
      "5981\n",
      "C:\\jupyter\\EVK\\logs\\35_SC\\CRB_Fsweepcrb35_53G\\freq_sweep\\Bin5981_m0p0dBm_avdd1p0_crb35_53G_25_ucid_3_boost_0_freq.txt\n",
      "C:\\jupyter\\EVK\\logs\\35_SC\\CRB_Fsweepcrb35_53G\\freq_sweep\\Bin5981_m0p0dBm_avdd1p0_crb35_53G_25_ucid_3_boost_0_freq.txt C:\\jupyter\\EVK\\logs\\35_SC\\CRB_Fsweepcrb35_53G\\freq_sweep\\Bin6007_m0p0dBm_avdd1p0_crb35_53G_25_ucid_3_boost_0_freq.txt\n",
      "[6007, 6089]\n",
      "6007\n",
      "C:\\jupyter\\EVK\\logs\\35_SC\\CRB_Fsweepcrb35_53G\\freq_sweep\\Bin6007_m0p0dBm_avdd1p0_crb35_53G_25_ucid_3_boost_0_freq.txt\n",
      "C:\\jupyter\\EVK\\logs\\35_SC\\CRB_Fsweepcrb35_53G\\freq_sweep\\Bin6007_m0p0dBm_avdd1p0_crb35_53G_25_ucid_3_boost_0_freq.txt C:\\jupyter\\EVK\\logs\\35_SC\\CRB_Fsweepcrb35_53G\\freq_sweep\\Bin6089_m0p0dBm_avdd1p0_crb35_53G_25_ucid_3_boost_0_freq.txt\n",
      "[6089, 6131]\n",
      "6089\n",
      "C:\\jupyter\\EVK\\logs\\35_SC\\CRB_Fsweepcrb35_53G\\freq_sweep\\Bin6089_m0p0dBm_avdd1p0_crb35_53G_25_ucid_3_boost_0_freq.txt\n",
      "C:\\jupyter\\EVK\\logs\\35_SC\\CRB_Fsweepcrb35_53G\\freq_sweep\\Bin6089_m0p0dBm_avdd1p0_crb35_53G_25_ucid_3_boost_0_freq.txt C:\\jupyter\\EVK\\logs\\35_SC\\CRB_Fsweepcrb35_53G\\freq_sweep\\Bin6131_m0p0dBm_avdd1p0_crb35_53G_25_ucid_3_boost_0_freq.txt\n",
      "[6131, 6197]\n",
      "6131\n",
      "C:\\jupyter\\EVK\\logs\\35_SC\\CRB_Fsweepcrb35_53G\\freq_sweep\\Bin6131_m0p0dBm_avdd1p0_crb35_53G_25_ucid_3_boost_0_freq.txt\n",
      "C:\\jupyter\\EVK\\logs\\35_SC\\CRB_Fsweepcrb35_53G\\freq_sweep\\Bin6131_m0p0dBm_avdd1p0_crb35_53G_25_ucid_3_boost_0_freq.txt C:\\jupyter\\EVK\\logs\\35_SC\\CRB_Fsweepcrb35_53G\\freq_sweep\\Bin6197_m0p0dBm_avdd1p0_crb35_53G_25_ucid_3_boost_0_freq.txt\n",
      "[6197, 6247]\n",
      "6197\n",
      "C:\\jupyter\\EVK\\logs\\35_SC\\CRB_Fsweepcrb35_53G\\freq_sweep\\Bin6197_m0p0dBm_avdd1p0_crb35_53G_25_ucid_3_boost_0_freq.txt\n",
      "C:\\jupyter\\EVK\\logs\\35_SC\\CRB_Fsweepcrb35_53G\\freq_sweep\\Bin6197_m0p0dBm_avdd1p0_crb35_53G_25_ucid_3_boost_0_freq.txt C:\\jupyter\\EVK\\logs\\35_SC\\CRB_Fsweepcrb35_53G\\freq_sweep\\Bin6247_m0p0dBm_avdd1p0_crb35_53G_25_ucid_3_boost_0_freq.txt\n",
      "[6247, 6287]\n",
      "6247\n",
      "C:\\jupyter\\EVK\\logs\\35_SC\\CRB_Fsweepcrb35_53G\\freq_sweep\\Bin6247_m0p0dBm_avdd1p0_crb35_53G_25_ucid_3_boost_0_freq.txt\n",
      "C:\\jupyter\\EVK\\logs\\35_SC\\CRB_Fsweepcrb35_53G\\freq_sweep\\Bin6247_m0p0dBm_avdd1p0_crb35_53G_25_ucid_3_boost_0_freq.txt C:\\jupyter\\EVK\\logs\\35_SC\\CRB_Fsweepcrb35_53G\\freq_sweep\\Bin6287_m0p0dBm_avdd1p0_crb35_53G_25_ucid_3_boost_0_freq.txt\n",
      "[6287, 6337]\n",
      "6287\n",
      "C:\\jupyter\\EVK\\logs\\35_SC\\CRB_Fsweepcrb35_53G\\freq_sweep\\Bin6287_m0p0dBm_avdd1p0_crb35_53G_25_ucid_3_boost_0_freq.txt\n",
      "C:\\jupyter\\EVK\\logs\\35_SC\\CRB_Fsweepcrb35_53G\\freq_sweep\\Bin6287_m0p0dBm_avdd1p0_crb35_53G_25_ucid_3_boost_0_freq.txt C:\\jupyter\\EVK\\logs\\35_SC\\CRB_Fsweepcrb35_53G\\freq_sweep\\Bin6337_m0p0dBm_avdd1p0_crb35_53G_25_ucid_3_boost_0_freq.txt\n",
      "[6337, 6361]\n",
      "6337\n",
      "C:\\jupyter\\EVK\\logs\\35_SC\\CRB_Fsweepcrb35_53G\\freq_sweep\\Bin6337_m0p0dBm_avdd1p0_crb35_53G_25_ucid_3_boost_0_freq.txt\n",
      "C:\\jupyter\\EVK\\logs\\35_SC\\CRB_Fsweepcrb35_53G\\freq_sweep\\Bin6337_m0p0dBm_avdd1p0_crb35_53G_25_ucid_3_boost_0_freq.txt C:\\jupyter\\EVK\\logs\\35_SC\\CRB_Fsweepcrb35_53G\\freq_sweep\\Bin6361_m0p0dBm_avdd1p0_crb35_53G_25_ucid_3_boost_0_freq.txt\n"
     ]
    },
    {
     "name": "stdout",
     "output_type": "stream",
     "text": [
      "[6361, 6397]\n",
      "6361\n",
      "C:\\jupyter\\EVK\\logs\\35_SC\\CRB_Fsweepcrb35_53G\\freq_sweep\\Bin6361_m0p0dBm_avdd1p0_crb35_53G_25_ucid_3_boost_0_freq.txt\n",
      "C:\\jupyter\\EVK\\logs\\35_SC\\CRB_Fsweepcrb35_53G\\freq_sweep\\Bin6361_m0p0dBm_avdd1p0_crb35_53G_25_ucid_3_boost_0_freq.txt C:\\jupyter\\EVK\\logs\\35_SC\\CRB_Fsweepcrb35_53G\\freq_sweep\\Bin6397_m0p0dBm_avdd1p0_crb35_53G_25_ucid_3_boost_0_freq.txt\n",
      "[6397, 6451]\n",
      "6397\n",
      "C:\\jupyter\\EVK\\logs\\35_SC\\CRB_Fsweepcrb35_53G\\freq_sweep\\Bin6397_m0p0dBm_avdd1p0_crb35_53G_25_ucid_3_boost_0_freq.txt\n",
      "C:\\jupyter\\EVK\\logs\\35_SC\\CRB_Fsweepcrb35_53G\\freq_sweep\\Bin6397_m0p0dBm_avdd1p0_crb35_53G_25_ucid_3_boost_0_freq.txt C:\\jupyter\\EVK\\logs\\35_SC\\CRB_Fsweepcrb35_53G\\freq_sweep\\Bin6451_m0p0dBm_avdd1p0_crb35_53G_25_ucid_3_boost_0_freq.txt\n",
      "[6451, 6491]\n",
      "6451\n",
      "C:\\jupyter\\EVK\\logs\\35_SC\\CRB_Fsweepcrb35_53G\\freq_sweep\\Bin6451_m0p0dBm_avdd1p0_crb35_53G_25_ucid_3_boost_0_freq.txt\n",
      "C:\\jupyter\\EVK\\logs\\35_SC\\CRB_Fsweepcrb35_53G\\freq_sweep\\Bin6451_m0p0dBm_avdd1p0_crb35_53G_25_ucid_3_boost_0_freq.txt C:\\jupyter\\EVK\\logs\\35_SC\\CRB_Fsweepcrb35_53G\\freq_sweep\\Bin6491_m0p0dBm_avdd1p0_crb35_53G_25_ucid_3_boost_0_freq.txt\n",
      "[6491, 6547]\n",
      "6491\n",
      "C:\\jupyter\\EVK\\logs\\35_SC\\CRB_Fsweepcrb35_53G\\freq_sweep\\Bin6491_m0p0dBm_avdd1p0_crb35_53G_25_ucid_3_boost_0_freq.txt\n",
      "C:\\jupyter\\EVK\\logs\\35_SC\\CRB_Fsweepcrb35_53G\\freq_sweep\\Bin6491_m0p0dBm_avdd1p0_crb35_53G_25_ucid_3_boost_0_freq.txt C:\\jupyter\\EVK\\logs\\35_SC\\CRB_Fsweepcrb35_53G\\freq_sweep\\Bin6547_m0p0dBm_avdd1p0_crb35_53G_25_ucid_3_boost_0_freq.txt\n",
      "[6547, 6581]\n",
      "6547\n",
      "C:\\jupyter\\EVK\\logs\\35_SC\\CRB_Fsweepcrb35_53G\\freq_sweep\\Bin6547_m0p0dBm_avdd1p0_crb35_53G_25_ucid_3_boost_0_freq.txt\n",
      "C:\\jupyter\\EVK\\logs\\35_SC\\CRB_Fsweepcrb35_53G\\freq_sweep\\Bin6547_m0p0dBm_avdd1p0_crb35_53G_25_ucid_3_boost_0_freq.txt C:\\jupyter\\EVK\\logs\\35_SC\\CRB_Fsweepcrb35_53G\\freq_sweep\\Bin6581_m0p0dBm_avdd1p0_crb35_53G_25_ucid_3_boost_0_freq.txt\n",
      "[6581, 6619]\n",
      "6581\n",
      "C:\\jupyter\\EVK\\logs\\35_SC\\CRB_Fsweepcrb35_53G\\freq_sweep\\Bin6581_m0p0dBm_avdd1p0_crb35_53G_25_ucid_3_boost_0_freq.txt\n",
      "C:\\jupyter\\EVK\\logs\\35_SC\\CRB_Fsweepcrb35_53G\\freq_sweep\\Bin6581_m0p0dBm_avdd1p0_crb35_53G_25_ucid_3_boost_0_freq.txt C:\\jupyter\\EVK\\logs\\35_SC\\CRB_Fsweepcrb35_53G\\freq_sweep\\Bin6619_m0p0dBm_avdd1p0_crb35_53G_25_ucid_3_boost_0_freq.txt\n",
      "[6619, 6661]\n",
      "6619\n",
      "C:\\jupyter\\EVK\\logs\\35_SC\\CRB_Fsweepcrb35_53G\\freq_sweep\\Bin6619_m0p0dBm_avdd1p0_crb35_53G_25_ucid_3_boost_0_freq.txt\n",
      "C:\\jupyter\\EVK\\logs\\35_SC\\CRB_Fsweepcrb35_53G\\freq_sweep\\Bin6619_m0p0dBm_avdd1p0_crb35_53G_25_ucid_3_boost_0_freq.txt C:\\jupyter\\EVK\\logs\\35_SC\\CRB_Fsweepcrb35_53G\\freq_sweep\\Bin6661_m0p0dBm_avdd1p0_crb35_53G_25_ucid_3_boost_0_freq.txt\n",
      "[6661, 6719]\n",
      "6661\n",
      "C:\\jupyter\\EVK\\logs\\35_SC\\CRB_Fsweepcrb35_53G\\freq_sweep\\Bin6661_m0p0dBm_avdd1p0_crb35_53G_25_ucid_3_boost_0_freq.txt\n",
      "C:\\jupyter\\EVK\\logs\\35_SC\\CRB_Fsweepcrb35_53G\\freq_sweep\\Bin6661_m0p0dBm_avdd1p0_crb35_53G_25_ucid_3_boost_0_freq.txt C:\\jupyter\\EVK\\logs\\35_SC\\CRB_Fsweepcrb35_53G\\freq_sweep\\Bin6719_m0p0dBm_avdd1p0_crb35_53G_25_ucid_3_boost_0_freq.txt\n",
      "[6719, 6761]\n",
      "6719\n",
      "C:\\jupyter\\EVK\\logs\\35_SC\\CRB_Fsweepcrb35_53G\\freq_sweep\\Bin6719_m0p0dBm_avdd1p0_crb35_53G_25_ucid_3_boost_0_freq.txt\n",
      "C:\\jupyter\\EVK\\logs\\35_SC\\CRB_Fsweepcrb35_53G\\freq_sweep\\Bin6719_m0p0dBm_avdd1p0_crb35_53G_25_ucid_3_boost_0_freq.txt C:\\jupyter\\EVK\\logs\\35_SC\\CRB_Fsweepcrb35_53G\\freq_sweep\\Bin6761_m0p0dBm_avdd1p0_crb35_53G_25_ucid_3_boost_0_freq.txt\n",
      "[6761, 6823]\n",
      "6761\n",
      "C:\\jupyter\\EVK\\logs\\35_SC\\CRB_Fsweepcrb35_53G\\freq_sweep\\Bin6761_m0p0dBm_avdd1p0_crb35_53G_25_ucid_3_boost_0_freq.txt\n",
      "C:\\jupyter\\EVK\\logs\\35_SC\\CRB_Fsweepcrb35_53G\\freq_sweep\\Bin6761_m0p0dBm_avdd1p0_crb35_53G_25_ucid_3_boost_0_freq.txt C:\\jupyter\\EVK\\logs\\35_SC\\CRB_Fsweepcrb35_53G\\freq_sweep\\Bin6823_m0p0dBm_avdd1p0_crb35_53G_25_ucid_3_boost_0_freq.txt\n",
      "[6823, 6857]\n",
      "6823\n",
      "C:\\jupyter\\EVK\\logs\\35_SC\\CRB_Fsweepcrb35_53G\\freq_sweep\\Bin6823_m0p0dBm_avdd1p0_crb35_53G_25_ucid_3_boost_0_freq.txt\n",
      "C:\\jupyter\\EVK\\logs\\35_SC\\CRB_Fsweepcrb35_53G\\freq_sweep\\Bin6823_m0p0dBm_avdd1p0_crb35_53G_25_ucid_3_boost_0_freq.txt C:\\jupyter\\EVK\\logs\\35_SC\\CRB_Fsweepcrb35_53G\\freq_sweep\\Bin6857_m0p0dBm_avdd1p0_crb35_53G_25_ucid_3_boost_0_freq.txt\n",
      "[6857, 6899]\n",
      "6857\n",
      "C:\\jupyter\\EVK\\logs\\35_SC\\CRB_Fsweepcrb35_53G\\freq_sweep\\Bin6857_m0p0dBm_avdd1p0_crb35_53G_25_ucid_3_boost_0_freq.txt\n",
      "C:\\jupyter\\EVK\\logs\\35_SC\\CRB_Fsweepcrb35_53G\\freq_sweep\\Bin6857_m0p0dBm_avdd1p0_crb35_53G_25_ucid_3_boost_0_freq.txt C:\\jupyter\\EVK\\logs\\35_SC\\CRB_Fsweepcrb35_53G\\freq_sweep\\Bin6899_m0p0dBm_avdd1p0_crb35_53G_25_ucid_3_boost_0_freq.txt\n",
      "[6899, 6947]\n",
      "6899\n",
      "C:\\jupyter\\EVK\\logs\\35_SC\\CRB_Fsweepcrb35_53G\\freq_sweep\\Bin6899_m0p0dBm_avdd1p0_crb35_53G_25_ucid_3_boost_0_freq.txt\n",
      "C:\\jupyter\\EVK\\logs\\35_SC\\CRB_Fsweepcrb35_53G\\freq_sweep\\Bin6899_m0p0dBm_avdd1p0_crb35_53G_25_ucid_3_boost_0_freq.txt C:\\jupyter\\EVK\\logs\\35_SC\\CRB_Fsweepcrb35_53G\\freq_sweep\\Bin6947_m0p0dBm_avdd1p0_crb35_53G_25_ucid_3_boost_0_freq.txt\n",
      "[6947, 6977]\n",
      "6947\n",
      "C:\\jupyter\\EVK\\logs\\35_SC\\CRB_Fsweepcrb35_53G\\freq_sweep\\Bin6947_m0p0dBm_avdd1p0_crb35_53G_25_ucid_3_boost_0_freq.txt\n",
      "C:\\jupyter\\EVK\\logs\\35_SC\\CRB_Fsweepcrb35_53G\\freq_sweep\\Bin6947_m0p0dBm_avdd1p0_crb35_53G_25_ucid_3_boost_0_freq.txt C:\\jupyter\\EVK\\logs\\35_SC\\CRB_Fsweepcrb35_53G\\freq_sweep\\Bin6977_m0p0dBm_avdd1p0_crb35_53G_25_ucid_3_boost_0_freq.txt\n",
      "[6977, 6997]\n",
      "6977\n",
      "C:\\jupyter\\EVK\\logs\\35_SC\\CRB_Fsweepcrb35_53G\\freq_sweep\\Bin6977_m0p0dBm_avdd1p0_crb35_53G_25_ucid_3_boost_0_freq.txt\n",
      "C:\\jupyter\\EVK\\logs\\35_SC\\CRB_Fsweepcrb35_53G\\freq_sweep\\Bin6977_m0p0dBm_avdd1p0_crb35_53G_25_ucid_3_boost_0_freq.txt C:\\jupyter\\EVK\\logs\\35_SC\\CRB_Fsweepcrb35_53G\\freq_sweep\\Bin6997_m0p0dBm_avdd1p0_crb35_53G_25_ucid_3_boost_0_freq.txt\n",
      "[6997, 7043]\n",
      "6997\n",
      "C:\\jupyter\\EVK\\logs\\35_SC\\CRB_Fsweepcrb35_53G\\freq_sweep\\Bin6997_m0p0dBm_avdd1p0_crb35_53G_25_ucid_3_boost_0_freq.txt\n",
      "C:\\jupyter\\EVK\\logs\\35_SC\\CRB_Fsweepcrb35_53G\\freq_sweep\\Bin6997_m0p0dBm_avdd1p0_crb35_53G_25_ucid_3_boost_0_freq.txt C:\\jupyter\\EVK\\logs\\35_SC\\CRB_Fsweepcrb35_53G\\freq_sweep\\Bin7043_m0p0dBm_avdd1p0_crb35_53G_25_ucid_3_boost_0_freq.txt\n",
      "[7043, 7057]\n",
      "7043\n",
      "C:\\jupyter\\EVK\\logs\\35_SC\\CRB_Fsweepcrb35_53G\\freq_sweep\\Bin7043_m0p0dBm_avdd1p0_crb35_53G_25_ucid_3_boost_0_freq.txt\n",
      "C:\\jupyter\\EVK\\logs\\35_SC\\CRB_Fsweepcrb35_53G\\freq_sweep\\Bin7043_m0p0dBm_avdd1p0_crb35_53G_25_ucid_3_boost_0_freq.txt C:\\jupyter\\EVK\\logs\\35_SC\\CRB_Fsweepcrb35_53G\\freq_sweep\\Bin7057_m0p0dBm_avdd1p0_crb35_53G_25_ucid_3_boost_0_freq.txt\n",
      "[7057, 7121]\n",
      "7057\n",
      "C:\\jupyter\\EVK\\logs\\35_SC\\CRB_Fsweepcrb35_53G\\freq_sweep\\Bin7057_m0p0dBm_avdd1p0_crb35_53G_25_ucid_3_boost_0_freq.txt\n",
      "C:\\jupyter\\EVK\\logs\\35_SC\\CRB_Fsweepcrb35_53G\\freq_sweep\\Bin7057_m0p0dBm_avdd1p0_crb35_53G_25_ucid_3_boost_0_freq.txt C:\\jupyter\\EVK\\logs\\35_SC\\CRB_Fsweepcrb35_53G\\freq_sweep\\Bin7121_m0p0dBm_avdd1p0_crb35_53G_25_ucid_3_boost_0_freq.txt\n",
      "[7121, 7187]\n",
      "7121\n",
      "C:\\jupyter\\EVK\\logs\\35_SC\\CRB_Fsweepcrb35_53G\\freq_sweep\\Bin7121_m0p0dBm_avdd1p0_crb35_53G_25_ucid_3_boost_0_freq.txt\n",
      "C:\\jupyter\\EVK\\logs\\35_SC\\CRB_Fsweepcrb35_53G\\freq_sweep\\Bin7121_m0p0dBm_avdd1p0_crb35_53G_25_ucid_3_boost_0_freq.txt C:\\jupyter\\EVK\\logs\\35_SC\\CRB_Fsweepcrb35_53G\\freq_sweep\\Bin7187_m0p0dBm_avdd1p0_crb35_53G_25_ucid_3_boost_0_freq.txt\n",
      "[7187, 7219]\n",
      "7187\n",
      "C:\\jupyter\\EVK\\logs\\35_SC\\CRB_Fsweepcrb35_53G\\freq_sweep\\Bin7187_m0p0dBm_avdd1p0_crb35_53G_25_ucid_3_boost_0_freq.txt\n",
      "C:\\jupyter\\EVK\\logs\\35_SC\\CRB_Fsweepcrb35_53G\\freq_sweep\\Bin7187_m0p0dBm_avdd1p0_crb35_53G_25_ucid_3_boost_0_freq.txt C:\\jupyter\\EVK\\logs\\35_SC\\CRB_Fsweepcrb35_53G\\freq_sweep\\Bin7219_m0p0dBm_avdd1p0_crb35_53G_25_ucid_3_boost_0_freq.txt\n",
      "[7219, 7243]\n",
      "7219\n",
      "C:\\jupyter\\EVK\\logs\\35_SC\\CRB_Fsweepcrb35_53G\\freq_sweep\\Bin7219_m0p0dBm_avdd1p0_crb35_53G_25_ucid_3_boost_0_freq.txt\n",
      "C:\\jupyter\\EVK\\logs\\35_SC\\CRB_Fsweepcrb35_53G\\freq_sweep\\Bin7219_m0p0dBm_avdd1p0_crb35_53G_25_ucid_3_boost_0_freq.txt C:\\jupyter\\EVK\\logs\\35_SC\\CRB_Fsweepcrb35_53G\\freq_sweep\\Bin7243_m0p0dBm_avdd1p0_crb35_53G_25_ucid_3_boost_0_freq.txt\n",
      "[7243, 7283]\n",
      "7243\n",
      "C:\\jupyter\\EVK\\logs\\35_SC\\CRB_Fsweepcrb35_53G\\freq_sweep\\Bin7243_m0p0dBm_avdd1p0_crb35_53G_25_ucid_3_boost_0_freq.txt\n",
      "C:\\jupyter\\EVK\\logs\\35_SC\\CRB_Fsweepcrb35_53G\\freq_sweep\\Bin7243_m0p0dBm_avdd1p0_crb35_53G_25_ucid_3_boost_0_freq.txt C:\\jupyter\\EVK\\logs\\35_SC\\CRB_Fsweepcrb35_53G\\freq_sweep\\Bin7283_m0p0dBm_avdd1p0_crb35_53G_25_ucid_3_boost_0_freq.txt\n",
      "[7283, 7333]\n",
      "7283\n",
      "C:\\jupyter\\EVK\\logs\\35_SC\\CRB_Fsweepcrb35_53G\\freq_sweep\\Bin7283_m0p0dBm_avdd1p0_crb35_53G_25_ucid_3_boost_0_freq.txt\n",
      "C:\\jupyter\\EVK\\logs\\35_SC\\CRB_Fsweepcrb35_53G\\freq_sweep\\Bin7283_m0p0dBm_avdd1p0_crb35_53G_25_ucid_3_boost_0_freq.txt C:\\jupyter\\EVK\\logs\\35_SC\\CRB_Fsweepcrb35_53G\\freq_sweep\\Bin7333_m0p0dBm_avdd1p0_crb35_53G_25_ucid_3_boost_0_freq.txt\n"
     ]
    },
    {
     "name": "stdout",
     "output_type": "stream",
     "text": [
      "[7333, 7349]\n",
      "7333\n",
      "C:\\jupyter\\EVK\\logs\\35_SC\\CRB_Fsweepcrb35_53G\\freq_sweep\\Bin7333_m0p0dBm_avdd1p0_crb35_53G_25_ucid_3_boost_0_freq.txt\n",
      "C:\\jupyter\\EVK\\logs\\35_SC\\CRB_Fsweepcrb35_53G\\freq_sweep\\Bin7333_m0p0dBm_avdd1p0_crb35_53G_25_ucid_3_boost_0_freq.txt C:\\jupyter\\EVK\\logs\\35_SC\\CRB_Fsweepcrb35_53G\\freq_sweep\\Bin7349_m0p0dBm_avdd1p0_crb35_53G_25_ucid_3_boost_0_freq.txt\n",
      "[7349, 7411]\n",
      "7349\n",
      "C:\\jupyter\\EVK\\logs\\35_SC\\CRB_Fsweepcrb35_53G\\freq_sweep\\Bin7349_m0p0dBm_avdd1p0_crb35_53G_25_ucid_3_boost_0_freq.txt\n",
      "C:\\jupyter\\EVK\\logs\\35_SC\\CRB_Fsweepcrb35_53G\\freq_sweep\\Bin7349_m0p0dBm_avdd1p0_crb35_53G_25_ucid_3_boost_0_freq.txt C:\\jupyter\\EVK\\logs\\35_SC\\CRB_Fsweepcrb35_53G\\freq_sweep\\Bin7411_m0p0dBm_avdd1p0_crb35_53G_25_ucid_3_boost_0_freq.txt\n",
      "[7411, 7451]\n",
      "7411\n",
      "C:\\jupyter\\EVK\\logs\\35_SC\\CRB_Fsweepcrb35_53G\\freq_sweep\\Bin7411_m0p0dBm_avdd1p0_crb35_53G_25_ucid_3_boost_0_freq.txt\n",
      "C:\\jupyter\\EVK\\logs\\35_SC\\CRB_Fsweepcrb35_53G\\freq_sweep\\Bin7411_m0p0dBm_avdd1p0_crb35_53G_25_ucid_3_boost_0_freq.txt C:\\jupyter\\EVK\\logs\\35_SC\\CRB_Fsweepcrb35_53G\\freq_sweep\\Bin7451_m0p0dBm_avdd1p0_crb35_53G_25_ucid_3_boost_0_freq.txt\n",
      "[7451, 7489]\n",
      "7451\n",
      "C:\\jupyter\\EVK\\logs\\35_SC\\CRB_Fsweepcrb35_53G\\freq_sweep\\Bin7451_m0p0dBm_avdd1p0_crb35_53G_25_ucid_3_boost_0_freq.txt\n",
      "C:\\jupyter\\EVK\\logs\\35_SC\\CRB_Fsweepcrb35_53G\\freq_sweep\\Bin7451_m0p0dBm_avdd1p0_crb35_53G_25_ucid_3_boost_0_freq.txt C:\\jupyter\\EVK\\logs\\35_SC\\CRB_Fsweepcrb35_53G\\freq_sweep\\Bin7489_m0p0dBm_avdd1p0_crb35_53G_25_ucid_3_boost_0_freq.txt\n",
      "[7489, 7523]\n",
      "7489\n",
      "C:\\jupyter\\EVK\\logs\\35_SC\\CRB_Fsweepcrb35_53G\\freq_sweep\\Bin7489_m0p0dBm_avdd1p0_crb35_53G_25_ucid_3_boost_0_freq.txt\n",
      "C:\\jupyter\\EVK\\logs\\35_SC\\CRB_Fsweepcrb35_53G\\freq_sweep\\Bin7489_m0p0dBm_avdd1p0_crb35_53G_25_ucid_3_boost_0_freq.txt C:\\jupyter\\EVK\\logs\\35_SC\\CRB_Fsweepcrb35_53G\\freq_sweep\\Bin7523_m0p0dBm_avdd1p0_crb35_53G_25_ucid_3_boost_0_freq.txt\n",
      "[7523, 7561]\n",
      "7523\n",
      "C:\\jupyter\\EVK\\logs\\35_SC\\CRB_Fsweepcrb35_53G\\freq_sweep\\Bin7523_m0p0dBm_avdd1p0_crb35_53G_25_ucid_3_boost_0_freq.txt\n",
      "C:\\jupyter\\EVK\\logs\\35_SC\\CRB_Fsweepcrb35_53G\\freq_sweep\\Bin7523_m0p0dBm_avdd1p0_crb35_53G_25_ucid_3_boost_0_freq.txt C:\\jupyter\\EVK\\logs\\35_SC\\CRB_Fsweepcrb35_53G\\freq_sweep\\Bin7561_m0p0dBm_avdd1p0_crb35_53G_25_ucid_3_boost_0_freq.txt\n",
      "[7561, 7591]\n",
      "7561\n",
      "C:\\jupyter\\EVK\\logs\\35_SC\\CRB_Fsweepcrb35_53G\\freq_sweep\\Bin7561_m0p0dBm_avdd1p0_crb35_53G_25_ucid_3_boost_0_freq.txt\n",
      "C:\\jupyter\\EVK\\logs\\35_SC\\CRB_Fsweepcrb35_53G\\freq_sweep\\Bin7561_m0p0dBm_avdd1p0_crb35_53G_25_ucid_3_boost_0_freq.txt C:\\jupyter\\EVK\\logs\\35_SC\\CRB_Fsweepcrb35_53G\\freq_sweep\\Bin7591_m0p0dBm_avdd1p0_crb35_53G_25_ucid_3_boost_0_freq.txt\n",
      "[7591, 7649]\n",
      "7591\n",
      "C:\\jupyter\\EVK\\logs\\35_SC\\CRB_Fsweepcrb35_53G\\freq_sweep\\Bin7591_m0p0dBm_avdd1p0_crb35_53G_25_ucid_3_boost_0_freq.txt\n",
      "C:\\jupyter\\EVK\\logs\\35_SC\\CRB_Fsweepcrb35_53G\\freq_sweep\\Bin7591_m0p0dBm_avdd1p0_crb35_53G_25_ucid_3_boost_0_freq.txt C:\\jupyter\\EVK\\logs\\35_SC\\CRB_Fsweepcrb35_53G\\freq_sweep\\Bin7649_m0p0dBm_avdd1p0_crb35_53G_25_ucid_3_boost_0_freq.txt\n",
      "[7649, 7691]\n",
      "7649\n",
      "C:\\jupyter\\EVK\\logs\\35_SC\\CRB_Fsweepcrb35_53G\\freq_sweep\\Bin7649_m0p0dBm_avdd1p0_crb35_53G_25_ucid_3_boost_0_freq.txt\n",
      "C:\\jupyter\\EVK\\logs\\35_SC\\CRB_Fsweepcrb35_53G\\freq_sweep\\Bin7649_m0p0dBm_avdd1p0_crb35_53G_25_ucid_3_boost_0_freq.txt C:\\jupyter\\EVK\\logs\\35_SC\\CRB_Fsweepcrb35_53G\\freq_sweep\\Bin7691_m0p0dBm_avdd1p0_crb35_53G_25_ucid_3_boost_0_freq.txt\n",
      "[7691, 7741]\n",
      "7691\n",
      "C:\\jupyter\\EVK\\logs\\35_SC\\CRB_Fsweepcrb35_53G\\freq_sweep\\Bin7691_m0p0dBm_avdd1p0_crb35_53G_25_ucid_3_boost_0_freq.txt\n",
      "C:\\jupyter\\EVK\\logs\\35_SC\\CRB_Fsweepcrb35_53G\\freq_sweep\\Bin7691_m0p0dBm_avdd1p0_crb35_53G_25_ucid_3_boost_0_freq.txt C:\\jupyter\\EVK\\logs\\35_SC\\CRB_Fsweepcrb35_53G\\freq_sweep\\Bin7741_m0p0dBm_avdd1p0_crb35_53G_25_ucid_3_boost_0_freq.txt\n",
      "[7741, 7793]\n",
      "7741\n",
      "C:\\jupyter\\EVK\\logs\\35_SC\\CRB_Fsweepcrb35_53G\\freq_sweep\\Bin7741_m0p0dBm_avdd1p0_crb35_53G_25_ucid_3_boost_0_freq.txt\n",
      "C:\\jupyter\\EVK\\logs\\35_SC\\CRB_Fsweepcrb35_53G\\freq_sweep\\Bin7741_m0p0dBm_avdd1p0_crb35_53G_25_ucid_3_boost_0_freq.txt C:\\jupyter\\EVK\\logs\\35_SC\\CRB_Fsweepcrb35_53G\\freq_sweep\\Bin7793_m0p0dBm_avdd1p0_crb35_53G_25_ucid_3_boost_0_freq.txt\n",
      "[7793, 7841]\n",
      "7793\n",
      "C:\\jupyter\\EVK\\logs\\35_SC\\CRB_Fsweepcrb35_53G\\freq_sweep\\Bin7793_m0p0dBm_avdd1p0_crb35_53G_25_ucid_3_boost_0_freq.txt\n",
      "C:\\jupyter\\EVK\\logs\\35_SC\\CRB_Fsweepcrb35_53G\\freq_sweep\\Bin7793_m0p0dBm_avdd1p0_crb35_53G_25_ucid_3_boost_0_freq.txt C:\\jupyter\\EVK\\logs\\35_SC\\CRB_Fsweepcrb35_53G\\freq_sweep\\Bin7841_m0p0dBm_avdd1p0_crb35_53G_25_ucid_3_boost_0_freq.txt\n",
      "[7841, 7883]\n",
      "7841\n",
      "C:\\jupyter\\EVK\\logs\\35_SC\\CRB_Fsweepcrb35_53G\\freq_sweep\\Bin7841_m0p0dBm_avdd1p0_crb35_53G_25_ucid_3_boost_0_freq.txt\n",
      "C:\\jupyter\\EVK\\logs\\35_SC\\CRB_Fsweepcrb35_53G\\freq_sweep\\Bin7841_m0p0dBm_avdd1p0_crb35_53G_25_ucid_3_boost_0_freq.txt C:\\jupyter\\EVK\\logs\\35_SC\\CRB_Fsweepcrb35_53G\\freq_sweep\\Bin7883_m0p0dBm_avdd1p0_crb35_53G_25_ucid_3_boost_0_freq.txt\n",
      "[7883, 7901]\n",
      "7883\n",
      "C:\\jupyter\\EVK\\logs\\35_SC\\CRB_Fsweepcrb35_53G\\freq_sweep\\Bin7883_m0p0dBm_avdd1p0_crb35_53G_25_ucid_3_boost_0_freq.txt\n",
      "C:\\jupyter\\EVK\\logs\\35_SC\\CRB_Fsweepcrb35_53G\\freq_sweep\\Bin7883_m0p0dBm_avdd1p0_crb35_53G_25_ucid_3_boost_0_freq.txt C:\\jupyter\\EVK\\logs\\35_SC\\CRB_Fsweepcrb35_53G\\freq_sweep\\Bin7901_m0p0dBm_avdd1p0_crb35_53G_25_ucid_3_boost_0_freq.txt\n",
      "[7901, 7993]\n",
      "7901\n",
      "C:\\jupyter\\EVK\\logs\\35_SC\\CRB_Fsweepcrb35_53G\\freq_sweep\\Bin7901_m0p0dBm_avdd1p0_crb35_53G_25_ucid_3_boost_0_freq.txt\n",
      "C:\\jupyter\\EVK\\logs\\35_SC\\CRB_Fsweepcrb35_53G\\freq_sweep\\Bin7901_m0p0dBm_avdd1p0_crb35_53G_25_ucid_3_boost_0_freq.txt C:\\jupyter\\EVK\\logs\\35_SC\\CRB_Fsweepcrb35_53G\\freq_sweep\\Bin7993_m0p0dBm_avdd1p0_crb35_53G_25_ucid_3_boost_0_freq.txt\n"
     ]
    },
    {
     "data": {
      "text/plain": [
       "<Figure size 2304x1152 with 0 Axes>"
      ]
     },
     "metadata": {},
     "output_type": "display_data"
    },
    {
     "data": {
      "text/plain": [
       "<Figure size 2304x1152 with 0 Axes>"
      ]
     },
     "metadata": {},
     "output_type": "display_data"
    },
    {
     "data": {
      "text/plain": [
       "<Figure size 2304x1152 with 0 Axes>"
      ]
     },
     "metadata": {},
     "output_type": "display_data"
    },
    {
     "data": {
      "text/plain": [
       "<Figure size 2304x1152 with 0 Axes>"
      ]
     },
     "metadata": {},
     "output_type": "display_data"
    },
    {
     "data": {
      "text/plain": [
       "<Figure size 2304x1152 with 0 Axes>"
      ]
     },
     "metadata": {},
     "output_type": "display_data"
    },
    {
     "data": {
      "text/plain": [
       "<Figure size 2304x1152 with 0 Axes>"
      ]
     },
     "metadata": {},
     "output_type": "display_data"
    },
    {
     "data": {
      "text/plain": [
       "<Figure size 2304x1152 with 0 Axes>"
      ]
     },
     "metadata": {},
     "output_type": "display_data"
    },
    {
     "data": {
      "text/plain": [
       "<Figure size 2304x1152 with 0 Axes>"
      ]
     },
     "metadata": {},
     "output_type": "display_data"
    },
    {
     "data": {
      "text/plain": [
       "<Figure size 2304x1152 with 0 Axes>"
      ]
     },
     "metadata": {},
     "output_type": "display_data"
    },
    {
     "data": {
      "text/plain": [
       "<Figure size 2304x1152 with 0 Axes>"
      ]
     },
     "metadata": {},
     "output_type": "display_data"
    },
    {
     "data": {
      "text/plain": [
       "<Figure size 2304x1152 with 0 Axes>"
      ]
     },
     "metadata": {},
     "output_type": "display_data"
    },
    {
     "data": {
      "text/plain": [
       "<Figure size 2304x1152 with 0 Axes>"
      ]
     },
     "metadata": {},
     "output_type": "display_data"
    },
    {
     "data": {
      "text/plain": [
       "<Figure size 2304x1152 with 0 Axes>"
      ]
     },
     "metadata": {},
     "output_type": "display_data"
    },
    {
     "data": {
      "text/plain": [
       "<Figure size 2304x1152 with 0 Axes>"
      ]
     },
     "metadata": {},
     "output_type": "display_data"
    },
    {
     "data": {
      "text/plain": [
       "<Figure size 2304x1152 with 0 Axes>"
      ]
     },
     "metadata": {},
     "output_type": "display_data"
    },
    {
     "data": {
      "text/plain": [
       "<Figure size 2304x1152 with 0 Axes>"
      ]
     },
     "metadata": {},
     "output_type": "display_data"
    },
    {
     "data": {
      "text/plain": [
       "<Figure size 2304x1152 with 0 Axes>"
      ]
     },
     "metadata": {},
     "output_type": "display_data"
    },
    {
     "data": {
      "text/plain": [
       "<Figure size 2304x1152 with 0 Axes>"
      ]
     },
     "metadata": {},
     "output_type": "display_data"
    },
    {
     "data": {
      "text/plain": [
       "<Figure size 2304x1152 with 0 Axes>"
      ]
     },
     "metadata": {},
     "output_type": "display_data"
    },
    {
     "data": {
      "text/plain": [
       "<Figure size 2304x1152 with 0 Axes>"
      ]
     },
     "metadata": {},
     "output_type": "display_data"
    },
    {
     "data": {
      "text/plain": [
       "<Figure size 2304x1152 with 0 Axes>"
      ]
     },
     "metadata": {},
     "output_type": "display_data"
    },
    {
     "data": {
      "text/plain": [
       "<Figure size 2304x1152 with 0 Axes>"
      ]
     },
     "metadata": {},
     "output_type": "display_data"
    },
    {
     "data": {
      "text/plain": [
       "<Figure size 2304x1152 with 0 Axes>"
      ]
     },
     "metadata": {},
     "output_type": "display_data"
    },
    {
     "data": {
      "text/plain": [
       "<Figure size 2304x1152 with 0 Axes>"
      ]
     },
     "metadata": {},
     "output_type": "display_data"
    },
    {
     "data": {
      "text/plain": [
       "<Figure size 2304x1152 with 0 Axes>"
      ]
     },
     "metadata": {},
     "output_type": "display_data"
    },
    {
     "data": {
      "text/plain": [
       "<Figure size 2304x1152 with 0 Axes>"
      ]
     },
     "metadata": {},
     "output_type": "display_data"
    },
    {
     "data": {
      "text/plain": [
       "<Figure size 2304x1152 with 0 Axes>"
      ]
     },
     "metadata": {},
     "output_type": "display_data"
    },
    {
     "data": {
      "text/plain": [
       "<Figure size 2304x1152 with 0 Axes>"
      ]
     },
     "metadata": {},
     "output_type": "display_data"
    },
    {
     "data": {
      "text/plain": [
       "<Figure size 2304x1152 with 0 Axes>"
      ]
     },
     "metadata": {},
     "output_type": "display_data"
    },
    {
     "data": {
      "text/plain": [
       "<Figure size 2304x1152 with 0 Axes>"
      ]
     },
     "metadata": {},
     "output_type": "display_data"
    },
    {
     "data": {
      "text/plain": [
       "<Figure size 2304x1152 with 0 Axes>"
      ]
     },
     "metadata": {},
     "output_type": "display_data"
    },
    {
     "data": {
      "text/plain": [
       "<Figure size 2304x1152 with 0 Axes>"
      ]
     },
     "metadata": {},
     "output_type": "display_data"
    },
    {
     "data": {
      "text/plain": [
       "<Figure size 2304x1152 with 0 Axes>"
      ]
     },
     "metadata": {},
     "output_type": "display_data"
    },
    {
     "data": {
      "text/plain": [
       "<Figure size 2304x1152 with 0 Axes>"
      ]
     },
     "metadata": {},
     "output_type": "display_data"
    },
    {
     "data": {
      "text/plain": [
       "<Figure size 2304x1152 with 0 Axes>"
      ]
     },
     "metadata": {},
     "output_type": "display_data"
    },
    {
     "data": {
      "text/plain": [
       "<Figure size 2304x1152 with 0 Axes>"
      ]
     },
     "metadata": {},
     "output_type": "display_data"
    },
    {
     "data": {
      "text/plain": [
       "<Figure size 2304x1152 with 0 Axes>"
      ]
     },
     "metadata": {},
     "output_type": "display_data"
    },
    {
     "data": {
      "text/plain": [
       "<Figure size 2304x1152 with 0 Axes>"
      ]
     },
     "metadata": {},
     "output_type": "display_data"
    },
    {
     "data": {
      "text/plain": [
       "<Figure size 2304x1152 with 0 Axes>"
      ]
     },
     "metadata": {},
     "output_type": "display_data"
    },
    {
     "data": {
      "text/plain": [
       "<Figure size 2304x1152 with 0 Axes>"
      ]
     },
     "metadata": {},
     "output_type": "display_data"
    },
    {
     "data": {
      "text/plain": [
       "<Figure size 2304x1152 with 0 Axes>"
      ]
     },
     "metadata": {},
     "output_type": "display_data"
    },
    {
     "data": {
      "text/plain": [
       "<Figure size 2304x1152 with 0 Axes>"
      ]
     },
     "metadata": {},
     "output_type": "display_data"
    },
    {
     "data": {
      "text/plain": [
       "<Figure size 2304x1152 with 0 Axes>"
      ]
     },
     "metadata": {},
     "output_type": "display_data"
    },
    {
     "data": {
      "text/plain": [
       "<Figure size 2304x1152 with 0 Axes>"
      ]
     },
     "metadata": {},
     "output_type": "display_data"
    },
    {
     "data": {
      "text/plain": [
       "<Figure size 2304x1152 with 0 Axes>"
      ]
     },
     "metadata": {},
     "output_type": "display_data"
    },
    {
     "data": {
      "text/plain": [
       "<Figure size 2304x1152 with 0 Axes>"
      ]
     },
     "metadata": {},
     "output_type": "display_data"
    },
    {
     "data": {
      "text/plain": [
       "<Figure size 2304x1152 with 0 Axes>"
      ]
     },
     "metadata": {},
     "output_type": "display_data"
    },
    {
     "data": {
      "text/plain": [
       "<Figure size 2304x1152 with 0 Axes>"
      ]
     },
     "metadata": {},
     "output_type": "display_data"
    },
    {
     "data": {
      "text/plain": [
       "<Figure size 2304x1152 with 0 Axes>"
      ]
     },
     "metadata": {},
     "output_type": "display_data"
    },
    {
     "data": {
      "text/plain": [
       "<Figure size 2304x1152 with 0 Axes>"
      ]
     },
     "metadata": {},
     "output_type": "display_data"
    },
    {
     "data": {
      "text/plain": [
       "<Figure size 2304x1152 with 0 Axes>"
      ]
     },
     "metadata": {},
     "output_type": "display_data"
    },
    {
     "data": {
      "text/plain": [
       "<Figure size 2304x1152 with 0 Axes>"
      ]
     },
     "metadata": {},
     "output_type": "display_data"
    },
    {
     "data": {
      "text/plain": [
       "<Figure size 2304x1152 with 0 Axes>"
      ]
     },
     "metadata": {},
     "output_type": "display_data"
    },
    {
     "data": {
      "text/plain": [
       "<Figure size 2304x1152 with 0 Axes>"
      ]
     },
     "metadata": {},
     "output_type": "display_data"
    },
    {
     "data": {
      "text/plain": [
       "<Figure size 2304x1152 with 0 Axes>"
      ]
     },
     "metadata": {},
     "output_type": "display_data"
    },
    {
     "data": {
      "text/plain": [
       "<Figure size 2304x1152 with 0 Axes>"
      ]
     },
     "metadata": {},
     "output_type": "display_data"
    },
    {
     "data": {
      "text/plain": [
       "<Figure size 2304x1152 with 0 Axes>"
      ]
     },
     "metadata": {},
     "output_type": "display_data"
    },
    {
     "data": {
      "text/plain": [
       "<Figure size 2304x1152 with 0 Axes>"
      ]
     },
     "metadata": {},
     "output_type": "display_data"
    },
    {
     "data": {
      "text/plain": [
       "<Figure size 2304x1152 with 0 Axes>"
      ]
     },
     "metadata": {},
     "output_type": "display_data"
    },
    {
     "data": {
      "text/plain": [
       "<Figure size 2304x1152 with 0 Axes>"
      ]
     },
     "metadata": {},
     "output_type": "display_data"
    },
    {
     "data": {
      "text/plain": [
       "<Figure size 2304x1152 with 0 Axes>"
      ]
     },
     "metadata": {},
     "output_type": "display_data"
    },
    {
     "data": {
      "text/plain": [
       "<Figure size 2304x1152 with 0 Axes>"
      ]
     },
     "metadata": {},
     "output_type": "display_data"
    },
    {
     "data": {
      "text/plain": [
       "<Figure size 2304x1152 with 0 Axes>"
      ]
     },
     "metadata": {},
     "output_type": "display_data"
    },
    {
     "data": {
      "text/plain": [
       "<Figure size 2304x1152 with 0 Axes>"
      ]
     },
     "metadata": {},
     "output_type": "display_data"
    },
    {
     "data": {
      "text/plain": [
       "<Figure size 2304x1152 with 0 Axes>"
      ]
     },
     "metadata": {},
     "output_type": "display_data"
    },
    {
     "data": {
      "text/plain": [
       "<Figure size 2304x1152 with 0 Axes>"
      ]
     },
     "metadata": {},
     "output_type": "display_data"
    },
    {
     "data": {
      "text/plain": [
       "<Figure size 2304x1152 with 0 Axes>"
      ]
     },
     "metadata": {},
     "output_type": "display_data"
    },
    {
     "data": {
      "text/plain": [
       "<Figure size 2304x1152 with 0 Axes>"
      ]
     },
     "metadata": {},
     "output_type": "display_data"
    },
    {
     "data": {
      "text/plain": [
       "<Figure size 2304x1152 with 0 Axes>"
      ]
     },
     "metadata": {},
     "output_type": "display_data"
    },
    {
     "data": {
      "text/plain": [
       "<Figure size 2304x1152 with 0 Axes>"
      ]
     },
     "metadata": {},
     "output_type": "display_data"
    },
    {
     "data": {
      "text/plain": [
       "<Figure size 2304x1152 with 0 Axes>"
      ]
     },
     "metadata": {},
     "output_type": "display_data"
    },
    {
     "data": {
      "text/plain": [
       "<Figure size 2304x1152 with 0 Axes>"
      ]
     },
     "metadata": {},
     "output_type": "display_data"
    },
    {
     "data": {
      "text/plain": [
       "<Figure size 2304x1152 with 0 Axes>"
      ]
     },
     "metadata": {},
     "output_type": "display_data"
    },
    {
     "data": {
      "text/plain": [
       "<Figure size 2304x1152 with 0 Axes>"
      ]
     },
     "metadata": {},
     "output_type": "display_data"
    },
    {
     "data": {
      "text/plain": [
       "<Figure size 2304x1152 with 0 Axes>"
      ]
     },
     "metadata": {},
     "output_type": "display_data"
    },
    {
     "data": {
      "text/plain": [
       "<Figure size 2304x1152 with 0 Axes>"
      ]
     },
     "metadata": {},
     "output_type": "display_data"
    },
    {
     "data": {
      "text/plain": [
       "<Figure size 2304x1152 with 0 Axes>"
      ]
     },
     "metadata": {},
     "output_type": "display_data"
    },
    {
     "data": {
      "text/plain": [
       "<Figure size 2304x1152 with 0 Axes>"
      ]
     },
     "metadata": {},
     "output_type": "display_data"
    },
    {
     "data": {
      "text/plain": [
       "<Figure size 2304x1152 with 0 Axes>"
      ]
     },
     "metadata": {},
     "output_type": "display_data"
    },
    {
     "data": {
      "text/plain": [
       "<Figure size 2304x1152 with 0 Axes>"
      ]
     },
     "metadata": {},
     "output_type": "display_data"
    },
    {
     "data": {
      "text/plain": [
       "<Figure size 2304x1152 with 0 Axes>"
      ]
     },
     "metadata": {},
     "output_type": "display_data"
    },
    {
     "data": {
      "text/plain": [
       "<Figure size 2304x1152 with 0 Axes>"
      ]
     },
     "metadata": {},
     "output_type": "display_data"
    },
    {
     "data": {
      "text/plain": [
       "<Figure size 2304x1152 with 0 Axes>"
      ]
     },
     "metadata": {},
     "output_type": "display_data"
    },
    {
     "data": {
      "text/plain": [
       "<Figure size 2304x1152 with 0 Axes>"
      ]
     },
     "metadata": {},
     "output_type": "display_data"
    },
    {
     "data": {
      "text/plain": [
       "<Figure size 2304x1152 with 0 Axes>"
      ]
     },
     "metadata": {},
     "output_type": "display_data"
    },
    {
     "data": {
      "text/plain": [
       "<Figure size 2304x1152 with 0 Axes>"
      ]
     },
     "metadata": {},
     "output_type": "display_data"
    },
    {
     "data": {
      "text/plain": [
       "<Figure size 2304x1152 with 0 Axes>"
      ]
     },
     "metadata": {},
     "output_type": "display_data"
    },
    {
     "data": {
      "text/plain": [
       "<Figure size 2304x1152 with 0 Axes>"
      ]
     },
     "metadata": {},
     "output_type": "display_data"
    },
    {
     "data": {
      "text/plain": [
       "<Figure size 2304x1152 with 0 Axes>"
      ]
     },
     "metadata": {},
     "output_type": "display_data"
    },
    {
     "data": {
      "text/plain": [
       "<Figure size 2304x1152 with 0 Axes>"
      ]
     },
     "metadata": {},
     "output_type": "display_data"
    },
    {
     "data": {
      "text/plain": [
       "<Figure size 2304x1152 with 0 Axes>"
      ]
     },
     "metadata": {},
     "output_type": "display_data"
    },
    {
     "data": {
      "text/plain": [
       "<Figure size 2304x1152 with 0 Axes>"
      ]
     },
     "metadata": {},
     "output_type": "display_data"
    },
    {
     "data": {
      "text/plain": [
       "<Figure size 2304x1152 with 0 Axes>"
      ]
     },
     "metadata": {},
     "output_type": "display_data"
    },
    {
     "data": {
      "text/plain": [
       "<Figure size 2304x1152 with 0 Axes>"
      ]
     },
     "metadata": {},
     "output_type": "display_data"
    },
    {
     "data": {
      "text/plain": [
       "<Figure size 2304x1152 with 0 Axes>"
      ]
     },
     "metadata": {},
     "output_type": "display_data"
    },
    {
     "data": {
      "text/plain": [
       "<Figure size 2304x1152 with 0 Axes>"
      ]
     },
     "metadata": {},
     "output_type": "display_data"
    },
    {
     "data": {
      "text/plain": [
       "<Figure size 2304x1152 with 0 Axes>"
      ]
     },
     "metadata": {},
     "output_type": "display_data"
    },
    {
     "data": {
      "text/plain": [
       "<Figure size 2304x1152 with 0 Axes>"
      ]
     },
     "metadata": {},
     "output_type": "display_data"
    },
    {
     "data": {
      "text/plain": [
       "<Figure size 2304x1152 with 0 Axes>"
      ]
     },
     "metadata": {},
     "output_type": "display_data"
    },
    {
     "data": {
      "text/plain": [
       "<Figure size 2304x1152 with 0 Axes>"
      ]
     },
     "metadata": {},
     "output_type": "display_data"
    },
    {
     "data": {
      "text/plain": [
       "<Figure size 2304x1152 with 0 Axes>"
      ]
     },
     "metadata": {},
     "output_type": "display_data"
    },
    {
     "data": {
      "text/plain": [
       "<Figure size 2304x1152 with 0 Axes>"
      ]
     },
     "metadata": {},
     "output_type": "display_data"
    },
    {
     "data": {
      "text/plain": [
       "<Figure size 2304x1152 with 0 Axes>"
      ]
     },
     "metadata": {},
     "output_type": "display_data"
    },
    {
     "data": {
      "text/plain": [
       "<Figure size 2304x1152 with 0 Axes>"
      ]
     },
     "metadata": {},
     "output_type": "display_data"
    },
    {
     "data": {
      "text/plain": [
       "<Figure size 2304x1152 with 0 Axes>"
      ]
     },
     "metadata": {},
     "output_type": "display_data"
    },
    {
     "data": {
      "text/plain": [
       "<Figure size 2304x1152 with 0 Axes>"
      ]
     },
     "metadata": {},
     "output_type": "display_data"
    },
    {
     "data": {
      "text/plain": [
       "<Figure size 2304x1152 with 0 Axes>"
      ]
     },
     "metadata": {},
     "output_type": "display_data"
    },
    {
     "data": {
      "text/plain": [
       "<Figure size 2304x1152 with 0 Axes>"
      ]
     },
     "metadata": {},
     "output_type": "display_data"
    },
    {
     "data": {
      "text/plain": [
       "<Figure size 2304x1152 with 0 Axes>"
      ]
     },
     "metadata": {},
     "output_type": "display_data"
    },
    {
     "data": {
      "text/plain": [
       "<Figure size 2304x1152 with 0 Axes>"
      ]
     },
     "metadata": {},
     "output_type": "display_data"
    },
    {
     "data": {
      "text/plain": [
       "<Figure size 2304x1152 with 0 Axes>"
      ]
     },
     "metadata": {},
     "output_type": "display_data"
    },
    {
     "data": {
      "text/plain": [
       "<Figure size 2304x1152 with 0 Axes>"
      ]
     },
     "metadata": {},
     "output_type": "display_data"
    },
    {
     "data": {
      "text/plain": [
       "<Figure size 2304x1152 with 0 Axes>"
      ]
     },
     "metadata": {},
     "output_type": "display_data"
    },
    {
     "data": {
      "text/plain": [
       "<Figure size 2304x1152 with 0 Axes>"
      ]
     },
     "metadata": {},
     "output_type": "display_data"
    },
    {
     "data": {
      "text/plain": [
       "<Figure size 2304x1152 with 0 Axes>"
      ]
     },
     "metadata": {},
     "output_type": "display_data"
    },
    {
     "data": {
      "text/plain": [
       "<Figure size 2304x1152 with 0 Axes>"
      ]
     },
     "metadata": {},
     "output_type": "display_data"
    },
    {
     "data": {
      "text/plain": [
       "<Figure size 2304x1152 with 0 Axes>"
      ]
     },
     "metadata": {},
     "output_type": "display_data"
    },
    {
     "data": {
      "text/plain": [
       "<Figure size 2304x1152 with 0 Axes>"
      ]
     },
     "metadata": {},
     "output_type": "display_data"
    },
    {
     "data": {
      "text/plain": [
       "<Figure size 2304x1152 with 0 Axes>"
      ]
     },
     "metadata": {},
     "output_type": "display_data"
    },
    {
     "data": {
      "text/plain": [
       "<Figure size 2304x1152 with 0 Axes>"
      ]
     },
     "metadata": {},
     "output_type": "display_data"
    },
    {
     "data": {
      "text/plain": [
       "<Figure size 2304x1152 with 0 Axes>"
      ]
     },
     "metadata": {},
     "output_type": "display_data"
    },
    {
     "data": {
      "text/plain": [
       "<Figure size 2304x1152 with 0 Axes>"
      ]
     },
     "metadata": {},
     "output_type": "display_data"
    },
    {
     "data": {
      "text/plain": [
       "<Figure size 2304x1152 with 0 Axes>"
      ]
     },
     "metadata": {},
     "output_type": "display_data"
    },
    {
     "data": {
      "text/plain": [
       "<Figure size 2304x1152 with 0 Axes>"
      ]
     },
     "metadata": {},
     "output_type": "display_data"
    },
    {
     "data": {
      "text/plain": [
       "<Figure size 2304x1152 with 0 Axes>"
      ]
     },
     "metadata": {},
     "output_type": "display_data"
    },
    {
     "data": {
      "text/plain": [
       "<Figure size 2304x1152 with 0 Axes>"
      ]
     },
     "metadata": {},
     "output_type": "display_data"
    },
    {
     "data": {
      "text/plain": [
       "<Figure size 2304x1152 with 0 Axes>"
      ]
     },
     "metadata": {},
     "output_type": "display_data"
    },
    {
     "data": {
      "text/plain": [
       "<Figure size 2304x1152 with 0 Axes>"
      ]
     },
     "metadata": {},
     "output_type": "display_data"
    },
    {
     "data": {
      "text/plain": [
       "<Figure size 2304x1152 with 0 Axes>"
      ]
     },
     "metadata": {},
     "output_type": "display_data"
    },
    {
     "data": {
      "text/plain": [
       "<Figure size 2304x1152 with 0 Axes>"
      ]
     },
     "metadata": {},
     "output_type": "display_data"
    },
    {
     "data": {
      "text/plain": [
       "<Figure size 2304x1152 with 0 Axes>"
      ]
     },
     "metadata": {},
     "output_type": "display_data"
    },
    {
     "data": {
      "text/plain": [
       "<Figure size 2304x1152 with 0 Axes>"
      ]
     },
     "metadata": {},
     "output_type": "display_data"
    },
    {
     "data": {
      "text/plain": [
       "<Figure size 2304x1152 with 0 Axes>"
      ]
     },
     "metadata": {},
     "output_type": "display_data"
    },
    {
     "data": {
      "text/plain": [
       "<Figure size 2304x1152 with 0 Axes>"
      ]
     },
     "metadata": {},
     "output_type": "display_data"
    },
    {
     "data": {
      "text/plain": [
       "<Figure size 2304x1152 with 0 Axes>"
      ]
     },
     "metadata": {},
     "output_type": "display_data"
    },
    {
     "data": {
      "text/plain": [
       "<Figure size 2304x1152 with 0 Axes>"
      ]
     },
     "metadata": {},
     "output_type": "display_data"
    },
    {
     "data": {
      "text/plain": [
       "<Figure size 2304x1152 with 0 Axes>"
      ]
     },
     "metadata": {},
     "output_type": "display_data"
    },
    {
     "data": {
      "text/plain": [
       "<Figure size 2304x1152 with 0 Axes>"
      ]
     },
     "metadata": {},
     "output_type": "display_data"
    },
    {
     "data": {
      "text/plain": [
       "<Figure size 2304x1152 with 0 Axes>"
      ]
     },
     "metadata": {},
     "output_type": "display_data"
    },
    {
     "data": {
      "text/plain": [
       "<Figure size 2304x1152 with 0 Axes>"
      ]
     },
     "metadata": {},
     "output_type": "display_data"
    },
    {
     "data": {
      "text/plain": [
       "<Figure size 2304x1152 with 0 Axes>"
      ]
     },
     "metadata": {},
     "output_type": "display_data"
    },
    {
     "data": {
      "text/plain": [
       "<Figure size 2304x1152 with 0 Axes>"
      ]
     },
     "metadata": {},
     "output_type": "display_data"
    },
    {
     "data": {
      "text/plain": [
       "<Figure size 2304x1152 with 0 Axes>"
      ]
     },
     "metadata": {},
     "output_type": "display_data"
    },
    {
     "data": {
      "text/plain": [
       "<Figure size 2304x1152 with 0 Axes>"
      ]
     },
     "metadata": {},
     "output_type": "display_data"
    },
    {
     "data": {
      "text/plain": [
       "<Figure size 2304x1152 with 0 Axes>"
      ]
     },
     "metadata": {},
     "output_type": "display_data"
    },
    {
     "data": {
      "text/plain": [
       "<Figure size 2304x1152 with 0 Axes>"
      ]
     },
     "metadata": {},
     "output_type": "display_data"
    },
    {
     "data": {
      "text/plain": [
       "<Figure size 2304x1152 with 0 Axes>"
      ]
     },
     "metadata": {},
     "output_type": "display_data"
    },
    {
     "data": {
      "text/plain": [
       "<Figure size 2304x1152 with 0 Axes>"
      ]
     },
     "metadata": {},
     "output_type": "display_data"
    },
    {
     "data": {
      "text/plain": [
       "<Figure size 2304x1152 with 0 Axes>"
      ]
     },
     "metadata": {},
     "output_type": "display_data"
    },
    {
     "data": {
      "text/plain": [
       "<Figure size 2304x1152 with 0 Axes>"
      ]
     },
     "metadata": {},
     "output_type": "display_data"
    },
    {
     "data": {
      "text/plain": [
       "<Figure size 2304x1152 with 0 Axes>"
      ]
     },
     "metadata": {},
     "output_type": "display_data"
    },
    {
     "data": {
      "text/plain": [
       "<Figure size 2304x1152 with 0 Axes>"
      ]
     },
     "metadata": {},
     "output_type": "display_data"
    },
    {
     "data": {
      "text/plain": [
       "<Figure size 2304x1152 with 0 Axes>"
      ]
     },
     "metadata": {},
     "output_type": "display_data"
    },
    {
     "data": {
      "text/plain": [
       "<Figure size 2304x1152 with 0 Axes>"
      ]
     },
     "metadata": {},
     "output_type": "display_data"
    },
    {
     "data": {
      "text/plain": [
       "<Figure size 2304x1152 with 0 Axes>"
      ]
     },
     "metadata": {},
     "output_type": "display_data"
    },
    {
     "data": {
      "text/plain": [
       "<Figure size 2304x1152 with 0 Axes>"
      ]
     },
     "metadata": {},
     "output_type": "display_data"
    },
    {
     "data": {
      "text/plain": [
       "<Figure size 2304x1152 with 0 Axes>"
      ]
     },
     "metadata": {},
     "output_type": "display_data"
    },
    {
     "data": {
      "text/plain": [
       "<Figure size 2304x1152 with 0 Axes>"
      ]
     },
     "metadata": {},
     "output_type": "display_data"
    },
    {
     "data": {
      "text/plain": [
       "<Figure size 2304x1152 with 0 Axes>"
      ]
     },
     "metadata": {},
     "output_type": "display_data"
    },
    {
     "data": {
      "text/plain": [
       "<Figure size 2304x1152 with 0 Axes>"
      ]
     },
     "metadata": {},
     "output_type": "display_data"
    },
    {
     "data": {
      "text/plain": [
       "<Figure size 2304x1152 with 0 Axes>"
      ]
     },
     "metadata": {},
     "output_type": "display_data"
    },
    {
     "data": {
      "text/plain": [
       "<Figure size 2304x1152 with 0 Axes>"
      ]
     },
     "metadata": {},
     "output_type": "display_data"
    },
    {
     "data": {
      "text/plain": [
       "<Figure size 2304x1152 with 0 Axes>"
      ]
     },
     "metadata": {},
     "output_type": "display_data"
    },
    {
     "data": {
      "text/plain": [
       "<Figure size 2304x1152 with 0 Axes>"
      ]
     },
     "metadata": {},
     "output_type": "display_data"
    },
    {
     "data": {
      "text/plain": [
       "<Figure size 2304x1152 with 0 Axes>"
      ]
     },
     "metadata": {},
     "output_type": "display_data"
    },
    {
     "data": {
      "text/plain": [
       "<Figure size 2304x1152 with 0 Axes>"
      ]
     },
     "metadata": {},
     "output_type": "display_data"
    },
    {
     "data": {
      "text/plain": [
       "<Figure size 2304x1152 with 0 Axes>"
      ]
     },
     "metadata": {},
     "output_type": "display_data"
    },
    {
     "data": {
      "text/plain": [
       "<Figure size 2304x1152 with 0 Axes>"
      ]
     },
     "metadata": {},
     "output_type": "display_data"
    },
    {
     "data": {
      "text/plain": [
       "<Figure size 2304x1152 with 0 Axes>"
      ]
     },
     "metadata": {},
     "output_type": "display_data"
    },
    {
     "data": {
      "text/plain": [
       "<Figure size 2304x1152 with 0 Axes>"
      ]
     },
     "metadata": {},
     "output_type": "display_data"
    },
    {
     "data": {
      "text/plain": [
       "<Figure size 2304x1152 with 0 Axes>"
      ]
     },
     "metadata": {},
     "output_type": "display_data"
    },
    {
     "data": {
      "text/plain": [
       "<Figure size 2304x1152 with 0 Axes>"
      ]
     },
     "metadata": {},
     "output_type": "display_data"
    },
    {
     "data": {
      "text/plain": [
       "<Figure size 2304x1152 with 0 Axes>"
      ]
     },
     "metadata": {},
     "output_type": "display_data"
    },
    {
     "data": {
      "text/plain": [
       "<Figure size 2304x1152 with 0 Axes>"
      ]
     },
     "metadata": {},
     "output_type": "display_data"
    },
    {
     "data": {
      "text/plain": [
       "<Figure size 2304x1152 with 0 Axes>"
      ]
     },
     "metadata": {},
     "output_type": "display_data"
    },
    {
     "data": {
      "text/plain": [
       "<Figure size 2304x1152 with 0 Axes>"
      ]
     },
     "metadata": {},
     "output_type": "display_data"
    },
    {
     "data": {
      "text/plain": [
       "<Figure size 2304x1152 with 0 Axes>"
      ]
     },
     "metadata": {},
     "output_type": "display_data"
    },
    {
     "data": {
      "text/plain": [
       "<Figure size 2304x1152 with 0 Axes>"
      ]
     },
     "metadata": {},
     "output_type": "display_data"
    },
    {
     "data": {
      "text/plain": [
       "<Figure size 2304x1152 with 0 Axes>"
      ]
     },
     "metadata": {},
     "output_type": "display_data"
    },
    {
     "data": {
      "text/plain": [
       "<Figure size 2304x1152 with 0 Axes>"
      ]
     },
     "metadata": {},
     "output_type": "display_data"
    },
    {
     "data": {
      "text/plain": [
       "<Figure size 2304x1152 with 0 Axes>"
      ]
     },
     "metadata": {},
     "output_type": "display_data"
    },
    {
     "data": {
      "text/plain": [
       "<Figure size 2304x1152 with 0 Axes>"
      ]
     },
     "metadata": {},
     "output_type": "display_data"
    },
    {
     "data": {
      "text/plain": [
       "<Figure size 2304x1152 with 0 Axes>"
      ]
     },
     "metadata": {},
     "output_type": "display_data"
    },
    {
     "data": {
      "text/plain": [
       "<Figure size 2304x1152 with 0 Axes>"
      ]
     },
     "metadata": {},
     "output_type": "display_data"
    },
    {
     "data": {
      "text/plain": [
       "<Figure size 2304x1152 with 0 Axes>"
      ]
     },
     "metadata": {},
     "output_type": "display_data"
    },
    {
     "data": {
      "text/plain": [
       "<Figure size 2304x1152 with 0 Axes>"
      ]
     },
     "metadata": {},
     "output_type": "display_data"
    },
    {
     "data": {
      "text/plain": [
       "<Figure size 2304x1152 with 0 Axes>"
      ]
     },
     "metadata": {},
     "output_type": "display_data"
    },
    {
     "data": {
      "text/plain": [
       "<Figure size 2304x1152 with 0 Axes>"
      ]
     },
     "metadata": {},
     "output_type": "display_data"
    },
    {
     "data": {
      "text/plain": [
       "<Figure size 2304x1152 with 0 Axes>"
      ]
     },
     "metadata": {},
     "output_type": "display_data"
    },
    {
     "data": {
      "text/plain": [
       "<Figure size 2304x1152 with 0 Axes>"
      ]
     },
     "metadata": {},
     "output_type": "display_data"
    },
    {
     "data": {
      "text/plain": [
       "<Figure size 2304x1152 with 0 Axes>"
      ]
     },
     "metadata": {},
     "output_type": "display_data"
    },
    {
     "data": {
      "text/plain": [
       "<Figure size 2304x1152 with 0 Axes>"
      ]
     },
     "metadata": {},
     "output_type": "display_data"
    },
    {
     "data": {
      "text/plain": [
       "<Figure size 2304x1152 with 0 Axes>"
      ]
     },
     "metadata": {},
     "output_type": "display_data"
    },
    {
     "data": {
      "text/plain": [
       "<Figure size 2304x1152 with 0 Axes>"
      ]
     },
     "metadata": {},
     "output_type": "display_data"
    },
    {
     "data": {
      "text/plain": [
       "<Figure size 2304x1152 with 0 Axes>"
      ]
     },
     "metadata": {},
     "output_type": "display_data"
    },
    {
     "data": {
      "text/plain": [
       "<Figure size 2304x1152 with 0 Axes>"
      ]
     },
     "metadata": {},
     "output_type": "display_data"
    },
    {
     "data": {
      "text/plain": [
       "<Figure size 2304x1152 with 0 Axes>"
      ]
     },
     "metadata": {},
     "output_type": "display_data"
    },
    {
     "data": {
      "text/plain": [
       "<Figure size 2304x1152 with 0 Axes>"
      ]
     },
     "metadata": {},
     "output_type": "display_data"
    },
    {
     "data": {
      "text/plain": [
       "<Figure size 2304x1152 with 0 Axes>"
      ]
     },
     "metadata": {},
     "output_type": "display_data"
    },
    {
     "data": {
      "text/plain": [
       "<Figure size 2304x1152 with 0 Axes>"
      ]
     },
     "metadata": {},
     "output_type": "display_data"
    }
   ],
   "source": [
    "FOLDER_ROOT='Z:\\\\BRINGUP\\\\adc_measurements\\\\B0_Bringup\\\\ADC_Char\\\\'\n",
    "\n",
    "PARTS = glob.glob(FOLDER_ROOT+'*')\n",
    "PARTS = [i.split('\\\\')[-1] for i in PARTS]\n",
    "\n",
    "PARTS = ['S52_53G',\n",
    " 'F51_53G',\n",
    " 'F52_53G',\n",
    " 'F53_53G',\n",
    " 'F54_53G',\n",
    " 'P6_53G',\n",
    " 'PB10_53G',\n",
    " 'PB13_53G',\n",
    " 'PB29_53G',\n",
    " 'PB30_53G',\n",
    " 'PB5_53G',\n",
    " 'PB6_53G',\n",
    " 'PF53_53G',\n",
    " 'PS51_53G',\n",
    " 'PS53_53G',\n",
    " 'S50_53G',\n",
    " 'S51_53G',\n",
    " 'S53_53G',\n",
    " 'S54_53G',\n",
    " 'T50_53G',\n",
    " 'T51_53G',\n",
    " 'T52_53G',\n",
    " 'T53_53G',\n",
    " 'T54_53G',\n",
    " 'TT50_53G',\n",
    " 'F50_53G']\n",
    "\n",
    "\n",
    "PARTS = ['S52_51G',\n",
    " 'F51_51G',\n",
    " 'F52_51G',\n",
    " 'F53_51G',\n",
    " 'F54_51G',\n",
    " 'S50_51G',\n",
    " 'S51_51G',\n",
    " 'S53_51G',\n",
    " 'S54_51G',\n",
    " 'T50_51G',\n",
    " 'T51_51G',\n",
    " 'T52_51G',\n",
    " 'T53_51G',\n",
    " 'T54_51G',\n",
    " 'TT50_51G',\n",
    " 'F50_51G']\n",
    "\n",
    "PARTS = ['F53_816_85_53G']\n",
    "\n",
    "\n",
    "FOLDER_ROOT='C:\\\\jupyter\\\\EVK\\\\logs\\\\233\\\\'\n",
    "PARTS = ['skew1_coherent_0.2.5_m2dB']\n",
    "SWEEPS = ['freq_sweep']\n",
    "\n",
    "FOLDER_ROOT='C:\\\\jupyter\\\\EVK\\\\logs\\\\35_SC\\\\'\n",
    "PARTS=['CRB_Fsweepcrb35_53G']\n",
    "SWEEPS = ['freq_sweep']\n",
    "\n",
    "\n",
    "BINSS = [[2153,2113], [3347,3391], [1693, 1741], [5039, 5119], [881,941], [251,269]]\n",
    "\n",
    "for PART in PARTS[::1]:\n",
    "    PROCESS=PART[0:2]\n",
    "    pdfName=FOLDER_ROOT+'HIST_OVERLAP_ANALYSIS_CHAR_{}_ALL.pdf'.format(PART)\n",
    "    with PdfPages(pdfName) as pdf:\n",
    "        for SWEEP in SWEEPS:\n",
    "            FOLDER = FOLDER_ROOT  + PART +  '\\\\' + SWEEP +'\\\\' \n",
    "            fnames = glob.glob(FOLDER+'Bin*.txt')\n",
    "            BINS = np.sort(np.unique([fname.split('Bin')[1].split('_')[0] for fname in fnames]))\n",
    "            BINS = np.sort([int(i) for i in BINS])\n",
    "            BINSS = [[BINS[i],BINS[i+1]] for i in range(len(BINS)-1)]\n",
    "            print(BINSS)\n",
    "            for BINS in BINSS:\n",
    "                print(BINS)\n",
    "                FOLDER = FOLDER_ROOT  + PART +  '\\\\' + SWEEP +'\\\\' \n",
    "                print(BINS[0])\n",
    "                fnames = glob.glob(FOLDER+'Bin{}_*.txt'.format(BINS[0]))\n",
    "                for each in fnames:\n",
    "                    print(each)\n",
    "                \n",
    "                for fname in fnames:\n",
    "                    print(fname, fname.replace('Bin{}'.format(BINS[0]),'Bin{}'.format(BINS[1])))\n",
    "                    fig=plt.figure(figsize=(32,16))\n",
    "\n",
    "                    DATA = np.loadtxt(fname)\n",
    "                    DATA0 = DATA\n",
    "\n",
    "                    ax1=fig.add_subplot(2,1,1)\n",
    "                    ax2=fig.add_subplot(2,1,2)\n",
    "\n",
    "                    plotHistogram(fig, ax1, DATA, alpha=.5, binSize=1, ylim=500, title='')\n",
    "                    plotHistogram(fig, ax2, DATA, alpha=.5, binSize=1, ylim=500, title='', log=True)\n",
    "\n",
    "                    fname=fname.replace('Bin{}'.format(BINS[0]),'Bin{}'.format(BINS[1]))\n",
    "                    DATA = np.loadtxt(fname)\n",
    "\n",
    "                    plotHistogram(fig, ax1, DATA, alpha=.5, color='r', binSize=1, ylim=500, title='Part {} Bin {} Blue {} Red DC {} {}'.format(PART,BINS[0],BINS[1],np.mean(DATA0),np.mean(DATA)))\n",
    "                    plotHistogram(fig, ax2, DATA, alpha=.5, color='r', binSize=1, ylim=500, title='Part {} Bin {} Blue {} Red DC {} {}'.format(PART,BINS[0],BINS[1],np.mean(DATA0),np.mean(DATA)), log=True)\n",
    "                    #plt.show()\n",
    "                    #raw_input()\n",
    "                    txt = 'fname: {} {}'.format(fname, BINS)\n",
    "                    plt.text(0.05,0.95,txt, transform=fig.transFigure, size=12)\n",
    "                    pdf.savefig(fig)\n",
    "                    plt.clf()\n",
    "            "
   ]
  },
  {
   "cell_type": "code",
   "execution_count": 57,
   "metadata": {},
   "outputs": [
    {
     "data": {
      "text/plain": [
       "[1, 11]"
      ]
     },
     "execution_count": 57,
     "metadata": {},
     "output_type": "execute_result"
    }
   ],
   "source": [
    "BINS"
   ]
  },
  {
   "cell_type": "code",
   "execution_count": null,
   "metadata": {},
   "outputs": [],
   "source": []
  }
 ],
 "metadata": {
  "kernelspec": {
   "display_name": "Python 3",
   "language": "python",
   "name": "python3"
  },
  "language_info": {
   "codemirror_mode": {
    "name": "ipython",
    "version": 3
   },
   "file_extension": ".py",
   "mimetype": "text/x-python",
   "name": "python",
   "nbconvert_exporter": "python",
   "pygments_lexer": "ipython3",
   "version": "3.6.5"
  }
 },
 "nbformat": 4,
 "nbformat_minor": 2
}
